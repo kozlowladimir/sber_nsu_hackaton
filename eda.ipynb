{
 "cells": [
  {
   "cell_type": "markdown",
   "metadata": {},
   "source": [
    "Импорт необходимых библиотек"
   ]
  },
  {
   "cell_type": "code",
   "execution_count": 1,
   "metadata": {},
   "outputs": [],
   "source": [
    "import pandas as pd\n",
    "import numpy as np\n",
    "\n",
    "import matplotlib.pyplot as plt\n",
    "\n",
    "from sklearn.linear_model import LogisticRegression\n",
    "from sklearn.model_selection import GridSearchCV\n",
    "\n",
    "from sklearn.metrics import roc_auc_score\n",
    "from sklearn.metrics import roc_curve\n",
    "\n",
    "pd.options.display.max_columns=100"
   ]
  },
  {
   "cell_type": "markdown",
   "metadata": {},
   "source": [
    "Загрузка обучающего и тестового датасетов"
   ]
  },
  {
   "cell_type": "code",
   "execution_count": 2,
   "metadata": {},
   "outputs": [],
   "source": [
    "train = pd.read_csv('data/train.csv')\n",
    "test = pd.read_csv('data/test.csv')"
   ]
  },
  {
   "cell_type": "code",
   "execution_count": 3,
   "metadata": {},
   "outputs": [],
   "source": [
    "purpose = [\n",
    "    'purpose_credit_card',\n",
    "    'purpose_debt_consolidation',\n",
    "    'purpose_home_improvement',\n",
    "    'purpose_house',\n",
    "    'purpose_major_purchase',\n",
    "    'purpose_medical',\n",
    "    'purpose_moving',\n",
    "    'purpose_other',\n",
    "    'purpose_renewable_energy',\n",
    "    'purpose_small_business',\n",
    "    'purpose_vacation',\n",
    "    'purpose_wedding',\n",
    "]\n",
    "\n",
    "train['purpose'] = train[purpose].idxmax(axis=1)\n",
    "train.drop(columns=purpose, axis=1, inplace=True)\n",
    "\n",
    "test['purpose'] = test[purpose].idxmax(axis=1)\n",
    "test.drop(columns=purpose, axis=1, inplace=True)\n",
    "\n",
    "\n",
    "subgrade = [\n",
    "    'sub_grade_A1',\n",
    "    'sub_grade_A2',\n",
    "    'sub_grade_A3',\n",
    "    'sub_grade_A4',\n",
    "    'sub_grade_A5',\n",
    "    'sub_grade_B1',\n",
    "    'sub_grade_B2',\n",
    "    'sub_grade_B3',\n",
    "    'sub_grade_B4',\n",
    "    'sub_grade_B5',\n",
    "    'sub_grade_C1',\n",
    "    'sub_grade_C2',\n",
    "    'sub_grade_C3',\n",
    "    'sub_grade_C4',\n",
    "    'sub_grade_C5',\n",
    "    'sub_grade_D1',\n",
    "    'sub_grade_D2',\n",
    "    'sub_grade_D3',\n",
    "    'sub_grade_D4',\n",
    "    'sub_grade_D5',\n",
    "    'sub_grade_E1',\n",
    "    'sub_grade_E2',\n",
    "    'sub_grade_E3',\n",
    "    'sub_grade_E4',\n",
    "    'sub_grade_E5',\n",
    "    'sub_grade_F1',\n",
    "    'sub_grade_F2',\n",
    "    'sub_grade_F3',\n",
    "    'sub_grade_F4',\n",
    "    'sub_grade_F5',\n",
    "    'sub_grade_G1',\n",
    "    'sub_grade_G2',\n",
    "    'sub_grade_G3',\n",
    "    'sub_grade_G4',\n",
    "    'sub_grade_G5',\n",
    "]\n",
    "\n",
    "train['subgrade'] = train[subgrade].idxmax(axis=1)\n",
    "train.drop(columns=subgrade, axis=1, inplace=True)\n",
    "\n",
    "test['subgrade'] = test[subgrade].idxmax(axis=1)\n",
    "test.drop(columns=subgrade, axis=1, inplace=True)\n",
    "\n",
    "home_ownership = [\n",
    "    'home_ownership_MORTGAGE',\n",
    "    'home_ownership_NONE',\n",
    "    'home_ownership_OTHER',\n",
    "    'home_ownership_OWN',\n",
    "    'home_ownership_RENT'\n",
    "]\n",
    "\n",
    "train['home_ownership'] = train[home_ownership].idxmax(axis=1)\n",
    "train.drop(columns=home_ownership, axis=1, inplace=True)\n",
    "\n",
    "test['home_ownership'] = test[home_ownership].idxmax(axis=1)\n",
    "test.drop(columns=home_ownership, axis=1, inplace=True)"
   ]
  },
  {
   "cell_type": "code",
   "execution_count": 4,
   "metadata": {},
   "outputs": [
    {
     "data": {
      "text/plain": [
       "Index(['installment', 'dti', 'funded_amnt', 'annual_inc', 'emp_length', 'term',\n",
       "       'inq_last_6mths', 'mths_since_recent_inq', 'delinq_2yrs',\n",
       "       'chargeoff_within_12_mths', 'num_accts_ever_120_pd',\n",
       "       'num_tl_90g_dpd_24m', 'acc_open_past_24mths', 'avg_cur_bal',\n",
       "       'tot_hi_cred_lim', 'delinq_amnt', 'def', 'purpose_car', 'id', 'purpose',\n",
       "       'subgrade', 'home_ownership'],\n",
       "      dtype='object')"
      ]
     },
     "execution_count": 4,
     "metadata": {},
     "output_type": "execute_result"
    }
   ],
   "source": [
    "train.columns"
   ]
  },
  {
   "cell_type": "code",
   "execution_count": 5,
   "metadata": {},
   "outputs": [
    {
     "data": {
      "text/html": [
       "<div>\n",
       "<style scoped>\n",
       "    .dataframe tbody tr th:only-of-type {\n",
       "        vertical-align: middle;\n",
       "    }\n",
       "\n",
       "    .dataframe tbody tr th {\n",
       "        vertical-align: top;\n",
       "    }\n",
       "\n",
       "    .dataframe thead th {\n",
       "        text-align: right;\n",
       "    }\n",
       "</style>\n",
       "<table border=\"1\" class=\"dataframe\">\n",
       "  <thead>\n",
       "    <tr style=\"text-align: right;\">\n",
       "      <th></th>\n",
       "      <th>installment</th>\n",
       "      <th>dti</th>\n",
       "      <th>funded_amnt</th>\n",
       "      <th>annual_inc</th>\n",
       "      <th>emp_length</th>\n",
       "      <th>term</th>\n",
       "      <th>inq_last_6mths</th>\n",
       "      <th>mths_since_recent_inq</th>\n",
       "      <th>delinq_2yrs</th>\n",
       "      <th>chargeoff_within_12_mths</th>\n",
       "      <th>num_accts_ever_120_pd</th>\n",
       "      <th>num_tl_90g_dpd_24m</th>\n",
       "      <th>acc_open_past_24mths</th>\n",
       "      <th>avg_cur_bal</th>\n",
       "      <th>tot_hi_cred_lim</th>\n",
       "      <th>delinq_amnt</th>\n",
       "      <th>def</th>\n",
       "      <th>purpose_car</th>\n",
       "      <th>id</th>\n",
       "      <th>purpose</th>\n",
       "      <th>subgrade</th>\n",
       "      <th>home_ownership</th>\n",
       "    </tr>\n",
       "  </thead>\n",
       "  <tbody>\n",
       "    <tr>\n",
       "      <th>0</th>\n",
       "      <td>365.59</td>\n",
       "      <td>12.92</td>\n",
       "      <td>10500</td>\n",
       "      <td>66400.0</td>\n",
       "      <td>6.0</td>\n",
       "      <td>36</td>\n",
       "      <td>0</td>\n",
       "      <td>7.0</td>\n",
       "      <td>0</td>\n",
       "      <td>0</td>\n",
       "      <td>0.0</td>\n",
       "      <td>0.0</td>\n",
       "      <td>4.0</td>\n",
       "      <td>2879.0</td>\n",
       "      <td>35225.0</td>\n",
       "      <td>0</td>\n",
       "      <td>0</td>\n",
       "      <td>0.0</td>\n",
       "      <td>0</td>\n",
       "      <td>purpose_debt_consolidation</td>\n",
       "      <td>sub_grade_C2</td>\n",
       "      <td>home_ownership_RENT</td>\n",
       "    </tr>\n",
       "    <tr>\n",
       "      <th>1</th>\n",
       "      <td>535.54</td>\n",
       "      <td>19.11</td>\n",
       "      <td>15000</td>\n",
       "      <td>80000.0</td>\n",
       "      <td>10.0</td>\n",
       "      <td>36</td>\n",
       "      <td>1</td>\n",
       "      <td>2.0</td>\n",
       "      <td>1</td>\n",
       "      <td>0</td>\n",
       "      <td>3.0</td>\n",
       "      <td>0.0</td>\n",
       "      <td>4.0</td>\n",
       "      <td>13266.0</td>\n",
       "      <td>164512.0</td>\n",
       "      <td>0</td>\n",
       "      <td>0</td>\n",
       "      <td>0.0</td>\n",
       "      <td>1</td>\n",
       "      <td>purpose_credit_card</td>\n",
       "      <td>sub_grade_C5</td>\n",
       "      <td>home_ownership_MORTGAGE</td>\n",
       "    </tr>\n",
       "    <tr>\n",
       "      <th>2</th>\n",
       "      <td>517.16</td>\n",
       "      <td>26.55</td>\n",
       "      <td>22400</td>\n",
       "      <td>50000.0</td>\n",
       "      <td>10.0</td>\n",
       "      <td>60</td>\n",
       "      <td>4</td>\n",
       "      <td>2.0</td>\n",
       "      <td>0</td>\n",
       "      <td>0</td>\n",
       "      <td>0.0</td>\n",
       "      <td>0.0</td>\n",
       "      <td>3.0</td>\n",
       "      <td>12445.0</td>\n",
       "      <td>163277.0</td>\n",
       "      <td>0</td>\n",
       "      <td>0</td>\n",
       "      <td>0.0</td>\n",
       "      <td>2</td>\n",
       "      <td>purpose_credit_card</td>\n",
       "      <td>sub_grade_C1</td>\n",
       "      <td>home_ownership_MORTGAGE</td>\n",
       "    </tr>\n",
       "    <tr>\n",
       "      <th>3</th>\n",
       "      <td>342.66</td>\n",
       "      <td>5.74</td>\n",
       "      <td>9800</td>\n",
       "      <td>41000.0</td>\n",
       "      <td>0.0</td>\n",
       "      <td>36</td>\n",
       "      <td>1</td>\n",
       "      <td>4.0</td>\n",
       "      <td>1</td>\n",
       "      <td>0</td>\n",
       "      <td>0.0</td>\n",
       "      <td>0.0</td>\n",
       "      <td>5.0</td>\n",
       "      <td>1936.0</td>\n",
       "      <td>37600.0</td>\n",
       "      <td>0</td>\n",
       "      <td>0</td>\n",
       "      <td>0.0</td>\n",
       "      <td>3</td>\n",
       "      <td>purpose_debt_consolidation</td>\n",
       "      <td>sub_grade_C5</td>\n",
       "      <td>home_ownership_RENT</td>\n",
       "    </tr>\n",
       "    <tr>\n",
       "      <th>4</th>\n",
       "      <td>381.46</td>\n",
       "      <td>4.88</td>\n",
       "      <td>17325</td>\n",
       "      <td>74000.0</td>\n",
       "      <td>10.0</td>\n",
       "      <td>60</td>\n",
       "      <td>1</td>\n",
       "      <td>6.0</td>\n",
       "      <td>0</td>\n",
       "      <td>0</td>\n",
       "      <td>0.0</td>\n",
       "      <td>0.0</td>\n",
       "      <td>3.0</td>\n",
       "      <td>35056.0</td>\n",
       "      <td>190262.0</td>\n",
       "      <td>0</td>\n",
       "      <td>0</td>\n",
       "      <td>0.0</td>\n",
       "      <td>4</td>\n",
       "      <td>purpose_home_improvement</td>\n",
       "      <td>sub_grade_B3</td>\n",
       "      <td>home_ownership_MORTGAGE</td>\n",
       "    </tr>\n",
       "  </tbody>\n",
       "</table>\n",
       "</div>"
      ],
      "text/plain": [
       "   installment    dti  funded_amnt  annual_inc  emp_length  term  \\\n",
       "0       365.59  12.92        10500     66400.0         6.0    36   \n",
       "1       535.54  19.11        15000     80000.0        10.0    36   \n",
       "2       517.16  26.55        22400     50000.0        10.0    60   \n",
       "3       342.66   5.74         9800     41000.0         0.0    36   \n",
       "4       381.46   4.88        17325     74000.0        10.0    60   \n",
       "\n",
       "   inq_last_6mths  mths_since_recent_inq  delinq_2yrs  \\\n",
       "0               0                    7.0            0   \n",
       "1               1                    2.0            1   \n",
       "2               4                    2.0            0   \n",
       "3               1                    4.0            1   \n",
       "4               1                    6.0            0   \n",
       "\n",
       "   chargeoff_within_12_mths  num_accts_ever_120_pd  num_tl_90g_dpd_24m  \\\n",
       "0                         0                    0.0                 0.0   \n",
       "1                         0                    3.0                 0.0   \n",
       "2                         0                    0.0                 0.0   \n",
       "3                         0                    0.0                 0.0   \n",
       "4                         0                    0.0                 0.0   \n",
       "\n",
       "   acc_open_past_24mths  avg_cur_bal  tot_hi_cred_lim  delinq_amnt  def  \\\n",
       "0                   4.0       2879.0          35225.0            0    0   \n",
       "1                   4.0      13266.0         164512.0            0    0   \n",
       "2                   3.0      12445.0         163277.0            0    0   \n",
       "3                   5.0       1936.0          37600.0            0    0   \n",
       "4                   3.0      35056.0         190262.0            0    0   \n",
       "\n",
       "   purpose_car  id                     purpose      subgrade  \\\n",
       "0          0.0   0  purpose_debt_consolidation  sub_grade_C2   \n",
       "1          0.0   1         purpose_credit_card  sub_grade_C5   \n",
       "2          0.0   2         purpose_credit_card  sub_grade_C1   \n",
       "3          0.0   3  purpose_debt_consolidation  sub_grade_C5   \n",
       "4          0.0   4    purpose_home_improvement  sub_grade_B3   \n",
       "\n",
       "            home_ownership  \n",
       "0      home_ownership_RENT  \n",
       "1  home_ownership_MORTGAGE  \n",
       "2  home_ownership_MORTGAGE  \n",
       "3      home_ownership_RENT  \n",
       "4  home_ownership_MORTGAGE  "
      ]
     },
     "execution_count": 5,
     "metadata": {},
     "output_type": "execute_result"
    }
   ],
   "source": [
    "train.head()"
   ]
  },
  {
   "cell_type": "code",
   "execution_count": 6,
   "metadata": {},
   "outputs": [
    {
     "data": {
      "text/html": [
       "<div>\n",
       "<style scoped>\n",
       "    .dataframe tbody tr th:only-of-type {\n",
       "        vertical-align: middle;\n",
       "    }\n",
       "\n",
       "    .dataframe tbody tr th {\n",
       "        vertical-align: top;\n",
       "    }\n",
       "\n",
       "    .dataframe thead th {\n",
       "        text-align: right;\n",
       "    }\n",
       "</style>\n",
       "<table border=\"1\" class=\"dataframe\">\n",
       "  <thead>\n",
       "    <tr style=\"text-align: right;\">\n",
       "      <th></th>\n",
       "      <th>Unnamed: 0</th>\n",
       "      <th>installment</th>\n",
       "      <th>dti</th>\n",
       "      <th>funded_amnt</th>\n",
       "      <th>annual_inc</th>\n",
       "      <th>emp_length</th>\n",
       "      <th>term</th>\n",
       "      <th>inq_last_6mths</th>\n",
       "      <th>mths_since_recent_inq</th>\n",
       "      <th>delinq_2yrs</th>\n",
       "      <th>chargeoff_within_12_mths</th>\n",
       "      <th>num_accts_ever_120_pd</th>\n",
       "      <th>num_tl_90g_dpd_24m</th>\n",
       "      <th>acc_open_past_24mths</th>\n",
       "      <th>avg_cur_bal</th>\n",
       "      <th>tot_hi_cred_lim</th>\n",
       "      <th>delinq_amnt</th>\n",
       "      <th>purpose_car</th>\n",
       "      <th>id</th>\n",
       "      <th>purpose</th>\n",
       "      <th>subgrade</th>\n",
       "      <th>home_ownership</th>\n",
       "    </tr>\n",
       "  </thead>\n",
       "  <tbody>\n",
       "    <tr>\n",
       "      <th>0</th>\n",
       "      <td>0</td>\n",
       "      <td>468.29</td>\n",
       "      <td>23.42</td>\n",
       "      <td>14000</td>\n",
       "      <td>57640.0</td>\n",
       "      <td>10.0</td>\n",
       "      <td>36</td>\n",
       "      <td>0</td>\n",
       "      <td>10.0</td>\n",
       "      <td>0</td>\n",
       "      <td>0</td>\n",
       "      <td>1.0</td>\n",
       "      <td>0.0</td>\n",
       "      <td>2.0</td>\n",
       "      <td>6660.0</td>\n",
       "      <td>72729.0</td>\n",
       "      <td>0</td>\n",
       "      <td>0.0</td>\n",
       "      <td>0</td>\n",
       "      <td>purpose_debt_consolidation</td>\n",
       "      <td>sub_grade_B4</td>\n",
       "      <td>home_ownership_RENT</td>\n",
       "    </tr>\n",
       "    <tr>\n",
       "      <th>1</th>\n",
       "      <td>1</td>\n",
       "      <td>303.73</td>\n",
       "      <td>3.29</td>\n",
       "      <td>9000</td>\n",
       "      <td>54000.0</td>\n",
       "      <td>2.0</td>\n",
       "      <td>36</td>\n",
       "      <td>1</td>\n",
       "      <td>3.0</td>\n",
       "      <td>0</td>\n",
       "      <td>0</td>\n",
       "      <td>0.0</td>\n",
       "      <td>0.0</td>\n",
       "      <td>8.0</td>\n",
       "      <td>530.0</td>\n",
       "      <td>35900.0</td>\n",
       "      <td>0</td>\n",
       "      <td>0.0</td>\n",
       "      <td>1</td>\n",
       "      <td>purpose_credit_card</td>\n",
       "      <td>sub_grade_B4</td>\n",
       "      <td>home_ownership_RENT</td>\n",
       "    </tr>\n",
       "    <tr>\n",
       "      <th>2</th>\n",
       "      <td>2</td>\n",
       "      <td>931.19</td>\n",
       "      <td>20.80</td>\n",
       "      <td>35000</td>\n",
       "      <td>100000.0</td>\n",
       "      <td>2.0</td>\n",
       "      <td>60</td>\n",
       "      <td>0</td>\n",
       "      <td>13.0</td>\n",
       "      <td>0</td>\n",
       "      <td>0</td>\n",
       "      <td>0.0</td>\n",
       "      <td>0.0</td>\n",
       "      <td>1.0</td>\n",
       "      <td>21135.0</td>\n",
       "      <td>187270.0</td>\n",
       "      <td>0</td>\n",
       "      <td>0.0</td>\n",
       "      <td>2</td>\n",
       "      <td>purpose_debt_consolidation</td>\n",
       "      <td>sub_grade_D5</td>\n",
       "      <td>home_ownership_MORTGAGE</td>\n",
       "    </tr>\n",
       "    <tr>\n",
       "      <th>3</th>\n",
       "      <td>3</td>\n",
       "      <td>632.88</td>\n",
       "      <td>16.62</td>\n",
       "      <td>27000</td>\n",
       "      <td>98528.0</td>\n",
       "      <td>10.0</td>\n",
       "      <td>60</td>\n",
       "      <td>1</td>\n",
       "      <td>3.0</td>\n",
       "      <td>0</td>\n",
       "      <td>0</td>\n",
       "      <td>0.0</td>\n",
       "      <td>0.0</td>\n",
       "      <td>5.0</td>\n",
       "      <td>35819.0</td>\n",
       "      <td>383955.0</td>\n",
       "      <td>0</td>\n",
       "      <td>0.0</td>\n",
       "      <td>3</td>\n",
       "      <td>purpose_debt_consolidation</td>\n",
       "      <td>sub_grade_C1</td>\n",
       "      <td>home_ownership_MORTGAGE</td>\n",
       "    </tr>\n",
       "    <tr>\n",
       "      <th>4</th>\n",
       "      <td>4</td>\n",
       "      <td>144.13</td>\n",
       "      <td>7.81</td>\n",
       "      <td>4000</td>\n",
       "      <td>45000.0</td>\n",
       "      <td>10.0</td>\n",
       "      <td>36</td>\n",
       "      <td>1</td>\n",
       "      <td>1.0</td>\n",
       "      <td>2</td>\n",
       "      <td>0</td>\n",
       "      <td>0.0</td>\n",
       "      <td>2.0</td>\n",
       "      <td>3.0</td>\n",
       "      <td>9966.0</td>\n",
       "      <td>113298.0</td>\n",
       "      <td>0</td>\n",
       "      <td>0.0</td>\n",
       "      <td>4</td>\n",
       "      <td>purpose_debt_consolidation</td>\n",
       "      <td>sub_grade_D1</td>\n",
       "      <td>home_ownership_RENT</td>\n",
       "    </tr>\n",
       "  </tbody>\n",
       "</table>\n",
       "</div>"
      ],
      "text/plain": [
       "   Unnamed: 0  installment    dti  funded_amnt  annual_inc  emp_length  term  \\\n",
       "0           0       468.29  23.42        14000     57640.0        10.0    36   \n",
       "1           1       303.73   3.29         9000     54000.0         2.0    36   \n",
       "2           2       931.19  20.80        35000    100000.0         2.0    60   \n",
       "3           3       632.88  16.62        27000     98528.0        10.0    60   \n",
       "4           4       144.13   7.81         4000     45000.0        10.0    36   \n",
       "\n",
       "   inq_last_6mths  mths_since_recent_inq  delinq_2yrs  \\\n",
       "0               0                   10.0            0   \n",
       "1               1                    3.0            0   \n",
       "2               0                   13.0            0   \n",
       "3               1                    3.0            0   \n",
       "4               1                    1.0            2   \n",
       "\n",
       "   chargeoff_within_12_mths  num_accts_ever_120_pd  num_tl_90g_dpd_24m  \\\n",
       "0                         0                    1.0                 0.0   \n",
       "1                         0                    0.0                 0.0   \n",
       "2                         0                    0.0                 0.0   \n",
       "3                         0                    0.0                 0.0   \n",
       "4                         0                    0.0                 2.0   \n",
       "\n",
       "   acc_open_past_24mths  avg_cur_bal  tot_hi_cred_lim  delinq_amnt  \\\n",
       "0                   2.0       6660.0          72729.0            0   \n",
       "1                   8.0        530.0          35900.0            0   \n",
       "2                   1.0      21135.0         187270.0            0   \n",
       "3                   5.0      35819.0         383955.0            0   \n",
       "4                   3.0       9966.0         113298.0            0   \n",
       "\n",
       "   purpose_car  id                     purpose      subgrade  \\\n",
       "0          0.0   0  purpose_debt_consolidation  sub_grade_B4   \n",
       "1          0.0   1         purpose_credit_card  sub_grade_B4   \n",
       "2          0.0   2  purpose_debt_consolidation  sub_grade_D5   \n",
       "3          0.0   3  purpose_debt_consolidation  sub_grade_C1   \n",
       "4          0.0   4  purpose_debt_consolidation  sub_grade_D1   \n",
       "\n",
       "            home_ownership  \n",
       "0      home_ownership_RENT  \n",
       "1      home_ownership_RENT  \n",
       "2  home_ownership_MORTGAGE  \n",
       "3  home_ownership_MORTGAGE  \n",
       "4      home_ownership_RENT  "
      ]
     },
     "execution_count": 6,
     "metadata": {},
     "output_type": "execute_result"
    }
   ],
   "source": [
    "test.head()"
   ]
  },
  {
   "cell_type": "code",
   "execution_count": 7,
   "metadata": {},
   "outputs": [
    {
     "data": {
      "image/png": "[encoded data removed]",
      "text/plain": [
       "<Figure size 432x288 with 1 Axes>"
      ]
     },
     "metadata": {
      "needs_background": "light"
     },
     "output_type": "display_data"
    }
   ],
   "source": [
    "train['installment'].hist(bins=50, density='uniform', label='train', alpha=0.5)\n",
    "test['installment'].hist(bins=50, density='uniform', label='test', alpha=0.5)\n",
    "plt.legend()\n",
    "plt.show()"
   ]
  },
  {
   "cell_type": "code",
   "execution_count": 8,
   "metadata": {},
   "outputs": [
    {
     "data": {
      "image/png": "[encoded data removed]",
      "text/plain": [
       "<Figure size 432x288 with 1 Axes>"
      ]
     },
     "metadata": {
      "needs_background": "light"
     },
     "output_type": "display_data"
    }
   ],
   "source": [
    "train['dti'].hist(bins=50, density='uniform', label='train', alpha=0.5)\n",
    "test['dti'].hist(bins=50, density='uniform', label='test', alpha=0.5)\n",
    "plt.legend()\n",
    "plt.show()"
   ]
  },
  {
   "cell_type": "code",
   "execution_count": 9,
   "metadata": {},
   "outputs": [
    {
     "data": {
      "image/png": "[encoded data removed]",
      "text/plain": [
       "<Figure size 432x288 with 1 Axes>"
      ]
     },
     "metadata": {
      "needs_background": "light"
     },
     "output_type": "display_data"
    }
   ],
   "source": [
    "feature = 'funded_amnt'\n",
    "train[feature].hist(bins=50, density='uniform', label='train', alpha=0.5)\n",
    "test[feature].hist(bins=50, density='uniform', label='test', alpha=0.5)\n",
    "plt.legend()\n",
    "plt.show()"
   ]
  },
  {
   "cell_type": "code",
   "execution_count": 10,
   "metadata": {},
   "outputs": [
    {
     "data": {
      "image/png": "[encoded data removed]",
      "text/plain": [
       "<Figure size 432x288 with 1 Axes>"
      ]
     },
     "metadata": {
      "needs_background": "light"
     },
     "output_type": "display_data"
    }
   ],
   "source": [
    "feature = 'annual_inc'\n",
    "train[feature].clip(0, 300000).hist(bins=50, density='uniform', label='train', alpha=0.5)\n",
    "test[feature].clip(0, 300000).hist(bins=50, density='uniform', label='test', alpha=0.5)\n",
    "plt.legend()\n",
    "plt.show()"
   ]
  },
  {
   "cell_type": "code",
   "execution_count": 11,
   "metadata": {},
   "outputs": [
    {
     "data": {
      "image/png": "[encoded data removed]",
      "text/plain": [
       "<Figure size 432x288 with 1 Axes>"
      ]
     },
     "metadata": {
      "needs_background": "light"
     },
     "output_type": "display_data"
    }
   ],
   "source": [
    "feature = 'emp_length'\n",
    "train[feature].clip(0, 300000).hist(bins=50, density='uniform', label='train', alpha=0.5)\n",
    "test[feature].clip(0, 300000).hist(bins=50, density='uniform', label='test', alpha=0.5)\n",
    "plt.legend()\n",
    "plt.show()"
   ]
  },
  {
   "cell_type": "code",
   "execution_count": 12,
   "metadata": {},
   "outputs": [
    {
     "data": {
      "image/png": "[encoded data removed]",
      "text/plain": [
       "<Figure size 432x288 with 1 Axes>"
      ]
     },
     "metadata": {
      "needs_background": "light"
     },
     "output_type": "display_data"
    }
   ],
   "source": [
    "feature = 'term'\n",
    "train[feature].clip(0, 300000).hist(bins=50, density='uniform', label='train', alpha=0.5)\n",
    "test[feature].clip(0, 300000).hist(bins=50, density='uniform', label='test', alpha=0.5)\n",
    "plt.legend()\n",
    "plt.show()"
   ]
  },
  {
   "cell_type": "code",
   "execution_count": 13,
   "metadata": {},
   "outputs": [
    {
     "data": {
      "image/png": "[encoded data removed]",
      "text/plain": [
       "<Figure size 432x288 with 1 Axes>"
      ]
     },
     "metadata": {
      "needs_background": "light"
     },
     "output_type": "display_data"
    }
   ],
   "source": [
    "feature = 'inq_last_6mths'\n",
    "train[feature].clip(0, 300000).hist(bins=50, density='uniform', label='train', alpha=0.5)\n",
    "test[feature].clip(0, 300000).hist(bins=50, density='uniform', label='test', alpha=0.5)\n",
    "plt.legend()\n",
    "plt.show()"
   ]
  },
  {
   "cell_type": "code",
   "execution_count": 14,
   "metadata": {},
   "outputs": [
    {
     "data": {
      "image/png": "[encoded data removed]",
      "text/plain": [
       "<Figure size 432x288 with 1 Axes>"
      ]
     },
     "metadata": {
      "needs_background": "light"
     },
     "output_type": "display_data"
    }
   ],
   "source": [
    "feature = 'mths_since_recent_inq'\n",
    "train[feature].clip(0, 300000).hist(bins=50, density='uniform', label='train', alpha=0.5)\n",
    "test[feature].clip(0, 300000).hist(bins=50, density='uniform', label='test', alpha=0.5)\n",
    "plt.legend()\n",
    "plt.show()"
   ]
  },
  {
   "cell_type": "code",
   "execution_count": 34,
   "metadata": {},
   "outputs": [],
   "source": [
    "# первый займ, заполнили пропуски чем-то\n",
    "train['is_first_loan'] = train['mths_since_recent_inq'].between(6.01, 6.99)"
   ]
  },
  {
   "cell_type": "code",
   "execution_count": 37,
   "metadata": {},
   "outputs": [
    {
     "data": {
      "text/plain": [
       "6.0"
      ]
     },
     "execution_count": 37,
     "metadata": {},
     "output_type": "execute_result"
    }
   ],
   "source": [
    "train[train['is_first_loan'] == False]['mths_since_recent_inq'].median()"
   ]
  },
  {
   "cell_type": "code",
   "execution_count": 15,
   "metadata": {},
   "outputs": [
    {
     "data": {
      "image/png": "[encoded data removed]",
      "text/plain": [
       "<Figure size 432x288 with 1 Axes>"
      ]
     },
     "metadata": {
      "needs_background": "light"
     },
     "output_type": "display_data"
    }
   ],
   "source": [
    "feature = 'delinq_2yrs'\n",
    "train[feature].clip(0, 300000).hist(bins=100, density='uniform', label='train', alpha=0.5)\n",
    "test[feature].clip(0, 300000).hist(bins=100, density='uniform', label='test', alpha=0.5)\n",
    "plt.legend()\n",
    "plt.show()"
   ]
  },
  {
   "cell_type": "code",
   "execution_count": 16,
   "metadata": {},
   "outputs": [
    {
     "data": {
      "image/png": "[encoded data removed]",
      "text/plain": [
       "<Figure size 432x288 with 1 Axes>"
      ]
     },
     "metadata": {
      "needs_background": "light"
     },
     "output_type": "display_data"
    }
   ],
   "source": [
    "feature = 'chargeoff_within_12_mths'\n",
    "train[feature].clip(0, 300000).hist(bins=50, density='uniform', label='train', alpha=0.5)\n",
    "test[feature].clip(0, 300000).hist(bins=50, density='uniform', label='test', alpha=0.5)\n",
    "plt.legend()\n",
    "plt.show()"
   ]
  },
  {
   "cell_type": "code",
   "execution_count": 17,
   "metadata": {},
   "outputs": [
    {
     "data": {
      "image/png": "[encoded data removed]",
      "text/plain": [
       "<Figure size 432x288 with 1 Axes>"
      ]
     },
     "metadata": {
      "needs_background": "light"
     },
     "output_type": "display_data"
    }
   ],
   "source": [
    "feature = 'num_accts_ever_120_pd'\n",
    "train[feature].clip(0, 5).hist(bins=50, density='uniform', label='train', alpha=0.5)\n",
    "test[feature].clip(0, 5).hist(bins=50, density='uniform', label='test', alpha=0.5)\n",
    "plt.legend()\n",
    "plt.show()"
   ]
  },
  {
   "cell_type": "code",
   "execution_count": 18,
   "metadata": {},
   "outputs": [
    {
     "data": {
      "image/png": "[encoded data removed]",
      "text/plain": [
       "<Figure size 432x288 with 1 Axes>"
      ]
     },
     "metadata": {
      "needs_background": "light"
     },
     "output_type": "display_data"
    }
   ],
   "source": [
    "feature = 'num_tl_90g_dpd_24m'\n",
    "train[feature].clip(0, 5).hist(bins=50, density='uniform', label='train', alpha=0.5)\n",
    "test[feature].clip(0, 5).hist(bins=50, density='uniform', label='test', alpha=0.5)\n",
    "plt.legend()\n",
    "plt.show()"
   ]
  },
  {
   "cell_type": "code",
   "execution_count": 19,
   "metadata": {},
   "outputs": [
    {
     "data": {
      "image/png": "[encoded data removed]",
      "text/plain": [
       "<Figure size 432x288 with 1 Axes>"
      ]
     },
     "metadata": {
      "needs_background": "light"
     },
     "output_type": "display_data"
    }
   ],
   "source": [
    "feature = 'acc_open_past_24mths'\n",
    "train[feature].clip(0, 20).hist(bins=50, density='uniform', label='train', alpha=0.5)\n",
    "test[feature].clip(0, 20).hist(bins=50, density='uniform', label='test', alpha=0.5)\n",
    "plt.legend()\n",
    "plt.show()"
   ]
  },
  {
   "cell_type": "code",
   "execution_count": 20,
   "metadata": {},
   "outputs": [
    {
     "data": {
      "image/png": "[encoded data removed]",
      "text/plain": [
       "<Figure size 432x288 with 1 Axes>"
      ]
     },
     "metadata": {
      "needs_background": "light"
     },
     "output_type": "display_data"
    }
   ],
   "source": [
    "feature = 'avg_cur_bal'\n",
    "train[feature].clip(0, 100000).hist(bins=50, density='uniform', label='train', alpha=0.5)\n",
    "test[feature].clip(0, 100000).hist(bins=50, density='uniform', label='test', alpha=0.5)\n",
    "plt.legend()\n",
    "plt.show()"
   ]
  },
  {
   "cell_type": "code",
   "execution_count": 52,
   "metadata": {},
   "outputs": [
    {
     "data": {
      "text/plain": [
       "0.000000     26692\n",
       "0.075064      1730\n",
       "1.000000      1214\n",
       "2.000000       248\n",
       "3.000000        50\n",
       "4.000000        37\n",
       "6.000000         8\n",
       "5.000000         7\n",
       "8.000000         5\n",
       "7.000000         3\n",
       "10.000000        3\n",
       "11.000000        1\n",
       "9.000000         1\n",
       "18.000000        1\n",
       "Name: num_tl_90g_dpd_24m, dtype: int64"
      ]
     },
     "execution_count": 52,
     "metadata": {},
     "output_type": "execute_result"
    }
   ],
   "source": [
    "train['num_tl_90g_dpd_24m'].value_counts()"
   ]
  },
  {
   "cell_type": "code",
   "execution_count": 40,
   "metadata": {},
   "outputs": [],
   "source": [
    "train['is_not_sber_client'] = train['avg_cur_bal'].between(13841.01, 13841.02)"
   ]
  },
  {
   "cell_type": "code",
   "execution_count": 49,
   "metadata": {},
   "outputs": [
    {
     "data": {
      "text/html": [
       "<div>\n",
       "<style scoped>\n",
       "    .dataframe tbody tr th:only-of-type {\n",
       "        vertical-align: middle;\n",
       "    }\n",
       "\n",
       "    .dataframe tbody tr th {\n",
       "        vertical-align: top;\n",
       "    }\n",
       "\n",
       "    .dataframe thead th {\n",
       "        text-align: right;\n",
       "    }\n",
       "</style>\n",
       "<table border=\"1\" class=\"dataframe\">\n",
       "  <thead>\n",
       "    <tr style=\"text-align: right;\">\n",
       "      <th></th>\n",
       "      <th>installment</th>\n",
       "      <th>dti</th>\n",
       "      <th>funded_amnt</th>\n",
       "      <th>annual_inc</th>\n",
       "      <th>emp_length</th>\n",
       "      <th>term</th>\n",
       "      <th>inq_last_6mths</th>\n",
       "      <th>mths_since_recent_inq</th>\n",
       "      <th>delinq_2yrs</th>\n",
       "      <th>chargeoff_within_12_mths</th>\n",
       "      <th>num_accts_ever_120_pd</th>\n",
       "      <th>num_tl_90g_dpd_24m</th>\n",
       "      <th>acc_open_past_24mths</th>\n",
       "      <th>avg_cur_bal</th>\n",
       "      <th>tot_hi_cred_lim</th>\n",
       "      <th>delinq_amnt</th>\n",
       "      <th>def</th>\n",
       "      <th>purpose_car</th>\n",
       "      <th>id</th>\n",
       "      <th>purpose</th>\n",
       "      <th>subgrade</th>\n",
       "      <th>home_ownership</th>\n",
       "      <th>is_first_loan</th>\n",
       "      <th>is_sber_client</th>\n",
       "      <th>is_not_sber_client</th>\n",
       "    </tr>\n",
       "  </thead>\n",
       "  <tbody>\n",
       "    <tr>\n",
       "      <th>38</th>\n",
       "      <td>170.09</td>\n",
       "      <td>18.07</td>\n",
       "      <td>5000</td>\n",
       "      <td>59500.0</td>\n",
       "      <td>9.0</td>\n",
       "      <td>36</td>\n",
       "      <td>2</td>\n",
       "      <td>0.0</td>\n",
       "      <td>0</td>\n",
       "      <td>0</td>\n",
       "      <td>0.377846</td>\n",
       "      <td>0.075064</td>\n",
       "      <td>3.0</td>\n",
       "      <td>13841.018793</td>\n",
       "      <td>167286.164948</td>\n",
       "      <td>0</td>\n",
       "      <td>0</td>\n",
       "      <td>0.0</td>\n",
       "      <td>38</td>\n",
       "      <td>purpose_debt_consolidation</td>\n",
       "      <td>sub_grade_B5</td>\n",
       "      <td>home_ownership_RENT</td>\n",
       "      <td>False</td>\n",
       "      <td>True</td>\n",
       "      <td>True</td>\n",
       "    </tr>\n",
       "    <tr>\n",
       "      <th>63</th>\n",
       "      <td>441.46</td>\n",
       "      <td>9.77</td>\n",
       "      <td>17000</td>\n",
       "      <td>106000.0</td>\n",
       "      <td>10.0</td>\n",
       "      <td>60</td>\n",
       "      <td>3</td>\n",
       "      <td>0.0</td>\n",
       "      <td>0</td>\n",
       "      <td>0</td>\n",
       "      <td>0.377846</td>\n",
       "      <td>0.075064</td>\n",
       "      <td>2.0</td>\n",
       "      <td>13841.018793</td>\n",
       "      <td>167286.164948</td>\n",
       "      <td>0</td>\n",
       "      <td>1</td>\n",
       "      <td>0.0</td>\n",
       "      <td>63</td>\n",
       "      <td>purpose_debt_consolidation</td>\n",
       "      <td>sub_grade_D4</td>\n",
       "      <td>home_ownership_MORTGAGE</td>\n",
       "      <td>False</td>\n",
       "      <td>True</td>\n",
       "      <td>True</td>\n",
       "    </tr>\n",
       "    <tr>\n",
       "      <th>66</th>\n",
       "      <td>222.28</td>\n",
       "      <td>12.25</td>\n",
       "      <td>7000</td>\n",
       "      <td>280000.0</td>\n",
       "      <td>10.0</td>\n",
       "      <td>36</td>\n",
       "      <td>0</td>\n",
       "      <td>8.0</td>\n",
       "      <td>0</td>\n",
       "      <td>0</td>\n",
       "      <td>0.377846</td>\n",
       "      <td>0.075064</td>\n",
       "      <td>4.0</td>\n",
       "      <td>13841.018793</td>\n",
       "      <td>167286.164948</td>\n",
       "      <td>0</td>\n",
       "      <td>0</td>\n",
       "      <td>1.0</td>\n",
       "      <td>66</td>\n",
       "      <td>purpose_credit_card</td>\n",
       "      <td>sub_grade_A5</td>\n",
       "      <td>home_ownership_MORTGAGE</td>\n",
       "      <td>False</td>\n",
       "      <td>True</td>\n",
       "      <td>True</td>\n",
       "    </tr>\n",
       "    <tr>\n",
       "      <th>81</th>\n",
       "      <td>485.14</td>\n",
       "      <td>10.60</td>\n",
       "      <td>15000</td>\n",
       "      <td>60000.0</td>\n",
       "      <td>10.0</td>\n",
       "      <td>36</td>\n",
       "      <td>1</td>\n",
       "      <td>6.0</td>\n",
       "      <td>0</td>\n",
       "      <td>0</td>\n",
       "      <td>0.377846</td>\n",
       "      <td>0.075064</td>\n",
       "      <td>1.0</td>\n",
       "      <td>13841.018793</td>\n",
       "      <td>167286.164948</td>\n",
       "      <td>0</td>\n",
       "      <td>0</td>\n",
       "      <td>0.0</td>\n",
       "      <td>81</td>\n",
       "      <td>purpose_debt_consolidation</td>\n",
       "      <td>sub_grade_B1</td>\n",
       "      <td>home_ownership_MORTGAGE</td>\n",
       "      <td>False</td>\n",
       "      <td>True</td>\n",
       "      <td>True</td>\n",
       "    </tr>\n",
       "    <tr>\n",
       "      <th>85</th>\n",
       "      <td>350.64</td>\n",
       "      <td>9.71</td>\n",
       "      <td>10000</td>\n",
       "      <td>32000.0</td>\n",
       "      <td>3.0</td>\n",
       "      <td>36</td>\n",
       "      <td>1</td>\n",
       "      <td>6.0</td>\n",
       "      <td>0</td>\n",
       "      <td>0</td>\n",
       "      <td>0.377846</td>\n",
       "      <td>0.075064</td>\n",
       "      <td>5.0</td>\n",
       "      <td>13841.018793</td>\n",
       "      <td>167286.164948</td>\n",
       "      <td>0</td>\n",
       "      <td>1</td>\n",
       "      <td>0.0</td>\n",
       "      <td>85</td>\n",
       "      <td>purpose_debt_consolidation</td>\n",
       "      <td>sub_grade_C4</td>\n",
       "      <td>home_ownership_MORTGAGE</td>\n",
       "      <td>False</td>\n",
       "      <td>True</td>\n",
       "      <td>True</td>\n",
       "    </tr>\n",
       "    <tr>\n",
       "      <th>...</th>\n",
       "      <td>...</td>\n",
       "      <td>...</td>\n",
       "      <td>...</td>\n",
       "      <td>...</td>\n",
       "      <td>...</td>\n",
       "      <td>...</td>\n",
       "      <td>...</td>\n",
       "      <td>...</td>\n",
       "      <td>...</td>\n",
       "      <td>...</td>\n",
       "      <td>...</td>\n",
       "      <td>...</td>\n",
       "      <td>...</td>\n",
       "      <td>...</td>\n",
       "      <td>...</td>\n",
       "      <td>...</td>\n",
       "      <td>...</td>\n",
       "      <td>...</td>\n",
       "      <td>...</td>\n",
       "      <td>...</td>\n",
       "      <td>...</td>\n",
       "      <td>...</td>\n",
       "      <td>...</td>\n",
       "      <td>...</td>\n",
       "      <td>...</td>\n",
       "    </tr>\n",
       "    <tr>\n",
       "      <th>24952</th>\n",
       "      <td>319.14</td>\n",
       "      <td>4.77</td>\n",
       "      <td>9925</td>\n",
       "      <td>46000.0</td>\n",
       "      <td>4.0</td>\n",
       "      <td>36</td>\n",
       "      <td>0</td>\n",
       "      <td>10.0</td>\n",
       "      <td>0</td>\n",
       "      <td>0</td>\n",
       "      <td>0.377846</td>\n",
       "      <td>0.075064</td>\n",
       "      <td>8.0</td>\n",
       "      <td>13841.018793</td>\n",
       "      <td>167286.164948</td>\n",
       "      <td>0</td>\n",
       "      <td>0</td>\n",
       "      <td>0.0</td>\n",
       "      <td>24952</td>\n",
       "      <td>purpose_home_improvement</td>\n",
       "      <td>sub_grade_B1</td>\n",
       "      <td>home_ownership_RENT</td>\n",
       "      <td>False</td>\n",
       "      <td>True</td>\n",
       "      <td>True</td>\n",
       "    </tr>\n",
       "    <tr>\n",
       "      <th>24960</th>\n",
       "      <td>488.18</td>\n",
       "      <td>22.16</td>\n",
       "      <td>19000</td>\n",
       "      <td>58000.0</td>\n",
       "      <td>1.0</td>\n",
       "      <td>60</td>\n",
       "      <td>2</td>\n",
       "      <td>0.0</td>\n",
       "      <td>1</td>\n",
       "      <td>0</td>\n",
       "      <td>0.377846</td>\n",
       "      <td>0.075064</td>\n",
       "      <td>5.0</td>\n",
       "      <td>13841.018793</td>\n",
       "      <td>167286.164948</td>\n",
       "      <td>0</td>\n",
       "      <td>0</td>\n",
       "      <td>0.0</td>\n",
       "      <td>24960</td>\n",
       "      <td>purpose_debt_consolidation</td>\n",
       "      <td>sub_grade_D4</td>\n",
       "      <td>home_ownership_MORTGAGE</td>\n",
       "      <td>False</td>\n",
       "      <td>True</td>\n",
       "      <td>True</td>\n",
       "    </tr>\n",
       "    <tr>\n",
       "      <th>24962</th>\n",
       "      <td>203.23</td>\n",
       "      <td>24.48</td>\n",
       "      <td>6400</td>\n",
       "      <td>80000.0</td>\n",
       "      <td>10.0</td>\n",
       "      <td>36</td>\n",
       "      <td>1</td>\n",
       "      <td>0.0</td>\n",
       "      <td>0</td>\n",
       "      <td>0</td>\n",
       "      <td>0.377846</td>\n",
       "      <td>0.075064</td>\n",
       "      <td>3.0</td>\n",
       "      <td>13841.018793</td>\n",
       "      <td>167286.164948</td>\n",
       "      <td>0</td>\n",
       "      <td>0</td>\n",
       "      <td>0.0</td>\n",
       "      <td>24962</td>\n",
       "      <td>purpose_credit_card</td>\n",
       "      <td>sub_grade_A5</td>\n",
       "      <td>home_ownership_MORTGAGE</td>\n",
       "      <td>False</td>\n",
       "      <td>True</td>\n",
       "      <td>True</td>\n",
       "    </tr>\n",
       "    <tr>\n",
       "      <th>24978</th>\n",
       "      <td>482.44</td>\n",
       "      <td>22.79</td>\n",
       "      <td>14500</td>\n",
       "      <td>60400.0</td>\n",
       "      <td>9.0</td>\n",
       "      <td>36</td>\n",
       "      <td>0</td>\n",
       "      <td>11.0</td>\n",
       "      <td>0</td>\n",
       "      <td>0</td>\n",
       "      <td>0.377846</td>\n",
       "      <td>0.075064</td>\n",
       "      <td>7.0</td>\n",
       "      <td>13841.018793</td>\n",
       "      <td>167286.164948</td>\n",
       "      <td>0</td>\n",
       "      <td>0</td>\n",
       "      <td>0.0</td>\n",
       "      <td>24978</td>\n",
       "      <td>purpose_debt_consolidation</td>\n",
       "      <td>sub_grade_B3</td>\n",
       "      <td>home_ownership_MORTGAGE</td>\n",
       "      <td>False</td>\n",
       "      <td>True</td>\n",
       "      <td>True</td>\n",
       "    </tr>\n",
       "    <tr>\n",
       "      <th>24983</th>\n",
       "      <td>200.71</td>\n",
       "      <td>23.70</td>\n",
       "      <td>5900</td>\n",
       "      <td>61000.0</td>\n",
       "      <td>10.0</td>\n",
       "      <td>36</td>\n",
       "      <td>1</td>\n",
       "      <td>6.0</td>\n",
       "      <td>0</td>\n",
       "      <td>0</td>\n",
       "      <td>0.377846</td>\n",
       "      <td>0.075064</td>\n",
       "      <td>3.0</td>\n",
       "      <td>13841.018793</td>\n",
       "      <td>167286.164948</td>\n",
       "      <td>0</td>\n",
       "      <td>0</td>\n",
       "      <td>0.0</td>\n",
       "      <td>24983</td>\n",
       "      <td>purpose_credit_card</td>\n",
       "      <td>sub_grade_B5</td>\n",
       "      <td>home_ownership_MORTGAGE</td>\n",
       "      <td>False</td>\n",
       "      <td>True</td>\n",
       "      <td>True</td>\n",
       "    </tr>\n",
       "  </tbody>\n",
       "</table>\n",
       "<p>1730 rows × 25 columns</p>\n",
       "</div>"
      ],
      "text/plain": [
       "       installment    dti  funded_amnt  annual_inc  emp_length  term  \\\n",
       "38          170.09  18.07         5000     59500.0         9.0    36   \n",
       "63          441.46   9.77        17000    106000.0        10.0    60   \n",
       "66          222.28  12.25         7000    280000.0        10.0    36   \n",
       "81          485.14  10.60        15000     60000.0        10.0    36   \n",
       "85          350.64   9.71        10000     32000.0         3.0    36   \n",
       "...            ...    ...          ...         ...         ...   ...   \n",
       "24952       319.14   4.77         9925     46000.0         4.0    36   \n",
       "24960       488.18  22.16        19000     58000.0         1.0    60   \n",
       "24962       203.23  24.48         6400     80000.0        10.0    36   \n",
       "24978       482.44  22.79        14500     60400.0         9.0    36   \n",
       "24983       200.71  23.70         5900     61000.0        10.0    36   \n",
       "\n",
       "       inq_last_6mths  mths_since_recent_inq  delinq_2yrs  \\\n",
       "38                  2                    0.0            0   \n",
       "63                  3                    0.0            0   \n",
       "66                  0                    8.0            0   \n",
       "81                  1                    6.0            0   \n",
       "85                  1                    6.0            0   \n",
       "...               ...                    ...          ...   \n",
       "24952               0                   10.0            0   \n",
       "24960               2                    0.0            1   \n",
       "24962               1                    0.0            0   \n",
       "24978               0                   11.0            0   \n",
       "24983               1                    6.0            0   \n",
       "\n",
       "       chargeoff_within_12_mths  num_accts_ever_120_pd  num_tl_90g_dpd_24m  \\\n",
       "38                            0               0.377846            0.075064   \n",
       "63                            0               0.377846            0.075064   \n",
       "66                            0               0.377846            0.075064   \n",
       "81                            0               0.377846            0.075064   \n",
       "85                            0               0.377846            0.075064   \n",
       "...                         ...                    ...                 ...   \n",
       "24952                         0               0.377846            0.075064   \n",
       "24960                         0               0.377846            0.075064   \n",
       "24962                         0               0.377846            0.075064   \n",
       "24978                         0               0.377846            0.075064   \n",
       "24983                         0               0.377846            0.075064   \n",
       "\n",
       "       acc_open_past_24mths   avg_cur_bal  tot_hi_cred_lim  delinq_amnt  def  \\\n",
       "38                      3.0  13841.018793    167286.164948            0    0   \n",
       "63                      2.0  13841.018793    167286.164948            0    1   \n",
       "66                      4.0  13841.018793    167286.164948            0    0   \n",
       "81                      1.0  13841.018793    167286.164948            0    0   \n",
       "85                      5.0  13841.018793    167286.164948            0    1   \n",
       "...                     ...           ...              ...          ...  ...   \n",
       "24952                   8.0  13841.018793    167286.164948            0    0   \n",
       "24960                   5.0  13841.018793    167286.164948            0    0   \n",
       "24962                   3.0  13841.018793    167286.164948            0    0   \n",
       "24978                   7.0  13841.018793    167286.164948            0    0   \n",
       "24983                   3.0  13841.018793    167286.164948            0    0   \n",
       "\n",
       "       purpose_car     id                     purpose      subgrade  \\\n",
       "38             0.0     38  purpose_debt_consolidation  sub_grade_B5   \n",
       "63             0.0     63  purpose_debt_consolidation  sub_grade_D4   \n",
       "66             1.0     66         purpose_credit_card  sub_grade_A5   \n",
       "81             0.0     81  purpose_debt_consolidation  sub_grade_B1   \n",
       "85             0.0     85  purpose_debt_consolidation  sub_grade_C4   \n",
       "...            ...    ...                         ...           ...   \n",
       "24952          0.0  24952    purpose_home_improvement  sub_grade_B1   \n",
       "24960          0.0  24960  purpose_debt_consolidation  sub_grade_D4   \n",
       "24962          0.0  24962         purpose_credit_card  sub_grade_A5   \n",
       "24978          0.0  24978  purpose_debt_consolidation  sub_grade_B3   \n",
       "24983          0.0  24983         purpose_credit_card  sub_grade_B5   \n",
       "\n",
       "                home_ownership  is_first_loan  is_sber_client  \\\n",
       "38         home_ownership_RENT          False            True   \n",
       "63     home_ownership_MORTGAGE          False            True   \n",
       "66     home_ownership_MORTGAGE          False            True   \n",
       "81     home_ownership_MORTGAGE          False            True   \n",
       "85     home_ownership_MORTGAGE          False            True   \n",
       "...                        ...            ...             ...   \n",
       "24952      home_ownership_RENT          False            True   \n",
       "24960  home_ownership_MORTGAGE          False            True   \n",
       "24962  home_ownership_MORTGAGE          False            True   \n",
       "24978  home_ownership_MORTGAGE          False            True   \n",
       "24983  home_ownership_MORTGAGE          False            True   \n",
       "\n",
       "       is_not_sber_client  \n",
       "38                   True  \n",
       "63                   True  \n",
       "66                   True  \n",
       "81                   True  \n",
       "85                   True  \n",
       "...                   ...  \n",
       "24952                True  \n",
       "24960                True  \n",
       "24962                True  \n",
       "24978                True  \n",
       "24983                True  \n",
       "\n",
       "[1730 rows x 25 columns]"
      ]
     },
     "execution_count": 49,
     "metadata": {},
     "output_type": "execute_result"
    }
   ],
   "source": [
    "train[train['is_not_sber_client']]"
   ]
  },
  {
   "cell_type": "code",
   "execution_count": 21,
   "metadata": {},
   "outputs": [
    {
     "data": {
      "image/png": "[encoded data removed]",
      "text/plain": [
       "<Figure size 432x288 with 1 Axes>"
      ]
     },
     "metadata": {
      "needs_background": "light"
     },
     "output_type": "display_data"
    }
   ],
   "source": [
    "feature = 'tot_hi_cred_lim'\n",
    "train[feature].clip(0, 1000000).hist(bins=50, density='uniform', label='train', alpha=0.5)\n",
    "test[feature].clip(0, 1000000).hist(bins=50, density='uniform', label='test', alpha=0.5)\n",
    "plt.legend()\n",
    "plt.show()"
   ]
  },
  {
   "cell_type": "code",
   "execution_count": 22,
   "metadata": {},
   "outputs": [
    {
     "data": {
      "image/png": "[encoded data removed]",
      "text/plain": [
       "<Figure size 432x288 with 1 Axes>"
      ]
     },
     "metadata": {
      "needs_background": "light"
     },
     "output_type": "display_data"
    }
   ],
   "source": [
    "feature = 'delinq_amnt'\n",
    "train[feature].clip(0, 10000).hist(bins=50, density='uniform', label='train', alpha=0.5)\n",
    "test[feature].clip(0, 10000).hist(bins=50, density='uniform', label='test', alpha=0.5)\n",
    "plt.legend()\n",
    "plt.show()"
   ]
  },
  {
   "cell_type": "code",
   "execution_count": 23,
   "metadata": {},
   "outputs": [
    {
     "data": {
      "text/html": [
       "<div>\n",
       "<style scoped>\n",
       "    .dataframe tbody tr th:only-of-type {\n",
       "        vertical-align: middle;\n",
       "    }\n",
       "\n",
       "    .dataframe tbody tr th {\n",
       "        vertical-align: top;\n",
       "    }\n",
       "\n",
       "    .dataframe thead th {\n",
       "        text-align: right;\n",
       "    }\n",
       "</style>\n",
       "<table border=\"1\" class=\"dataframe\">\n",
       "  <thead>\n",
       "    <tr style=\"text-align: right;\">\n",
       "      <th></th>\n",
       "      <th>mean</th>\n",
       "      <th>count</th>\n",
       "    </tr>\n",
       "    <tr>\n",
       "      <th>purpose</th>\n",
       "      <th></th>\n",
       "      <th></th>\n",
       "    </tr>\n",
       "  </thead>\n",
       "  <tbody>\n",
       "    <tr>\n",
       "      <th>purpose_credit_card</th>\n",
       "      <td>0.136420</td>\n",
       "      <td>7279</td>\n",
       "    </tr>\n",
       "    <tr>\n",
       "      <th>purpose_debt_consolidation</th>\n",
       "      <td>0.168318</td>\n",
       "      <td>18067</td>\n",
       "    </tr>\n",
       "    <tr>\n",
       "      <th>purpose_home_improvement</th>\n",
       "      <td>0.146619</td>\n",
       "      <td>1671</td>\n",
       "    </tr>\n",
       "    <tr>\n",
       "      <th>purpose_house</th>\n",
       "      <td>0.157143</td>\n",
       "      <td>140</td>\n",
       "    </tr>\n",
       "    <tr>\n",
       "      <th>purpose_major_purchase</th>\n",
       "      <td>0.158537</td>\n",
       "      <td>492</td>\n",
       "    </tr>\n",
       "    <tr>\n",
       "      <th>purpose_medical</th>\n",
       "      <td>0.189655</td>\n",
       "      <td>232</td>\n",
       "    </tr>\n",
       "    <tr>\n",
       "      <th>purpose_moving</th>\n",
       "      <td>0.204819</td>\n",
       "      <td>166</td>\n",
       "    </tr>\n",
       "    <tr>\n",
       "      <th>purpose_other</th>\n",
       "      <td>0.180952</td>\n",
       "      <td>1365</td>\n",
       "    </tr>\n",
       "    <tr>\n",
       "      <th>purpose_renewable_energy</th>\n",
       "      <td>0.153846</td>\n",
       "      <td>13</td>\n",
       "    </tr>\n",
       "    <tr>\n",
       "      <th>purpose_small_business</th>\n",
       "      <td>0.285276</td>\n",
       "      <td>326</td>\n",
       "    </tr>\n",
       "    <tr>\n",
       "      <th>purpose_vacation</th>\n",
       "      <td>0.067669</td>\n",
       "      <td>133</td>\n",
       "    </tr>\n",
       "    <tr>\n",
       "      <th>purpose_wedding</th>\n",
       "      <td>0.120690</td>\n",
       "      <td>116</td>\n",
       "    </tr>\n",
       "  </tbody>\n",
       "</table>\n",
       "</div>"
      ],
      "text/plain": [
       "                                mean  count\n",
       "purpose                                    \n",
       "purpose_credit_card         0.136420   7279\n",
       "purpose_debt_consolidation  0.168318  18067\n",
       "purpose_home_improvement    0.146619   1671\n",
       "purpose_house               0.157143    140\n",
       "purpose_major_purchase      0.158537    492\n",
       "purpose_medical             0.189655    232\n",
       "purpose_moving              0.204819    166\n",
       "purpose_other               0.180952   1365\n",
       "purpose_renewable_energy    0.153846     13\n",
       "purpose_small_business      0.285276    326\n",
       "purpose_vacation            0.067669    133\n",
       "purpose_wedding             0.120690    116"
      ]
     },
     "execution_count": 23,
     "metadata": {},
     "output_type": "execute_result"
    }
   ],
   "source": [
    "train.groupby('purpose')['def'].agg(['mean', 'count'])"
   ]
  },
  {
   "cell_type": "code",
   "execution_count": 33,
   "metadata": {},
   "outputs": [
    {
     "data": {
      "text/html": [
       "<div>\n",
       "<style scoped>\n",
       "    .dataframe tbody tr th:only-of-type {\n",
       "        vertical-align: middle;\n",
       "    }\n",
       "\n",
       "    .dataframe tbody tr th {\n",
       "        vertical-align: top;\n",
       "    }\n",
       "\n",
       "    .dataframe thead th {\n",
       "        text-align: right;\n",
       "    }\n",
       "</style>\n",
       "<table border=\"1\" class=\"dataframe\">\n",
       "  <thead>\n",
       "    <tr style=\"text-align: right;\">\n",
       "      <th></th>\n",
       "      <th>mean</th>\n",
       "      <th>count</th>\n",
       "    </tr>\n",
       "    <tr>\n",
       "      <th>is_first_loan</th>\n",
       "      <th></th>\n",
       "      <th></th>\n",
       "    </tr>\n",
       "  </thead>\n",
       "  <tbody>\n",
       "    <tr>\n",
       "      <th>False</th>\n",
       "      <td>0.165421</td>\n",
       "      <td>26901</td>\n",
       "    </tr>\n",
       "    <tr>\n",
       "      <th>True</th>\n",
       "      <td>0.120039</td>\n",
       "      <td>3099</td>\n",
       "    </tr>\n",
       "  </tbody>\n",
       "</table>\n",
       "</div>"
      ],
      "text/plain": [
       "                   mean  count\n",
       "is_first_loan                 \n",
       "False          0.165421  26901\n",
       "True           0.120039   3099"
      ]
     },
     "execution_count": 33,
     "metadata": {},
     "output_type": "execute_result"
    }
   ],
   "source": [
    "train.groupby('is_first_loan')['def'].agg(['mean', 'count'])"
   ]
  },
  {
   "cell_type": "code",
   "execution_count": 53,
   "metadata": {},
   "outputs": [
    {
     "data": {
      "text/html": [
       "<div>\n",
       "<style scoped>\n",
       "    .dataframe tbody tr th:only-of-type {\n",
       "        vertical-align: middle;\n",
       "    }\n",
       "\n",
       "    .dataframe tbody tr th {\n",
       "        vertical-align: top;\n",
       "    }\n",
       "\n",
       "    .dataframe thead th {\n",
       "        text-align: right;\n",
       "    }\n",
       "</style>\n",
       "<table border=\"1\" class=\"dataframe\">\n",
       "  <thead>\n",
       "    <tr style=\"text-align: right;\">\n",
       "      <th></th>\n",
       "      <th>mean</th>\n",
       "      <th>count</th>\n",
       "    </tr>\n",
       "    <tr>\n",
       "      <th>is_not_sber_client</th>\n",
       "      <th></th>\n",
       "      <th></th>\n",
       "    </tr>\n",
       "  </thead>\n",
       "  <tbody>\n",
       "    <tr>\n",
       "      <th>False</th>\n",
       "      <td>0.159427</td>\n",
       "      <td>28270</td>\n",
       "    </tr>\n",
       "    <tr>\n",
       "      <th>True</th>\n",
       "      <td>0.182081</td>\n",
       "      <td>1730</td>\n",
       "    </tr>\n",
       "  </tbody>\n",
       "</table>\n",
       "</div>"
      ],
      "text/plain": [
       "                        mean  count\n",
       "is_not_sber_client                 \n",
       "False               0.159427  28270\n",
       "True                0.182081   1730"
      ]
     },
     "execution_count": 53,
     "metadata": {},
     "output_type": "execute_result"
    }
   ],
   "source": [
    "train.groupby('is_not_sber_client')['def'].agg(['mean', 'count'])"
   ]
  },
  {
   "cell_type": "code",
   "execution_count": null,
   "metadata": {},
   "outputs": [],
   "source": []
  },
  {
   "cell_type": "code",
   "execution_count": null,
   "metadata": {},
   "outputs": [],
   "source": []
  },
  {
   "cell_type": "code",
   "execution_count": null,
   "metadata": {},
   "outputs": [],
   "source": []
  },
  {
   "cell_type": "code",
   "execution_count": 24,
   "metadata": {},
   "outputs": [],
   "source": [
    "targ_cols = [i for i in train.columns if i not in ['def', 'id'] ]\n",
    "\n",
    "X_train = train[targ_cols]\n",
    "X_test = test[targ_cols]\n",
    "\n",
    "y_train = train[\"def\"]"
   ]
  },
  {
   "cell_type": "markdown",
   "metadata": {},
   "source": [
    "Обучение модели"
   ]
  },
  {
   "cell_type": "code",
   "execution_count": 25,
   "metadata": {},
   "outputs": [
    {
     "ename": "ValueError",
     "evalue": "could not convert string to float: 'purpose_debt_consolidation'",
     "output_type": "error",
     "traceback": [
      "\u001b[1;31m---------------------------------------------------------------------------\u001b[0m",
      "\u001b[1;31mValueError\u001b[0m                                Traceback (most recent call last)",
      "\u001b[1;32m<ipython-input-25-edaa4b7e4a57>\u001b[0m in \u001b[0;36m<module>\u001b[1;34m()\u001b[0m\n\u001b[0;32m      1\u001b[0m model = LogisticRegression(C=10, fit_intercept=True, max_iter=100,\n\u001b[0;32m      2\u001b[0m           \u001b[0mpenalty\u001b[0m\u001b[1;33m=\u001b[0m\u001b[1;34m'l1'\u001b[0m\u001b[1;33m,\u001b[0m \u001b[0mrandom_state\u001b[0m\u001b[1;33m=\u001b[0m\u001b[1;36m123\u001b[0m\u001b[1;33m,\u001b[0m \u001b[0msolver\u001b[0m \u001b[1;33m=\u001b[0m \u001b[1;34m'liblinear'\u001b[0m\u001b[1;33m,\u001b[0m\u001b[1;33m\u001b[0m\u001b[1;33m\u001b[0m\u001b[0m\n\u001b[1;32m----> 3\u001b[1;33m           tol=0.01).fit(X_train, y_train)\n\u001b[0m\u001b[0;32m      4\u001b[0m \u001b[1;33m\u001b[0m\u001b[0m\n\u001b[0;32m      5\u001b[0m \u001b[1;33m\u001b[0m\u001b[0m\n",
      "\u001b[1;32mc:\\users\\kozlo\\appdata\\local\\programs\\python\\python37\\lib\\site-packages\\sklearn\\linear_model\\logistic.py\u001b[0m in \u001b[0;36mfit\u001b[1;34m(self, X, y, sample_weight)\u001b[0m\n\u001b[0;32m   1218\u001b[0m \u001b[1;33m\u001b[0m\u001b[0m\n\u001b[0;32m   1219\u001b[0m         X, y = check_X_y(X, y, accept_sparse='csr', dtype=_dtype,\n\u001b[1;32m-> 1220\u001b[1;33m                          order=\"C\")\n\u001b[0m\u001b[0;32m   1221\u001b[0m         \u001b[0mcheck_classification_targets\u001b[0m\u001b[1;33m(\u001b[0m\u001b[0my\u001b[0m\u001b[1;33m)\u001b[0m\u001b[1;33m\u001b[0m\u001b[1;33m\u001b[0m\u001b[0m\n\u001b[0;32m   1222\u001b[0m         \u001b[0mself\u001b[0m\u001b[1;33m.\u001b[0m\u001b[0mclasses_\u001b[0m \u001b[1;33m=\u001b[0m \u001b[0mnp\u001b[0m\u001b[1;33m.\u001b[0m\u001b[0munique\u001b[0m\u001b[1;33m(\u001b[0m\u001b[0my\u001b[0m\u001b[1;33m)\u001b[0m\u001b[1;33m\u001b[0m\u001b[1;33m\u001b[0m\u001b[0m\n",
      "\u001b[1;32mc:\\users\\kozlo\\appdata\\local\\programs\\python\\python37\\lib\\site-packages\\sklearn\\utils\\validation.py\u001b[0m in \u001b[0;36mcheck_X_y\u001b[1;34m(X, y, accept_sparse, dtype, order, copy, force_all_finite, ensure_2d, allow_nd, multi_output, ensure_min_samples, ensure_min_features, y_numeric, warn_on_dtype, estimator)\u001b[0m\n\u001b[0;32m    571\u001b[0m     X = check_array(X, accept_sparse, dtype, order, copy, force_all_finite,\n\u001b[0;32m    572\u001b[0m                     \u001b[0mensure_2d\u001b[0m\u001b[1;33m,\u001b[0m \u001b[0mallow_nd\u001b[0m\u001b[1;33m,\u001b[0m \u001b[0mensure_min_samples\u001b[0m\u001b[1;33m,\u001b[0m\u001b[1;33m\u001b[0m\u001b[1;33m\u001b[0m\u001b[0m\n\u001b[1;32m--> 573\u001b[1;33m                     ensure_min_features, warn_on_dtype, estimator)\n\u001b[0m\u001b[0;32m    574\u001b[0m     \u001b[1;32mif\u001b[0m \u001b[0mmulti_output\u001b[0m\u001b[1;33m:\u001b[0m\u001b[1;33m\u001b[0m\u001b[1;33m\u001b[0m\u001b[0m\n\u001b[0;32m    575\u001b[0m         y = check_array(y, 'csr', force_all_finite=True, ensure_2d=False,\n",
      "\u001b[1;32mc:\\users\\kozlo\\appdata\\local\\programs\\python\\python37\\lib\\site-packages\\sklearn\\utils\\validation.py\u001b[0m in \u001b[0;36mcheck_array\u001b[1;34m(array, accept_sparse, dtype, order, copy, force_all_finite, ensure_2d, allow_nd, ensure_min_samples, ensure_min_features, warn_on_dtype, estimator)\u001b[0m\n\u001b[0;32m    431\u001b[0m                                       force_all_finite)\n\u001b[0;32m    432\u001b[0m     \u001b[1;32melse\u001b[0m\u001b[1;33m:\u001b[0m\u001b[1;33m\u001b[0m\u001b[1;33m\u001b[0m\u001b[0m\n\u001b[1;32m--> 433\u001b[1;33m         \u001b[0marray\u001b[0m \u001b[1;33m=\u001b[0m \u001b[0mnp\u001b[0m\u001b[1;33m.\u001b[0m\u001b[0marray\u001b[0m\u001b[1;33m(\u001b[0m\u001b[0marray\u001b[0m\u001b[1;33m,\u001b[0m \u001b[0mdtype\u001b[0m\u001b[1;33m=\u001b[0m\u001b[0mdtype\u001b[0m\u001b[1;33m,\u001b[0m \u001b[0morder\u001b[0m\u001b[1;33m=\u001b[0m\u001b[0morder\u001b[0m\u001b[1;33m,\u001b[0m \u001b[0mcopy\u001b[0m\u001b[1;33m=\u001b[0m\u001b[0mcopy\u001b[0m\u001b[1;33m)\u001b[0m\u001b[1;33m\u001b[0m\u001b[1;33m\u001b[0m\u001b[0m\n\u001b[0m\u001b[0;32m    434\u001b[0m \u001b[1;33m\u001b[0m\u001b[0m\n\u001b[0;32m    435\u001b[0m         \u001b[1;32mif\u001b[0m \u001b[0mensure_2d\u001b[0m\u001b[1;33m:\u001b[0m\u001b[1;33m\u001b[0m\u001b[1;33m\u001b[0m\u001b[0m\n",
      "\u001b[1;32mc:\\users\\kozlo\\appdata\\local\\programs\\python\\python37\\lib\\site-packages\\pandas\\core\\generic.py\u001b[0m in \u001b[0;36m__array__\u001b[1;34m(self, dtype)\u001b[0m\n\u001b[0;32m   1779\u001b[0m \u001b[1;33m\u001b[0m\u001b[0m\n\u001b[0;32m   1780\u001b[0m     \u001b[1;32mdef\u001b[0m \u001b[0m__array__\u001b[0m\u001b[1;33m(\u001b[0m\u001b[0mself\u001b[0m\u001b[1;33m,\u001b[0m \u001b[0mdtype\u001b[0m\u001b[1;33m=\u001b[0m\u001b[1;32mNone\u001b[0m\u001b[1;33m)\u001b[0m \u001b[1;33m->\u001b[0m \u001b[0mnp\u001b[0m\u001b[1;33m.\u001b[0m\u001b[0mndarray\u001b[0m\u001b[1;33m:\u001b[0m\u001b[1;33m\u001b[0m\u001b[1;33m\u001b[0m\u001b[0m\n\u001b[1;32m-> 1781\u001b[1;33m         \u001b[1;32mreturn\u001b[0m \u001b[0mnp\u001b[0m\u001b[1;33m.\u001b[0m\u001b[0masarray\u001b[0m\u001b[1;33m(\u001b[0m\u001b[0mself\u001b[0m\u001b[1;33m.\u001b[0m\u001b[0m_values\u001b[0m\u001b[1;33m,\u001b[0m \u001b[0mdtype\u001b[0m\u001b[1;33m=\u001b[0m\u001b[0mdtype\u001b[0m\u001b[1;33m)\u001b[0m\u001b[1;33m\u001b[0m\u001b[1;33m\u001b[0m\u001b[0m\n\u001b[0m\u001b[0;32m   1782\u001b[0m \u001b[1;33m\u001b[0m\u001b[0m\n\u001b[0;32m   1783\u001b[0m     \u001b[1;32mdef\u001b[0m \u001b[0m__array_wrap__\u001b[0m\u001b[1;33m(\u001b[0m\u001b[0mself\u001b[0m\u001b[1;33m,\u001b[0m \u001b[0mresult\u001b[0m\u001b[1;33m,\u001b[0m \u001b[0mcontext\u001b[0m\u001b[1;33m=\u001b[0m\u001b[1;32mNone\u001b[0m\u001b[1;33m)\u001b[0m\u001b[1;33m:\u001b[0m\u001b[1;33m\u001b[0m\u001b[1;33m\u001b[0m\u001b[0m\n",
      "\u001b[1;32mc:\\users\\kozlo\\appdata\\local\\programs\\python\\python37\\lib\\site-packages\\numpy\\core\\_asarray.py\u001b[0m in \u001b[0;36masarray\u001b[1;34m(a, dtype, order)\u001b[0m\n\u001b[0;32m     81\u001b[0m \u001b[1;33m\u001b[0m\u001b[0m\n\u001b[0;32m     82\u001b[0m     \"\"\"\n\u001b[1;32m---> 83\u001b[1;33m     \u001b[1;32mreturn\u001b[0m \u001b[0marray\u001b[0m\u001b[1;33m(\u001b[0m\u001b[0ma\u001b[0m\u001b[1;33m,\u001b[0m \u001b[0mdtype\u001b[0m\u001b[1;33m,\u001b[0m \u001b[0mcopy\u001b[0m\u001b[1;33m=\u001b[0m\u001b[1;32mFalse\u001b[0m\u001b[1;33m,\u001b[0m \u001b[0morder\u001b[0m\u001b[1;33m=\u001b[0m\u001b[0morder\u001b[0m\u001b[1;33m)\u001b[0m\u001b[1;33m\u001b[0m\u001b[1;33m\u001b[0m\u001b[0m\n\u001b[0m\u001b[0;32m     84\u001b[0m \u001b[1;33m\u001b[0m\u001b[0m\n\u001b[0;32m     85\u001b[0m \u001b[1;33m\u001b[0m\u001b[0m\n",
      "\u001b[1;31mValueError\u001b[0m: could not convert string to float: 'purpose_debt_consolidation'"
     ]
    }
   ],
   "source": [
    "model = LogisticRegression(C=10, fit_intercept=True, max_iter=100,\n",
    "          penalty='l1', random_state=123, solver = 'liblinear',\n",
    "          tol=0.01).fit(X_train, y_train)\n",
    "\n",
    "\n",
    "model.fit(X_train, y_train)"
   ]
  },
  {
   "cell_type": "markdown",
   "metadata": {},
   "source": [
    "Рассчет метрики на обучающей модели"
   ]
  },
  {
   "cell_type": "code",
   "execution_count": null,
   "metadata": {},
   "outputs": [],
   "source": [
    "roc_auc_score(y_train, model.predict_proba(X_train)[:, 1])"
   ]
  },
  {
   "cell_type": "markdown",
   "metadata": {},
   "source": [
    "Применение модели к тестовой выборке"
   ]
  },
  {
   "cell_type": "code",
   "execution_count": null,
   "metadata": {},
   "outputs": [],
   "source": [
    "test['prob'] = model.predict_proba(X_test)[:, 1]"
   ]
  },
  {
   "cell_type": "markdown",
   "metadata": {},
   "source": [
    "Выгрузка решения для коммита в соревновании"
   ]
  },
  {
   "cell_type": "code",
   "execution_count": null,
   "metadata": {},
   "outputs": [],
   "source": [
    "test[['id', 'prob']].to_csv('sample_submission.csv', index=False)"
   ]
  },
  {
   "cell_type": "code",
   "execution_count": null,
   "metadata": {},
   "outputs": [],
   "source": []
  }
 ],
 "metadata": {
  "kernelspec": {
   "display_name": "Python 3",
   "language": "python",
   "name": "python3"
  },
  "language_info": {
   "codemirror_mode": {
    "name": "ipython",
    "version": 3
   },
   "file_extension": ".py",
   "mimetype": "text/x-python",
   "name": "python",
   "nbconvert_exporter": "python",
   "pygments_lexer": "ipython3",
   "version": "3.7.3"
  }
 },
 "nbformat": 4,
 "nbformat_minor": 4
}
