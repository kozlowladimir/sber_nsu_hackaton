{
 "cells": [
  {
   "cell_type": "code",
   "execution_count": 133,
   "metadata": {},
   "outputs": [],
   "source": [
    "from catboost import CatBoostClassifier, Pool\n",
    "from sklearn.naive_bayes import GaussianNB, BernoulliNB\n",
    "from sklearn.neighbors import KNeighborsClassifier\n",
    "from sklearn.linear_model import LogisticRegression, LogisticRegressionCV\n",
    "from sklearn.metrics import roc_auc_score\n",
    "from sklearn.ensemble import RandomForestClassifier\n",
    "from sklearn.model_selection import StratifiedKFold, train_test_split, cross_val_score\n",
    "from xgboost import XGBClassifier, DMatrix, plot_importance, plot_tree\n",
    "from lightgbm import LGBMClassifier, Dataset\n",
    "from sklearn.preprocessing import LabelEncoder, StandardScaler\n",
    "import numpy as np\n",
    "import pandas as pd\n",
    "from matplotlib import pyplot as plt"
   ]
  },
  {
   "cell_type": "code",
   "execution_count": 267,
   "metadata": {},
   "outputs": [],
   "source": [
    "catboost_params = {\n",
    "    \"iterations\": 2000,\n",
    "    \"depth\": 1,\n",
    "    \"learning_rate\": 0.07,\n",
    "    \"loss_function\": \"Logloss\",\n",
    "    \"verbose\": False,\n",
    "    \"eval_metric\": 'AUC',\n",
    "    \"od_type\": 'Iter',\n",
    "    \"od_wait\": 300,\n",
    "}\n",
    "\n",
    "lr_params = {\n",
    "    \"C\": 1.5,\n",
    "    \"fit_intercept\": True,\n",
    "    \"max_iter\": 300,\n",
    "    \"penalty\": \"l1\",\n",
    "    \"random_state\": 123,\n",
    "    \"solver\": \"liblinear\"\n",
    "}\n",
    "\n",
    "catboost_columns = [\n",
    "    'term',\n",
    "    'acc_open_past_24mths', # 677 02\n",
    "    'funded_amnt',\n",
    "    'percent_per_year',\n",
    "    'additional_dti', #671\n",
    "    'num_accts_ever_120_pd',\n",
    "    'annual_inc', # 682 024,\n",
    "    'tot_hi_cred_lim',\n",
    "    'purpose', # 6839 035\n",
    "    'home_ownership', # 683 027\n",
    "    'avg_cur_bal', # 684 041\n",
    "    'mths_since_recent_inq',\n",
    "    'installment',\n",
    "    \n",
    "]\n",
    "\n",
    "catboost_cat_features = [\n",
    "    'purpose',\n",
    "    'home_ownership',\n",
    "]\n",
    "\n",
    "lr_cols = [   \n",
    "#     'percent_per_year',\n",
    "    'percent',\n",
    "    'term',\n",
    "    'loan_income_ratio',\n",
    "    'psk',\n",
    "    'additional_dti',\n",
    "    'purpose_small_business',\n",
    "    'purpose_home_improvement',\n",
    "    'purpose_major_purchase',\n",
    "    'purpose_medical',\n",
    "    'acc_open_past_24mths',\n",
    "    'num_accts_ever_120_pd',\n",
    "    'home_ownership_MORTGAGE',\n",
    "    'home_ownership_RENT',\n",
    "    'purpose_vacation',\n",
    "    'purpose_wedding',\n",
    "    'purpose_car',\n",
    "    'installment',\n",
    "    'is_first_loan',\n",
    "    'avg_cur_bal',   \n",
    "]\n",
    "\n",
    "lgbm_params = {\n",
    "    'objective': 'binary',\n",
    "    'max_depth': 1,\n",
    "    'learning_rate': 0.05,\n",
    "    'lambda_l2': 0.01,\n",
    "    'seed': 17,\n",
    "    'n_estimators': 1000,\n",
    "    'min_child_weight': 40,\n",
    "}\n",
    "\n",
    "knn_params = {\n",
    "    \"n_neighbors\": 130,\n",
    "    \"weights\": 'distance',\n",
    "}\n",
    "\n",
    "knn_columns = [\n",
    "    'percent_per_year',\n",
    "#     'percent',\n",
    "    'term',\n",
    "    'loan_income_ratio',\n",
    "    'psk',\n",
    "    'additional_dti',\n",
    "    \n",
    "    'purpose_small_business',\n",
    "    'purpose_home_improvement',\n",
    "    'purpose_major_purchase',\n",
    "    'purpose_medical',\n",
    "    'purpose_vacation',\n",
    "    'purpose_wedding',\n",
    "    'purpose_car',\n",
    "    \n",
    "    'acc_open_past_24mths',\n",
    "    'num_accts_ever_120_pd',\n",
    "    \n",
    "    'home_ownership_MORTGAGE',\n",
    "    'home_ownership_RENT',\n",
    "    \n",
    "    'installment',\n",
    "    'is_first_loan',\n",
    "    'avg_cur_bal',\n",
    "    'is_emp_length_unknown',\n",
    "    'even_salary',\n",
    "]\n",
    "\n",
    "lgbm_columns = [\n",
    "    'percent',\n",
    "    'acc_open_past_24mths',\n",
    "    'avg_cur_bal',\n",
    "    'loan_income_ratio',\n",
    "    'annual_inc',\n",
    "    'tot_hi_cred_lim',\n",
    "    'additional_dti',\n",
    "    'percent_per_year',\n",
    "    'purpose',\n",
    "    'dti',\n",
    "    'home_ownership',\n",
    "    'num_accts_ever_120_pd',\n",
    "    'psk',\n",
    "    'is_emp_length_unknown',\n",
    "    'funded_amnt',\n",
    "]\n",
    "\n",
    "lgbm_cat_features = [\n",
    "    'purpose',\n",
    "    'home_ownership',\n",
    "]\n",
    "\n",
    "xgb_columns = [   \n",
    "    'dti',\n",
    "    'inq_last_6mths',\n",
    "    'mths_since_recent_inq',\n",
    "    'num_accts_ever_120_pd',\n",
    "    'acc_open_past_24mths',\n",
    "    'tot_hi_cred_lim',\n",
    "    'purpose',\n",
    "    'home_ownership',\n",
    "    'psk',\n",
    "    'percent',\n",
    "    'loan_income_ratio',\n",
    "    'is_emp_length_unknown',\n",
    "    'funded_amnt_mod_100',   \n",
    "]\n",
    "\n",
    "\n",
    "xgb_params = {\n",
    "    'max_depth': 1,\n",
    "    'learning_rate': 0.1,\n",
    "    'reg_alpha': 1,\n",
    "    'reg_lambda': 10,\n",
    "    'n_estimators': 1500,\n",
    "}\n",
    "\n",
    "nb_columns = [\n",
    "    'percent',\n",
    "    'annual_inc',\n",
    "    'purpose_small_business',\n",
    "    'percent_per_year',\n",
    "    'additional_dti', \n",
    "    'avg_cur_bal_log',\n",
    "]\n",
    "\n",
    "bnb_columns = [\n",
    "    'loan_income_ratio',\n",
    "    'annual_inc_log',\n",
    "    'percent',\n",
    "    'home_ownership_RENT',\n",
    "    'inq_last_6mths',\n",
    "    'tot_hi_cred_lim',\n",
    "    'is_first_loan',\n",
    "    'num_accts_ever_120_pd',\n",
    "    'term',\n",
    "    'purpose_small_business',\n",
    "    'acc_open_past_24mths',\n",
    "    'home_ownership_MORTGAGE',\n",
    "]\n",
    "\n",
    "rf_columns = [\n",
    "    'residual_dti',\n",
    "    'tot_hi_cred_lim_annual_inc_ratio',\n",
    "    'funded_amnt',\n",
    "    'dti_ratio_min',\n",
    "    'mths_since_recent_inq',\n",
    "    'tot_hi_cred_lim_funded_amnt_ratio',\n",
    "    'waste_to_installment_ratio',\n",
    "    'avg_cur_bal_log',\n",
    "    'annual_inc',\n",
    "    'tot_hi_cred_lim_sqrt',\n",
    "    'acc_open_past_24mths_ratio',\n",
    "    'inq_last_6mths',\n",
    "    'tot_hi_cred_lim',\n",
    "    'installment',\n",
    "    'dti',\n",
    "    'loan_income_ratio',\n",
    "    'avg_cur_bal_sqrt',\n",
    "    'additional_dti',\n",
    "    'avg_cur_bal',\n",
    "    'acc_open_past_24mths',\n",
    "    'funded_amnt_mod_100',\n",
    "    'term',\n",
    "    'psk',\n",
    "    'percent',\n",
    "    'percent_per_year'\n",
    "]\n",
    "\n",
    "rf_params = {\n",
    "    'n_estimators': 100,\n",
    "    'max_depth': 6,\n",
    "}"
   ]
  },
  {
   "cell_type": "code",
   "execution_count": 135,
   "metadata": {},
   "outputs": [],
   "source": [
    "def init_and_fit_model(x_train, x_test, y_train, y_test, params, cat_features, model):\n",
    "    if model=='catboost':\n",
    "        eval_dataset = Pool(x_test, y_test, cat_features)\n",
    "        inner_model = CatBoostClassifier(**params)\n",
    "\n",
    "        inner_model.fit(\n",
    "            x_train,  \n",
    "            y_train,\n",
    "            cat_features,\n",
    "            eval_set=eval_dataset,\n",
    "            verbose=0,\n",
    "            use_best_model=True,\n",
    "        )\n",
    "    elif model == 'logreg':\n",
    "        inner_model = LogisticRegression(**params)\n",
    "        inner_model.fit(x_train, y_train)\n",
    "    elif model == 'lgbm':\n",
    "        inner_model = LGBMClassifier(**params)\n",
    "        inner_model.fit(\n",
    "            x_train,  \n",
    "            y_train,\n",
    "            eval_set=[(x_test, y_test)],\n",
    "            eval_metric='auc',\n",
    "            verbose=0,\n",
    "            early_stopping_rounds=50,\n",
    "            categorical_feature=cat_features,\n",
    "        )\n",
    "    elif model == 'knn':\n",
    "        inner_model = KNeighborsClassifier(**params)\n",
    "        inner_model.fit(x_train, y_train)\n",
    "    elif model == 'xgboost':\n",
    "        inner_model = XGBClassifier(**params)\n",
    "\n",
    "        inner_model.fit(\n",
    "            x_train,  \n",
    "            y_train,\n",
    "            eval_set=[(x_test, y_test)],\n",
    "            eval_metric='auc',\n",
    "            verbose=0,\n",
    "            early_stopping_rounds=150,\n",
    "        )\n",
    "    elif model == 'nb':\n",
    "        inner_model = GaussianNB()\n",
    "        inner_model.fit(x_train,y_train)\n",
    "    elif model == 'bnb':\n",
    "        inner_model = BernoulliNB()\n",
    "        inner_model.fit(x_train, y_train)\n",
    "    elif model == 'rf':\n",
    "        inner_model = RandomForestClassifier(**params, random_state=17)\n",
    "        inner_model.fit(x_train, y_train)\n",
    "    return inner_model\n",
    "\n",
    "def do_cv(x_train, x_test, y_train, features, cat_features, params, splitter, model='catboost'):\n",
    "    oof_result = pd.Series([0] * x_train.shape[0], index=x_train.index)\n",
    "    result = [0] * x_test.shape[0]\n",
    "    scores = []\n",
    "    for ind_trn, ind_test in splitter.split(x_train, y_train):\n",
    "        X_train_df = x_train[features].iloc[ind_trn]\n",
    "        X_valid_df = x_train[features].iloc[ind_test]\n",
    "        y_train_df = y_train.iloc[ind_trn]\n",
    "        y_valid_df = y_train.iloc[ind_test]\n",
    "\n",
    "        fitted_model = init_and_fit_model(\n",
    "            X_train_df,\n",
    "            X_valid_df,\n",
    "            y_train_df,\n",
    "            y_valid_df,\n",
    "            params,\n",
    "            cat_features,\n",
    "            model\n",
    "        )\n",
    "        \n",
    "        scores.append(roc_auc_score(y_valid_df, fitted_model.predict_proba(X_valid_df)[:, 1]))\n",
    "        result += fitted_model.predict_proba(x_test[features])[:, 1:].flatten()/5\n",
    "        oof_result.loc[X_valid_df.index] = fitted_model.predict_proba(X_valid_df)[:, 1]\n",
    "        \n",
    "    return scores, result, oof_result"
   ]
  },
  {
   "cell_type": "code",
   "execution_count": 136,
   "metadata": {},
   "outputs": [],
   "source": [
    "catboost_train = pd.read_csv('data/catboost_train.csv')\n",
    "catboost_test = pd.read_csv('data/catboost_test.csv')\n",
    "lgbm_train = pd.read_csv('data/catboost_train.csv')\n",
    "lgbm_test = pd.read_csv('data/catboost_test.csv')\n",
    "logreg_train = pd.read_csv('data/logreg_train.csv')\n",
    "logreg_test = pd.read_csv('data/logreg_test.csv')"
   ]
  },
  {
   "cell_type": "code",
   "execution_count": 137,
   "metadata": {},
   "outputs": [],
   "source": [
    "cat_cols = [\n",
    "    'purpose',\n",
    "    'home_ownership',\n",
    "    'subgrade'\n",
    "]\n",
    "\n",
    "for cat_cols in cat_cols:\n",
    "    le = LabelEncoder()\n",
    "    lgbm_train[cat_cols] = le.fit_transform(lgbm_train[cat_cols])\n",
    "    lgbm_test[cat_cols] = le.transform(lgbm_test[cat_cols])"
   ]
  },
  {
   "cell_type": "code",
   "execution_count": 6,
   "metadata": {},
   "outputs": [],
   "source": [
    "catboost_train_small, catboost_valid, catboost_y_train, catboost_y_valid = train_test_split(\n",
    "    catboost_train.drop(columns=['def'], axis=1),\n",
    "    catboost_train['def'],\n",
    "    test_size=0.2,\n",
    "    random_state=18,\n",
    "    stratify=catboost_train['def']\n",
    ")\n",
    "\n",
    "logreg_train_small = logreg_train.loc[catboost_train_small.index].drop(columns=['def'], axis=1).copy()\n",
    "logreg_valid = logreg_train.loc[catboost_valid.index].drop(columns=['def'], axis=1).copy()\n",
    "logreg_y_train = logreg_train.loc[catboost_train_small.index]['def']\n",
    "logreg_y_valid = logreg_train.loc[catboost_valid.index]['def']\n",
    "\n",
    "lgbm_train_small = lgbm_train.loc[catboost_train_small.index].drop(columns=['def'], axis=1).copy()\n",
    "lgbm_valid = lgbm_train.loc[catboost_valid.index].drop(columns=['def'], axis=1).copy()\n",
    "lgbm_y_train = lgbm_train.loc[catboost_train_small.index]['def']\n",
    "lgbm_y_valid = lgbm_train.loc[catboost_valid.index]['def']\n",
    "\n",
    "xgb_train_small = lgbm_train.loc[catboost_train_small.index].drop(columns=['def'], axis=1).copy()\n",
    "xgb_valid = lgbm_train.loc[catboost_valid.index].drop(columns=['def'], axis=1).copy()\n",
    "xgb_y_train = lgbm_train.loc[catboost_train_small.index]['def']\n",
    "xgb_y_valid = lgbm_train.loc[catboost_valid.index]['def']\n",
    "\n",
    "knn_train_small = logreg_train.loc[catboost_train_small.index].drop(columns=['def'], axis=1).copy()\n",
    "knn_valid = logreg_train.loc[catboost_valid.index].drop(columns=['def'], axis=1).copy()\n",
    "knn_y_train = logreg_train.loc[catboost_train_small.index]['def']\n",
    "knn_y_valid = logreg_train.loc[catboost_valid.index]['def']"
   ]
  },
  {
   "cell_type": "code",
   "execution_count": 145,
   "metadata": {},
   "outputs": [
    {
     "name": "stderr",
     "output_type": "stream",
     "text": [
      "d:\\kaggle\\sber_plus_nsu\\.venv\\lib\\site-packages\\lightgbm\\basic.py:1551: UserWarning: Using categorical_feature in Dataset.\n",
      "  warnings.warn('Using categorical_feature in Dataset.')\n",
      "d:\\kaggle\\sber_plus_nsu\\.venv\\lib\\site-packages\\lightgbm\\basic.py:1555: UserWarning: categorical_feature in Dataset is overridden.\n",
      "New categorical_feature is ['home_ownership', 'purpose']\n",
      "  'New categorical_feature is {}'.format(sorted(list(categorical_feature))))\n",
      "d:\\kaggle\\sber_plus_nsu\\.venv\\lib\\site-packages\\lightgbm\\basic.py:1286: UserWarning: Overriding the parameters from Reference Dataset.\n",
      "  warnings.warn('Overriding the parameters from Reference Dataset.')\n",
      "d:\\kaggle\\sber_plus_nsu\\.venv\\lib\\site-packages\\lightgbm\\basic.py:1098: UserWarning: categorical_column in param dict is overridden.\n",
      "  warnings.warn('{} in param dict is overridden.'.format(cat_alias))\n"
     ]
    },
    {
     "name": "stdout",
     "output_type": "stream",
     "text": [
      "[LightGBM] [Warning] lambda_l2 is set=0.01, reg_lambda=0.0 will be ignored. Current value: lambda_l2=0.01\n"
     ]
    },
    {
     "name": "stderr",
     "output_type": "stream",
     "text": [
      "d:\\kaggle\\sber_plus_nsu\\.venv\\lib\\site-packages\\lightgbm\\basic.py:1551: UserWarning: Using categorical_feature in Dataset.\n",
      "  warnings.warn('Using categorical_feature in Dataset.')\n",
      "d:\\kaggle\\sber_plus_nsu\\.venv\\lib\\site-packages\\lightgbm\\basic.py:1555: UserWarning: categorical_feature in Dataset is overridden.\n",
      "New categorical_feature is ['home_ownership', 'purpose']\n",
      "  'New categorical_feature is {}'.format(sorted(list(categorical_feature))))\n",
      "d:\\kaggle\\sber_plus_nsu\\.venv\\lib\\site-packages\\lightgbm\\basic.py:1286: UserWarning: Overriding the parameters from Reference Dataset.\n",
      "  warnings.warn('Overriding the parameters from Reference Dataset.')\n",
      "d:\\kaggle\\sber_plus_nsu\\.venv\\lib\\site-packages\\lightgbm\\basic.py:1098: UserWarning: categorical_column in param dict is overridden.\n",
      "  warnings.warn('{} in param dict is overridden.'.format(cat_alias))\n"
     ]
    },
    {
     "name": "stdout",
     "output_type": "stream",
     "text": [
      "[LightGBM] [Warning] lambda_l2 is set=0.01, reg_lambda=0.0 will be ignored. Current value: lambda_l2=0.01\n"
     ]
    },
    {
     "name": "stderr",
     "output_type": "stream",
     "text": [
      "d:\\kaggle\\sber_plus_nsu\\.venv\\lib\\site-packages\\lightgbm\\basic.py:1551: UserWarning: Using categorical_feature in Dataset.\n",
      "  warnings.warn('Using categorical_feature in Dataset.')\n",
      "d:\\kaggle\\sber_plus_nsu\\.venv\\lib\\site-packages\\lightgbm\\basic.py:1555: UserWarning: categorical_feature in Dataset is overridden.\n",
      "New categorical_feature is ['home_ownership', 'purpose']\n",
      "  'New categorical_feature is {}'.format(sorted(list(categorical_feature))))\n",
      "d:\\kaggle\\sber_plus_nsu\\.venv\\lib\\site-packages\\lightgbm\\basic.py:1286: UserWarning: Overriding the parameters from Reference Dataset.\n",
      "  warnings.warn('Overriding the parameters from Reference Dataset.')\n",
      "d:\\kaggle\\sber_plus_nsu\\.venv\\lib\\site-packages\\lightgbm\\basic.py:1098: UserWarning: categorical_column in param dict is overridden.\n",
      "  warnings.warn('{} in param dict is overridden.'.format(cat_alias))\n"
     ]
    },
    {
     "name": "stdout",
     "output_type": "stream",
     "text": [
      "[LightGBM] [Warning] lambda_l2 is set=0.01, reg_lambda=0.0 will be ignored. Current value: lambda_l2=0.01\n"
     ]
    },
    {
     "name": "stderr",
     "output_type": "stream",
     "text": [
      "d:\\kaggle\\sber_plus_nsu\\.venv\\lib\\site-packages\\lightgbm\\basic.py:1551: UserWarning: Using categorical_feature in Dataset.\n",
      "  warnings.warn('Using categorical_feature in Dataset.')\n",
      "d:\\kaggle\\sber_plus_nsu\\.venv\\lib\\site-packages\\lightgbm\\basic.py:1555: UserWarning: categorical_feature in Dataset is overridden.\n",
      "New categorical_feature is ['home_ownership', 'purpose']\n",
      "  'New categorical_feature is {}'.format(sorted(list(categorical_feature))))\n",
      "d:\\kaggle\\sber_plus_nsu\\.venv\\lib\\site-packages\\lightgbm\\basic.py:1286: UserWarning: Overriding the parameters from Reference Dataset.\n",
      "  warnings.warn('Overriding the parameters from Reference Dataset.')\n",
      "d:\\kaggle\\sber_plus_nsu\\.venv\\lib\\site-packages\\lightgbm\\basic.py:1098: UserWarning: categorical_column in param dict is overridden.\n",
      "  warnings.warn('{} in param dict is overridden.'.format(cat_alias))\n"
     ]
    },
    {
     "name": "stdout",
     "output_type": "stream",
     "text": [
      "[LightGBM] [Warning] lambda_l2 is set=0.01, reg_lambda=0.0 will be ignored. Current value: lambda_l2=0.01\n"
     ]
    },
    {
     "name": "stderr",
     "output_type": "stream",
     "text": [
      "d:\\kaggle\\sber_plus_nsu\\.venv\\lib\\site-packages\\lightgbm\\basic.py:1551: UserWarning: Using categorical_feature in Dataset.\n",
      "  warnings.warn('Using categorical_feature in Dataset.')\n",
      "d:\\kaggle\\sber_plus_nsu\\.venv\\lib\\site-packages\\lightgbm\\basic.py:1555: UserWarning: categorical_feature in Dataset is overridden.\n",
      "New categorical_feature is ['home_ownership', 'purpose']\n",
      "  'New categorical_feature is {}'.format(sorted(list(categorical_feature))))\n",
      "d:\\kaggle\\sber_plus_nsu\\.venv\\lib\\site-packages\\lightgbm\\basic.py:1286: UserWarning: Overriding the parameters from Reference Dataset.\n",
      "  warnings.warn('Overriding the parameters from Reference Dataset.')\n",
      "d:\\kaggle\\sber_plus_nsu\\.venv\\lib\\site-packages\\lightgbm\\basic.py:1098: UserWarning: categorical_column in param dict is overridden.\n",
      "  warnings.warn('{} in param dict is overridden.'.format(cat_alias))\n"
     ]
    },
    {
     "name": "stdout",
     "output_type": "stream",
     "text": [
      "[LightGBM] [Warning] lambda_l2 is set=0.01, reg_lambda=0.0 will be ignored. Current value: lambda_l2=0.01\n"
     ]
    }
   ],
   "source": [
    "skf = StratifiedKFold(n_splits=5, random_state=18, shuffle=True)\n",
    "cb_scores, cb_result, cb_oof_result = do_cv(\n",
    "    catboost_train_small,\n",
    "    catboost_valid,\n",
    "    catboost_y_train,\n",
    "    catboost_columns,\n",
    "    catboost_cat_features,\n",
    "    catboost_params,\n",
    "    skf,\n",
    "    'catboost'\n",
    ")\n",
    "\n",
    "lr_scores, lr_result, lr_oof_result = do_cv(\n",
    "    logreg_train_small,\n",
    "    logreg_valid,\n",
    "    logreg_y_train,\n",
    "    lr_cols,\n",
    "    [],\n",
    "    lr_params,\n",
    "    skf,\n",
    "    'logreg',\n",
    ")\n",
    "\n",
    "# skf = StratifiedKFold(n_splits=5, random_state=21, shuffle=True)\n",
    "lgbm_scores, lgbm_result, lgbm_oof_result = do_cv(\n",
    "    lgbm_train_small,\n",
    "    lgbm_valid,\n",
    "    lgbm_y_train,\n",
    "    lgbm_columns,\n",
    "    lgbm_cat_features,\n",
    "    lgbm_params,\n",
    "    skf,\n",
    "    'lgbm'\n",
    ")\n",
    "\n",
    "knn_scores, knn_result, knn_oof_result = do_cv(\n",
    "    knn_train_small,\n",
    "    knn_valid,\n",
    "    knn_y_train,\n",
    "    knn_columns,\n",
    "    [],\n",
    "    knn_params,\n",
    "    skf,\n",
    "    'knn'\n",
    ")\n",
    "\n",
    "xgb_scores, xgb_result, xgb_oof_result = do_cv(\n",
    "    xgb_train_small,\n",
    "    xgb_valid,\n",
    "    xgb_y_train,\n",
    "    xgb_columns,\n",
    "    [],\n",
    "    xgb_params,\n",
    "    skf,\n",
    "    'xgboost'\n",
    ")"
   ]
  },
  {
   "cell_type": "code",
   "execution_count": 147,
   "metadata": {},
   "outputs": [],
   "source": [
    "nb_scores, nb_result, nb_oof_result = do_cv(\n",
    "    logreg_train_small,\n",
    "    logreg_valid,\n",
    "    logreg_y_train,\n",
    "    nb_columns,\n",
    "    [],\n",
    "    {},\n",
    "    skf,\n",
    "    'nb',\n",
    ")\n",
    "\n",
    "bnb_scores, bnb_result, bnb_oof_result = do_cv(\n",
    "    logreg_train_small,\n",
    "    logreg_valid,\n",
    "    logreg_y_train,\n",
    "    bnb_columns,\n",
    "    [],\n",
    "    {},\n",
    "    skf,\n",
    "    'bnb',\n",
    ")\n",
    "\n",
    "rf_scores, rf_result, rf_oof_result = do_cv(\n",
    "    logreg_train_small,\n",
    "    logreg_valid,\n",
    "    logreg_y_train,\n",
    "    rf_columns,\n",
    "    [],\n",
    "    rf_params,\n",
    "    skf,\n",
    "    'rf',\n",
    ")"
   ]
  },
  {
   "cell_type": "code",
   "execution_count": 355,
   "metadata": {},
   "outputs": [],
   "source": [
    "new_train_df = pd.DataFrame({\n",
    "#     'lr':lr_oof_result,\n",
    "    'cb':cb_oof_result,\n",
    "    'lgbm': lgbm_oof_result,\n",
    "#     'knn': knn_oof_result,\n",
    "    'xgb': xgb_oof_result,\n",
    "#     'nb': nb_oof_result,\n",
    "    'bnb': bnb_oof_result,\n",
    "#     'rf': rf_oof_result,\n",
    "})\n",
    "new_test_df = pd.DataFrame({\n",
    "#     'lr':lr_result,\n",
    "    'cb':cb_result,\n",
    "    'lgbm': lgbm_result,\n",
    "#     'knn': knn_result,\n",
    "    'xgb': xgb_result,\n",
    "#     'nb': nb_result,\n",
    "    'bnb': bnb_result,\n",
    "#     'rf': rf_result,\n",
    "})"
   ]
  },
  {
   "cell_type": "code",
   "execution_count": 356,
   "metadata": {},
   "outputs": [
    {
     "name": "stdout",
     "output_type": "stream",
     "text": [
      "0.01 0.6847873732363498\n",
      "0.03 0.6856420082460228\n",
      "0.049999999999999996 0.6858786859095837\n",
      "0.06999999999999999 0.6858984605446593\n",
      "0.08999999999999998 0.6859656119096036\n",
      "0.10999999999999997 0.6859851805588971\n",
      "0.12999999999999998 0.6859946559048707\n",
      "0.15 0.6860000115352038\n",
      "0.16999999999999998 0.6860094868811775\n",
      "0.18999999999999997 0.6860280256015611\n",
      "0.20999999999999996 0.6860296734878173\n",
      "0.26999999999999996 0.6860401787627012\n",
      "0.29 0.6860440924925598\n",
      "0.36999999999999994 0.6860453284072521\n",
      "0.5099999999999999 0.6860467703077263\n",
      "0.5299999999999999 0.6860492421371107\n",
      "0.6499999999999999 0.6860515079807132\n",
      "0.69 0.6860537738243156\n",
      "0.7499999999999999 0.6860574815683922\n",
      "0.8299999999999998 0.6860597474119946\n",
      "0.8699999999999999 0.6860626312129432\n",
      "0.9299999999999998 0.6860657209996739\n",
      "1.3099999999999998 0.6860683988148402\n"
     ]
    }
   ],
   "source": [
    "max_score = 0\n",
    "best_c = 0\n",
    "scores = []\n",
    "for c in np.linspace(0.01, 2.01, 101):\n",
    "    metamodel = LogisticRegression(C=c, solver='liblinear', penalty='l1')\n",
    "    metamodel.fit(new_train_df, logreg_y_train)\n",
    "    sc = roc_auc_score(logreg_y_valid, metamodel.predict_proba(new_test_df)[:, 1])\n",
    "    scores.append(sc)\n",
    "    if sc > max_score:\n",
    "        print(c, sc)\n",
    "        max_score = sc\n",
    "        best_c = c"
   ]
  },
  {
   "cell_type": "code",
   "execution_count": 357,
   "metadata": {},
   "outputs": [
    {
     "data": {
      "text/plain": [
       "[<matplotlib.lines.Line2D at 0x255c234f4a8>]"
      ]
     },
     "execution_count": 357,
     "metadata": {},
     "output_type": "execute_result"
    },
    {
     "data": {
      "image/png": "[encoded data removed]",
      "text/plain": [
       "<Figure size 432x288 with 1 Axes>"
      ]
     },
     "metadata": {
      "needs_background": "light"
     },
     "output_type": "display_data"
    }
   ],
   "source": [
    "plt.plot(np.linspace(0.01, 2.01, 101), scores)"
   ]
  },
  {
   "cell_type": "code",
   "execution_count": 358,
   "metadata": {},
   "outputs": [
    {
     "data": {
      "text/plain": [
       "array([1.52620167, 1.91166173, 3.12181923, 0.40137854])"
      ]
     },
     "execution_count": 358,
     "metadata": {},
     "output_type": "execute_result"
    }
   ],
   "source": [
    "metamodel.coef_[0]"
   ]
  },
  {
   "cell_type": "code",
   "execution_count": 359,
   "metadata": {},
   "outputs": [
    {
     "data": {
      "text/html": [
       "<div>\n",
       "<style scoped>\n",
       "    .dataframe tbody tr th:only-of-type {\n",
       "        vertical-align: middle;\n",
       "    }\n",
       "\n",
       "    .dataframe tbody tr th {\n",
       "        vertical-align: top;\n",
       "    }\n",
       "\n",
       "    .dataframe thead th {\n",
       "        text-align: right;\n",
       "    }\n",
       "</style>\n",
       "<table border=\"1\" class=\"dataframe\">\n",
       "  <thead>\n",
       "    <tr style=\"text-align: right;\">\n",
       "      <th></th>\n",
       "      <th>cb</th>\n",
       "      <th>lgbm</th>\n",
       "      <th>xgb</th>\n",
       "      <th>bnb</th>\n",
       "    </tr>\n",
       "  </thead>\n",
       "  <tbody>\n",
       "    <tr>\n",
       "      <th>14109</th>\n",
       "      <td>0.124866</td>\n",
       "      <td>0.123943</td>\n",
       "      <td>0.102258</td>\n",
       "      <td>0.248348</td>\n",
       "    </tr>\n",
       "    <tr>\n",
       "      <th>18950</th>\n",
       "      <td>0.126170</td>\n",
       "      <td>0.130497</td>\n",
       "      <td>0.126379</td>\n",
       "      <td>0.094639</td>\n",
       "    </tr>\n",
       "    <tr>\n",
       "      <th>3675</th>\n",
       "      <td>0.267911</td>\n",
       "      <td>0.269999</td>\n",
       "      <td>0.231292</td>\n",
       "      <td>0.310287</td>\n",
       "    </tr>\n",
       "    <tr>\n",
       "      <th>16429</th>\n",
       "      <td>0.279255</td>\n",
       "      <td>0.288998</td>\n",
       "      <td>0.268855</td>\n",
       "      <td>0.205284</td>\n",
       "    </tr>\n",
       "    <tr>\n",
       "      <th>13475</th>\n",
       "      <td>0.302361</td>\n",
       "      <td>0.286486</td>\n",
       "      <td>0.266815</td>\n",
       "      <td>0.240296</td>\n",
       "    </tr>\n",
       "    <tr>\n",
       "      <th>...</th>\n",
       "      <td>...</td>\n",
       "      <td>...</td>\n",
       "      <td>...</td>\n",
       "      <td>...</td>\n",
       "    </tr>\n",
       "    <tr>\n",
       "      <th>28334</th>\n",
       "      <td>0.055209</td>\n",
       "      <td>0.043037</td>\n",
       "      <td>0.047204</td>\n",
       "      <td>0.119137</td>\n",
       "    </tr>\n",
       "    <tr>\n",
       "      <th>5861</th>\n",
       "      <td>0.086697</td>\n",
       "      <td>0.092072</td>\n",
       "      <td>0.081122</td>\n",
       "      <td>0.044510</td>\n",
       "    </tr>\n",
       "    <tr>\n",
       "      <th>26451</th>\n",
       "      <td>0.160622</td>\n",
       "      <td>0.166365</td>\n",
       "      <td>0.229929</td>\n",
       "      <td>0.196331</td>\n",
       "    </tr>\n",
       "    <tr>\n",
       "      <th>2572</th>\n",
       "      <td>0.149404</td>\n",
       "      <td>0.160740</td>\n",
       "      <td>0.150556</td>\n",
       "      <td>0.191951</td>\n",
       "    </tr>\n",
       "    <tr>\n",
       "      <th>24625</th>\n",
       "      <td>0.188083</td>\n",
       "      <td>0.168425</td>\n",
       "      <td>0.173263</td>\n",
       "      <td>0.257684</td>\n",
       "    </tr>\n",
       "  </tbody>\n",
       "</table>\n",
       "<p>24000 rows × 4 columns</p>\n",
       "</div>"
      ],
      "text/plain": [
       "             cb      lgbm       xgb       bnb\n",
       "14109  0.124866  0.123943  0.102258  0.248348\n",
       "18950  0.126170  0.130497  0.126379  0.094639\n",
       "3675   0.267911  0.269999  0.231292  0.310287\n",
       "16429  0.279255  0.288998  0.268855  0.205284\n",
       "13475  0.302361  0.286486  0.266815  0.240296\n",
       "...         ...       ...       ...       ...\n",
       "28334  0.055209  0.043037  0.047204  0.119137\n",
       "5861   0.086697  0.092072  0.081122  0.044510\n",
       "26451  0.160622  0.166365  0.229929  0.196331\n",
       "2572   0.149404  0.160740  0.150556  0.191951\n",
       "24625  0.188083  0.168425  0.173263  0.257684\n",
       "\n",
       "[24000 rows x 4 columns]"
      ]
     },
     "execution_count": 359,
     "metadata": {},
     "output_type": "execute_result"
    }
   ],
   "source": [
    "new_train_df"
   ]
  },
  {
   "cell_type": "code",
   "execution_count": 360,
   "metadata": {},
   "outputs": [
    {
     "name": "stdout",
     "output_type": "stream",
     "text": [
      "cb 0.6853262391710406 0.6838501379280796\n",
      "lgbm 0.6850292356616391 0.6839048271532105\n",
      "xgb 0.6869176295167968 0.6847873732363498\n",
      "bnb 0.6511381297505183 0.6599939975743115\n"
     ]
    }
   ],
   "source": [
    "for col in new_train_df:\n",
    "    print(col, roc_auc_score(logreg_y_train, new_train_df[col]),  roc_auc_score(logreg_y_valid, new_test_df[col]))"
   ]
  },
  {
   "cell_type": "code",
   "execution_count": 364,
   "metadata": {},
   "outputs": [
    {
     "data": {
      "image/png": "[encoded data removed]",
      "text/plain": [
       "<Figure size 432x288 with 1 Axes>"
      ]
     },
     "metadata": {
      "needs_background": "light"
     },
     "output_type": "display_data"
    }
   ],
   "source": [
    "# new_train_df['lr'].hist(alpha=0.5, bins=30, density='uniform', label='lr')\n",
    "new_train_df['cb'].hist(alpha=0.5, bins=30, density='uniform', label='cb')\n",
    "new_train_df['lgbm'].hist(alpha=0.5, bins=30, density='uniform', label='lgbm')\n",
    "new_train_df['bnb'].hist(alpha=0.5, bins=30, density='uniform', label='bnb')\n",
    "new_train_df['xgb'].hist(alpha=0.5, bins=30, density='uniform', label='xgb')\n",
    "plt.legend()\n",
    "plt.show()\n"
   ]
  },
  {
   "cell_type": "code",
   "execution_count": 365,
   "metadata": {},
   "outputs": [
    {
     "name": "stderr",
     "output_type": "stream",
     "text": [
      "d:\\kaggle\\sber_plus_nsu\\.venv\\lib\\site-packages\\lightgbm\\basic.py:1551: UserWarning: Using categorical_feature in Dataset.\n",
      "  warnings.warn('Using categorical_feature in Dataset.')\n",
      "d:\\kaggle\\sber_plus_nsu\\.venv\\lib\\site-packages\\lightgbm\\basic.py:1555: UserWarning: categorical_feature in Dataset is overridden.\n",
      "New categorical_feature is ['home_ownership', 'purpose']\n",
      "  'New categorical_feature is {}'.format(sorted(list(categorical_feature))))\n",
      "d:\\kaggle\\sber_plus_nsu\\.venv\\lib\\site-packages\\lightgbm\\basic.py:1286: UserWarning: Overriding the parameters from Reference Dataset.\n",
      "  warnings.warn('Overriding the parameters from Reference Dataset.')\n",
      "d:\\kaggle\\sber_plus_nsu\\.venv\\lib\\site-packages\\lightgbm\\basic.py:1098: UserWarning: categorical_column in param dict is overridden.\n",
      "  warnings.warn('{} in param dict is overridden.'.format(cat_alias))\n"
     ]
    },
    {
     "name": "stdout",
     "output_type": "stream",
     "text": [
      "[LightGBM] [Warning] lambda_l2 is set=0.01, reg_lambda=0.0 will be ignored. Current value: lambda_l2=0.01\n"
     ]
    },
    {
     "name": "stderr",
     "output_type": "stream",
     "text": [
      "d:\\kaggle\\sber_plus_nsu\\.venv\\lib\\site-packages\\lightgbm\\basic.py:1551: UserWarning: Using categorical_feature in Dataset.\n",
      "  warnings.warn('Using categorical_feature in Dataset.')\n",
      "d:\\kaggle\\sber_plus_nsu\\.venv\\lib\\site-packages\\lightgbm\\basic.py:1555: UserWarning: categorical_feature in Dataset is overridden.\n",
      "New categorical_feature is ['home_ownership', 'purpose']\n",
      "  'New categorical_feature is {}'.format(sorted(list(categorical_feature))))\n",
      "d:\\kaggle\\sber_plus_nsu\\.venv\\lib\\site-packages\\lightgbm\\basic.py:1286: UserWarning: Overriding the parameters from Reference Dataset.\n",
      "  warnings.warn('Overriding the parameters from Reference Dataset.')\n",
      "d:\\kaggle\\sber_plus_nsu\\.venv\\lib\\site-packages\\lightgbm\\basic.py:1098: UserWarning: categorical_column in param dict is overridden.\n",
      "  warnings.warn('{} in param dict is overridden.'.format(cat_alias))\n"
     ]
    },
    {
     "name": "stdout",
     "output_type": "stream",
     "text": [
      "[LightGBM] [Warning] lambda_l2 is set=0.01, reg_lambda=0.0 will be ignored. Current value: lambda_l2=0.01\n"
     ]
    },
    {
     "name": "stderr",
     "output_type": "stream",
     "text": [
      "d:\\kaggle\\sber_plus_nsu\\.venv\\lib\\site-packages\\lightgbm\\basic.py:1551: UserWarning: Using categorical_feature in Dataset.\n",
      "  warnings.warn('Using categorical_feature in Dataset.')\n",
      "d:\\kaggle\\sber_plus_nsu\\.venv\\lib\\site-packages\\lightgbm\\basic.py:1555: UserWarning: categorical_feature in Dataset is overridden.\n",
      "New categorical_feature is ['home_ownership', 'purpose']\n",
      "  'New categorical_feature is {}'.format(sorted(list(categorical_feature))))\n",
      "d:\\kaggle\\sber_plus_nsu\\.venv\\lib\\site-packages\\lightgbm\\basic.py:1286: UserWarning: Overriding the parameters from Reference Dataset.\n",
      "  warnings.warn('Overriding the parameters from Reference Dataset.')\n",
      "d:\\kaggle\\sber_plus_nsu\\.venv\\lib\\site-packages\\lightgbm\\basic.py:1098: UserWarning: categorical_column in param dict is overridden.\n",
      "  warnings.warn('{} in param dict is overridden.'.format(cat_alias))\n"
     ]
    },
    {
     "name": "stdout",
     "output_type": "stream",
     "text": [
      "[LightGBM] [Warning] lambda_l2 is set=0.01, reg_lambda=0.0 will be ignored. Current value: lambda_l2=0.01\n"
     ]
    },
    {
     "name": "stderr",
     "output_type": "stream",
     "text": [
      "d:\\kaggle\\sber_plus_nsu\\.venv\\lib\\site-packages\\lightgbm\\basic.py:1551: UserWarning: Using categorical_feature in Dataset.\n",
      "  warnings.warn('Using categorical_feature in Dataset.')\n",
      "d:\\kaggle\\sber_plus_nsu\\.venv\\lib\\site-packages\\lightgbm\\basic.py:1555: UserWarning: categorical_feature in Dataset is overridden.\n",
      "New categorical_feature is ['home_ownership', 'purpose']\n",
      "  'New categorical_feature is {}'.format(sorted(list(categorical_feature))))\n",
      "d:\\kaggle\\sber_plus_nsu\\.venv\\lib\\site-packages\\lightgbm\\basic.py:1286: UserWarning: Overriding the parameters from Reference Dataset.\n",
      "  warnings.warn('Overriding the parameters from Reference Dataset.')\n",
      "d:\\kaggle\\sber_plus_nsu\\.venv\\lib\\site-packages\\lightgbm\\basic.py:1098: UserWarning: categorical_column in param dict is overridden.\n",
      "  warnings.warn('{} in param dict is overridden.'.format(cat_alias))\n"
     ]
    },
    {
     "name": "stdout",
     "output_type": "stream",
     "text": [
      "[LightGBM] [Warning] lambda_l2 is set=0.01, reg_lambda=0.0 will be ignored. Current value: lambda_l2=0.01\n"
     ]
    },
    {
     "name": "stderr",
     "output_type": "stream",
     "text": [
      "d:\\kaggle\\sber_plus_nsu\\.venv\\lib\\site-packages\\lightgbm\\basic.py:1551: UserWarning: Using categorical_feature in Dataset.\n",
      "  warnings.warn('Using categorical_feature in Dataset.')\n",
      "d:\\kaggle\\sber_plus_nsu\\.venv\\lib\\site-packages\\lightgbm\\basic.py:1555: UserWarning: categorical_feature in Dataset is overridden.\n",
      "New categorical_feature is ['home_ownership', 'purpose']\n",
      "  'New categorical_feature is {}'.format(sorted(list(categorical_feature))))\n",
      "d:\\kaggle\\sber_plus_nsu\\.venv\\lib\\site-packages\\lightgbm\\basic.py:1286: UserWarning: Overriding the parameters from Reference Dataset.\n",
      "  warnings.warn('Overriding the parameters from Reference Dataset.')\n",
      "d:\\kaggle\\sber_plus_nsu\\.venv\\lib\\site-packages\\lightgbm\\basic.py:1098: UserWarning: categorical_column in param dict is overridden.\n",
      "  warnings.warn('{} in param dict is overridden.'.format(cat_alias))\n"
     ]
    },
    {
     "name": "stdout",
     "output_type": "stream",
     "text": [
      "[LightGBM] [Warning] lambda_l2 is set=0.01, reg_lambda=0.0 will be ignored. Current value: lambda_l2=0.01\n"
     ]
    }
   ],
   "source": [
    "skf = StratifiedKFold(n_splits=5, random_state=18, shuffle=True)\n",
    "cb_scores, cb_result, cb_oof_result = do_cv(\n",
    "    catboost_train,\n",
    "    catboost_test,\n",
    "    catboost_train['def'],\n",
    "    catboost_columns,\n",
    "    catboost_cat_features,\n",
    "    catboost_params,\n",
    "    skf,\n",
    "    'catboost'\n",
    ")\n",
    "\n",
    "lr_scores, lr_result, lr_oof_result = do_cv(\n",
    "    logreg_train,\n",
    "    logreg_test,\n",
    "    logreg_train['def'],\n",
    "    lr_cols,\n",
    "    [],\n",
    "    lr_params,\n",
    "    skf,\n",
    "    'logreg',\n",
    ")\n",
    "\n",
    "lgbm_scores, lgbm_result, lgbm_oof_result = do_cv(\n",
    "    lgbm_train,\n",
    "    lgbm_test,\n",
    "    lgbm_train['def'],\n",
    "    lgbm_columns,\n",
    "    lgbm_cat_features,\n",
    "    lgbm_params,\n",
    "    skf,\n",
    "    'lgbm'\n",
    ")\n",
    "\n",
    "knn_scores, knn_result, knn_oof_result = do_cv(\n",
    "    logreg_train,\n",
    "    logreg_test,\n",
    "    logreg_train['def'],\n",
    "    knn_columns,\n",
    "    [],\n",
    "    knn_params,\n",
    "    skf,\n",
    "    'knn'\n",
    ")\n",
    "\n",
    "xgb_scores, xgb_result, xgb_oof_result = do_cv(\n",
    "    lgbm_train,\n",
    "    lgbm_test,\n",
    "    lgbm_train['def'],\n",
    "    xgb_columns,\n",
    "    [],\n",
    "    xgb_params,\n",
    "    skf,\n",
    "    'xgboost'\n",
    ")"
   ]
  },
  {
   "cell_type": "code",
   "execution_count": 367,
   "metadata": {},
   "outputs": [],
   "source": [
    "nb_scores, nb_result, nb_oof_result = do_cv(\n",
    "    logreg_train,\n",
    "    logreg_test,\n",
    "    logreg_train['def'],\n",
    "    nb_columns,\n",
    "    [],\n",
    "    {},\n",
    "    skf,\n",
    "    'nb',\n",
    ")\n",
    "\n",
    "bnb_scores, bnb_result, bnb_oof_result = do_cv(\n",
    "    logreg_train,\n",
    "    logreg_test,\n",
    "    logreg_train['def'],\n",
    "    bnb_columns,\n",
    "    [],\n",
    "    {},\n",
    "    skf,\n",
    "    'bnb',\n",
    ")\n",
    "\n",
    "rf_scores, rf_result, rf_oof_result = do_cv(\n",
    "    logreg_train,\n",
    "    logreg_test,\n",
    "    logreg_train['def'],\n",
    "    rf_columns,\n",
    "    [],\n",
    "    rf_params,\n",
    "    skf,\n",
    "    'rf',\n",
    ")"
   ]
  },
  {
   "cell_type": "code",
   "execution_count": 410,
   "metadata": {},
   "outputs": [],
   "source": [
    "new_train_df = pd.DataFrame({\n",
    "#     'lr':lr_oof_result,\n",
    "    'cb':cb_oof_result,\n",
    "#     'lgbm': lgbm_oof_result,\n",
    "    'knn': knn_oof_result,\n",
    "    'xgb': xgb_oof_result,\n",
    "#     'nb': nb_oof_result,\n",
    "#     'bnb': bnb_oof_result,\n",
    "#     'rf': rf_oof_result,\n",
    "})\n",
    "new_test_df = pd.DataFrame({\n",
    "#     'lr':lr_result,\n",
    "    'cb':cb_result,\n",
    "#     'lgbm': lgbm_result,\n",
    "    'knn': knn_result,\n",
    "    'xgb': xgb_result,\n",
    "#     'nb': nb_result,\n",
    "#     'bnb': bnb_result,\n",
    "#     'rf': rf_result,\n",
    "})"
   ]
  },
  {
   "cell_type": "code",
   "execution_count": 411,
   "metadata": {},
   "outputs": [],
   "source": [
    "lr = LogisticRegression(C=best_c, solver='liblinear')\n",
    "scores = cross_val_score(lr, new_train_df, logreg_train['def'], cv=5, scoring='roc_auc')"
   ]
  },
  {
   "cell_type": "code",
   "execution_count": 412,
   "metadata": {},
   "outputs": [
    {
     "data": {
      "text/plain": [
       "(0.6880560338144628, 0.007897976992791102)"
      ]
     },
     "execution_count": 412,
     "metadata": {},
     "output_type": "execute_result"
    }
   ],
   "source": [
    "np.mean(scores), np.std(scores)"
   ]
  },
  {
   "cell_type": "code",
   "execution_count": 370,
   "metadata": {},
   "outputs": [
    {
     "data": {
      "text/plain": [
       "(0.6879667620429942, 0.008442221414091405)"
      ]
     },
     "execution_count": 370,
     "metadata": {},
     "output_type": "execute_result"
    }
   ],
   "source": [
    "np.mean(scores), np.std(scores)"
   ]
  },
  {
   "cell_type": "code",
   "execution_count": 128,
   "metadata": {},
   "outputs": [
    {
     "data": {
      "text/plain": [
       "(0.6880779690462692, 0.00803963076803046)"
      ]
     },
     "execution_count": 128,
     "metadata": {},
     "output_type": "execute_result"
    }
   ],
   "source": [
    "np.mean(scores), np.std(scores)"
   ]
  },
  {
   "cell_type": "code",
   "execution_count": 129,
   "metadata": {},
   "outputs": [
    {
     "data": {
      "text/plain": [
       "(0.6880779690462692, 0.00803963076803046)"
      ]
     },
     "execution_count": 129,
     "metadata": {},
     "output_type": "execute_result"
    }
   ],
   "source": [
    "np.mean(scores), np.std(scores)"
   ]
  },
  {
   "cell_type": "code",
   "execution_count": 130,
   "metadata": {},
   "outputs": [],
   "source": [
    "lr_f_scores, lr_f_result, lr_f_oof_result = do_cv(\n",
    "    new_train_df,\n",
    "    new_test_df,\n",
    "    logreg_train['def'],\n",
    "    new_train_df.columns,\n",
    "    [],\n",
    "    {},\n",
    "    skf,\n",
    "    'logreg',\n",
    ")"
   ]
  },
  {
   "cell_type": "code",
   "execution_count": 131,
   "metadata": {},
   "outputs": [],
   "source": [
    "logreg_test['prob'] = lr_f_result"
   ]
  },
  {
   "cell_type": "code",
   "execution_count": 132,
   "metadata": {},
   "outputs": [],
   "source": [
    "logreg_test[['id', 'prob']].to_csv('blend_v1_eited_submission.csv', index=False)"
   ]
  },
  {
   "cell_type": "code",
   "execution_count": null,
   "metadata": {},
   "outputs": [],
   "source": []
  }
 ],
 "metadata": {
  "kernelspec": {
   "display_name": "Python 3",
   "language": "python",
   "name": "python3"
  },
  "language_info": {
   "codemirror_mode": {
    "name": "ipython",
    "version": 3
   },
   "file_extension": ".py",
   "mimetype": "text/x-python",
   "name": "python",
   "nbconvert_exporter": "python",
   "pygments_lexer": "ipython3",
   "version": "3.7.3"
  }
 },
 "nbformat": 4,
 "nbformat_minor": 2
}
