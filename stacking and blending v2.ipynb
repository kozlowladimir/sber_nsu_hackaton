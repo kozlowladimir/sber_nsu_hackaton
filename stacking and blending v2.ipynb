{
 "cells": [
  {
   "cell_type": "code",
   "execution_count": 1,
   "metadata": {},
   "outputs": [],
   "source": [
    "from catboost import CatBoostClassifier, Pool\n",
    "from sklearn.naive_bayes import GaussianNB, BernoulliNB\n",
    "from sklearn.neighbors import KNeighborsClassifier\n",
    "from sklearn.linear_model import LogisticRegression, LogisticRegressionCV\n",
    "from sklearn.metrics import roc_auc_score\n",
    "from sklearn.ensemble import RandomForestClassifier\n",
    "from sklearn.model_selection import StratifiedKFold, train_test_split, cross_val_score\n",
    "from xgboost import XGBClassifier, DMatrix, plot_importance, plot_tree\n",
    "from lightgbm import LGBMClassifier, Dataset\n",
    "from sklearn.preprocessing import LabelEncoder, StandardScaler\n",
    "import numpy as np\n",
    "import pandas as pd\n",
    "from matplotlib import pyplot as plt"
   ]
  },
  {
   "cell_type": "code",
   "execution_count": 2,
   "metadata": {},
   "outputs": [],
   "source": [
    "catboost_params = {\n",
    "    \"iterations\": 2000,\n",
    "    \"depth\": 1, # 3\n",
    "    \"learning_rate\": 0.07,\n",
    "    \"loss_function\": \"Logloss\",\n",
    "    \"verbose\": False,\n",
    "    \"eval_metric\": 'AUC',\n",
    "    \"od_type\": 'Iter',\n",
    "    \"od_wait\": 300,\n",
    "}\n",
    "\n",
    "lr_params = {\n",
    "    \"C\": 1.5,\n",
    "    \"fit_intercept\": True,\n",
    "    \"max_iter\": 300,\n",
    "    \"penalty\": \"l1\",\n",
    "    \"random_state\": 123,\n",
    "    \"solver\": \"liblinear\"\n",
    "}\n",
    "\n",
    "catboost_columns = [\n",
    "    'term',\n",
    "    'acc_open_past_24mths', # 677 02\n",
    "    'funded_amnt',\n",
    "    'percent_per_year',\n",
    "    'additional_dti', #671\n",
    "    'num_accts_ever_120_pd',\n",
    "    'annual_inc', # 682 024,\n",
    "    'tot_hi_cred_lim',\n",
    "    'purpose', # 6839 035\n",
    "    'home_ownership', # 683 027\n",
    "    \n",
    "    'avg_cur_bal', # 684 041\n",
    "    'mths_since_recent_inq',\n",
    "]\n",
    "\n",
    "catboost_cat_features = [\n",
    "    'purpose',\n",
    "    'home_ownership',\n",
    "]\n",
    "\n",
    "lr_cols = [\n",
    "    'annual_inc',\n",
    "    'acc_open_past_24mths',\n",
    "    'term',\n",
    "    'additional_dti',\n",
    "    'tot_hi_cred_lim_log',\n",
    "    'percent_per_year',\n",
    "    'annual_inc_sqrt',\n",
    "    'purpose_small_business',\n",
    "    'is_emp_length_unknown',\n",
    "    'is_not_sber_client',\n",
    "    'purpose_vacation',\n",
    "    'inq_last_6mths',\n",
    "    'funded_amnt_mod_100',\n",
    "    'num_accts_ever_120_pd',\n",
    "]\n",
    "\n",
    "lgbm_params = {\n",
    "    'objective': 'binary',\n",
    "    'max_depth': 1,\n",
    "    'learning_rate': 0.05,\n",
    "    'lambda_l2': 0.01,\n",
    "    'seed': 17,\n",
    "    'n_estimators': 1000,\n",
    "    'min_child_weight': 40,\n",
    "}\n",
    "\n",
    "knn_params = {\n",
    "    \"n_neighbors\": 130,\n",
    "    \"weights\": 'distance',\n",
    "}\n",
    "\n",
    "knn_columns = [\n",
    "    'percent_per_year',\n",
    "    'percent',\n",
    "    'term',\n",
    "    'loan_income_ratio',\n",
    "    'psk',\n",
    "    'additional_dti',\n",
    "    \n",
    "    'purpose_small_business',\n",
    "    'purpose_home_improvement',\n",
    "    'purpose_major_purchase',\n",
    "    'purpose_medical',\n",
    "    'purpose_vacation',\n",
    "    'purpose_wedding',\n",
    "    'purpose_car',\n",
    "    \n",
    "    'acc_open_past_24mths',\n",
    "    'num_accts_ever_120_pd',\n",
    "    \n",
    "    'home_ownership_MORTGAGE',\n",
    "    'home_ownership_RENT',\n",
    "    \n",
    "    'installment',\n",
    "    'is_first_loan',\n",
    "    'avg_cur_bal',\n",
    "    'is_emp_length_unknown',\n",
    "    'even_salary',\n",
    "]\n",
    "\n",
    "lgbm_columns = [\n",
    "    'percent',\n",
    "    'acc_open_past_24mths',\n",
    "    'avg_cur_bal',\n",
    "    'loan_income_ratio',\n",
    "    'annual_inc',\n",
    "    'tot_hi_cred_lim',\n",
    "    'additional_dti',\n",
    "    'percent_per_year',\n",
    "    'purpose',\n",
    "    'dti',\n",
    "    'home_ownership',\n",
    "    'num_accts_ever_120_pd',\n",
    "    'psk',\n",
    "    'is_emp_length_unknown',\n",
    "    'funded_amnt',\n",
    "]\n",
    "\n",
    "lgbm_cat_features = [\n",
    "    'purpose',\n",
    "    'home_ownership',\n",
    "]\n",
    "\n",
    "xgb_columns = [   \n",
    "    'dti',\n",
    "    'inq_last_6mths',\n",
    "    'mths_since_recent_inq',\n",
    "    'num_accts_ever_120_pd',\n",
    "    'acc_open_past_24mths',\n",
    "    'tot_hi_cred_lim',\n",
    "    'purpose',\n",
    "    'home_ownership',\n",
    "    'psk',\n",
    "    'percent',\n",
    "    'loan_income_ratio',\n",
    "    'is_emp_length_unknown',\n",
    "    'funded_amnt_mod_100',   \n",
    "]\n",
    "\n",
    "\n",
    "xgb_params = {\n",
    "    'max_depth': 1,\n",
    "    'learning_rate': 0.1,\n",
    "    'reg_alpha': 1,\n",
    "    'reg_lambda': 10,\n",
    "    'n_estimators': 1500,\n",
    "}\n",
    "\n",
    "nb_columns = [\n",
    "    'percent',\n",
    "    'annual_inc',\n",
    "    'purpose_small_business',\n",
    "    'percent_per_year',\n",
    "    'additional_dti', \n",
    "    'avg_cur_bal_log',\n",
    "]\n",
    "\n",
    "bnb_columns = [\n",
    "    'percent_per_year',\n",
    "    'loan_income_ratio',\n",
    "    'annual_inc_log',\n",
    "    'percent',\n",
    "    'home_ownership_RENT',\n",
    "    'dti',\n",
    "    'inq_last_6mths',\n",
    "    'tot_hi_cred_lim',\n",
    "    'funded_amnt_mod_100',\n",
    "    'is_first_loan',\n",
    "    'purpose_small_business',\n",
    "    'num_accts_ever_120_pd',\n",
    "]\n",
    "\n",
    "rf_columns = [\n",
    "    'residual_dti',\n",
    "    'tot_hi_cred_lim_annual_inc_ratio',\n",
    "    'funded_amnt_log',\n",
    "    'dti_ratio_min',\n",
    "    'mths_since_recent_inq',\n",
    "    'tot_hi_cred_lim_funded_amnt_ratio',\n",
    "    'waste_to_installment_ratio',\n",
    "    'avg_cur_bal_log',\n",
    "    'annual_inc',\n",
    "    'tot_hi_cred_lim_sqrt',\n",
    "    'acc_open_past_24mths_ratio',\n",
    "    'inq_last_6mths',\n",
    "    'tot_hi_cred_lim',\n",
    "    'installment_log',\n",
    "    'dti_sqrt',\n",
    "    'annual_inc_log',\n",
    "    'dti',\n",
    "    'loan_income_ratio',\n",
    "    'avg_cur_bal_sqrt',\n",
    "    'additional_dti',\n",
    "    'avg_cur_bal',\n",
    "    'acc_open_past_24mths',\n",
    "    'funded_amnt_mod_100',\n",
    "    'annual_inc_sqrt',\n",
    "    'dti_log',\n",
    "    'term',\n",
    "    'psk',\n",
    "    'percent',\n",
    "    'percent_per_year'\n",
    "]\n",
    "\n",
    "rf_params = {\n",
    "    'n_estimators': 100,\n",
    "    'max_depth': 6,\n",
    "}"
   ]
  },
  {
   "cell_type": "code",
   "execution_count": null,
   "metadata": {},
   "outputs": [],
   "source": [
    "def split_data(x_train, y_train):\n",
    "    X_train_df, X_valid_df, y_train_df, y_valid_df = train_test_split()\n",
    "    X_train_df = x_train[features].iloc[ind_trn]\n",
    "        X_valid_df = x_train[features].iloc[ind_test]\n",
    "        y_train_df = y_train.iloc[ind_trn]\n",
    "        y_valid_df = y_train.iloc[ind_test]"
   ]
  },
  {
   "cell_type": "code",
   "execution_count": 78,
   "metadata": {},
   "outputs": [],
   "source": [
    "def init_and_fit_model(x_train, x_test, y_train, y_test, params, cat_features, model):\n",
    "    if model=='catboost':\n",
    "        eval_dataset = Pool(x_test, y_test, cat_features)\n",
    "        inner_model = CatBoostClassifier(**params)\n",
    "\n",
    "        inner_model.fit(\n",
    "            x_train,  \n",
    "            y_train,\n",
    "            cat_features,\n",
    "            eval_set=eval_dataset,\n",
    "            verbose=0,\n",
    "            use_best_model=True,\n",
    "        )\n",
    "    elif model == 'logreg':\n",
    "        inner_model = LogisticRegression(**params)\n",
    "        inner_model.fit(x_train, y_train)\n",
    "    elif model == 'lgbm':\n",
    "        inner_model = LGBMClassifier(**params)\n",
    "        inner_model.fit(\n",
    "            x_train,  \n",
    "            y_train,\n",
    "            eval_set=[(x_test, y_test)],\n",
    "            eval_metric='auc',\n",
    "            verbose=0,\n",
    "            early_stopping_rounds=50,\n",
    "            categorical_feature=cat_features,\n",
    "        )\n",
    "    elif model == 'knn':\n",
    "        inner_model = KNeighborsClassifier(**params)\n",
    "        inner_model.fit(x_train, y_train)\n",
    "    elif model == 'xgboost':\n",
    "        inner_model = XGBClassifier(**params)\n",
    "\n",
    "        inner_model.fit(\n",
    "            x_train,  \n",
    "            y_train,\n",
    "            eval_set=[(x_test, y_test)],\n",
    "            eval_metric='auc',\n",
    "            verbose=0,\n",
    "            early_stopping_rounds=150,\n",
    "        )\n",
    "    elif model == 'nb':\n",
    "        inner_model = GaussianNB()\n",
    "        inner_model.fit(x_train,y_train)\n",
    "    elif model == 'bnb':\n",
    "        inner_model = BernoulliNB()\n",
    "        inner_model.fit(x_train, y_train)\n",
    "    elif model == 'rf':\n",
    "        inner_model = RandomForestClassifier(**params, random_state=17)\n",
    "        inner_model.fit(x_train, y_train)\n",
    "    return inner_model\n",
    "\n",
    "def fit_models(x_train, x_test, y_train, features, cat_features, params, model='catboost', seed=17):\n",
    "    X_train_df, X_valid_df, y_train_df, y_valid_df = train_test_split(\n",
    "        x_train[features], y_train, random_state=seed, stratify=y_train, shuffle=True, test_size=0.5 #rs 17\n",
    "    )\n",
    "    \n",
    "    scores = []    \n",
    "    \n",
    "    fitted_model = init_and_fit_model(\n",
    "        X_train_df,\n",
    "        X_valid_df,\n",
    "        y_train_df,\n",
    "        y_valid_df,\n",
    "        params,\n",
    "        cat_features,\n",
    "        model\n",
    "    )\n",
    "    \n",
    "    scores = roc_auc_score(y_valid_df, fitted_model.predict_proba(X_valid_df)[:, 1])\n",
    "    result = fitted_model.predict_proba(x_test[features])[:, 1:].flatten()\n",
    "    valid_predicts = fitted_model.predict_proba(X_valid_df)[:, 1]\n",
    "    return scores, result, valid_predicts, y_valid_df"
   ]
  },
  {
   "cell_type": "code",
   "execution_count": 4,
   "metadata": {},
   "outputs": [],
   "source": [
    "catboost_train = pd.read_csv('data/catboost_train.csv')\n",
    "catboost_test = pd.read_csv('data/catboost_test.csv')\n",
    "lgbm_train = pd.read_csv('data/catboost_train.csv')\n",
    "lgbm_test = pd.read_csv('data/catboost_test.csv')\n",
    "logreg_train = pd.read_csv('data/logreg_train.csv')\n",
    "logreg_test = pd.read_csv('data/logreg_test.csv')"
   ]
  },
  {
   "cell_type": "code",
   "execution_count": 5,
   "metadata": {},
   "outputs": [],
   "source": [
    "cat_cols = [\n",
    "    'purpose',\n",
    "    'home_ownership',\n",
    "    'subgrade'\n",
    "]\n",
    "\n",
    "for cat_cols in cat_cols:\n",
    "    le = LabelEncoder()\n",
    "    lgbm_train[cat_cols] = le.fit_transform(lgbm_train[cat_cols])\n",
    "    lgbm_test[cat_cols] = le.transform(lgbm_test[cat_cols])"
   ]
  },
  {
   "cell_type": "code",
   "execution_count": 6,
   "metadata": {},
   "outputs": [],
   "source": [
    "# catboost_train_small, catboost_valid, catboost_y_train, catboost_y_valid = train_test_split(\n",
    "#     catboost_train.drop(columns=['def'], axis=1),\n",
    "#     catboost_train['def'],\n",
    "#     test_size=0.2,\n",
    "#     random_state=18,\n",
    "#     stratify=catboost_train['def']\n",
    "# )\n",
    "\n",
    "# logreg_train_small = logreg_train.loc[catboost_train_small.index].drop(columns=['def'], axis=1).copy()\n",
    "# logreg_valid = logreg_train.loc[catboost_valid.index].drop(columns=['def'], axis=1).copy()\n",
    "# logreg_y_train = logreg_train.loc[catboost_train_small.index]['def']\n",
    "# logreg_y_valid = logreg_train.loc[catboost_valid.index]['def']\n",
    "\n",
    "# lgbm_train_small = lgbm_train.loc[catboost_train_small.index].drop(columns=['def'], axis=1).copy()\n",
    "# lgbm_valid = lgbm_train.loc[catboost_valid.index].drop(columns=['def'], axis=1).copy()\n",
    "# lgbm_y_train = lgbm_train.loc[catboost_train_small.index]['def']\n",
    "# lgbm_y_valid = lgbm_train.loc[catboost_valid.index]['def']\n",
    "\n",
    "# xgb_train_small = lgbm_train.loc[catboost_train_small.index].drop(columns=['def'], axis=1).copy()\n",
    "# xgb_valid = lgbm_train.loc[catboost_valid.index].drop(columns=['def'], axis=1).copy()\n",
    "# xgb_y_train = lgbm_train.loc[catboost_train_small.index]['def']\n",
    "# xgb_y_valid = lgbm_train.loc[catboost_valid.index]['def']\n",
    "\n",
    "# knn_train_small = logreg_train.loc[catboost_train_small.index].drop(columns=['def'], axis=1).copy()\n",
    "# knn_valid = logreg_train.loc[catboost_valid.index].drop(columns=['def'], axis=1).copy()\n",
    "# knn_y_train = logreg_train.loc[catboost_train_small.index]['def']\n",
    "# knn_y_valid = logreg_train.loc[catboost_valid.index]['def']"
   ]
  },
  {
   "cell_type": "code",
   "execution_count": 66,
   "metadata": {},
   "outputs": [],
   "source": [
    "y_valids = []\n",
    "for seed in range(10):\n",
    "    X_train_df, X_valid_df, y_train_df, y_valid_df = train_test_split(\n",
    "        catboost_train, catboost_train['def'], random_state=seed, stratify=catboost_train['def'], shuffle=True, test_size=0.5\n",
    "    )\n",
    "    y_valids.append(y_valid_df)"
   ]
  },
  {
   "cell_type": "code",
   "execution_count": 96,
   "metadata": {},
   "outputs": [
    {
     "name": "stdout",
     "output_type": "stream",
     "text": [
      "0\n"
     ]
    },
    {
     "name": "stderr",
     "output_type": "stream",
     "text": [
      "d:\\kaggle\\sber_plus_nsu\\.venv\\lib\\site-packages\\lightgbm\\basic.py:1551: UserWarning: Using categorical_feature in Dataset.\n",
      "  warnings.warn('Using categorical_feature in Dataset.')\n",
      "d:\\kaggle\\sber_plus_nsu\\.venv\\lib\\site-packages\\lightgbm\\basic.py:1555: UserWarning: categorical_feature in Dataset is overridden.\n",
      "New categorical_feature is ['home_ownership', 'purpose']\n",
      "  'New categorical_feature is {}'.format(sorted(list(categorical_feature))))\n",
      "d:\\kaggle\\sber_plus_nsu\\.venv\\lib\\site-packages\\lightgbm\\basic.py:1286: UserWarning: Overriding the parameters from Reference Dataset.\n",
      "  warnings.warn('Overriding the parameters from Reference Dataset.')\n",
      "d:\\kaggle\\sber_plus_nsu\\.venv\\lib\\site-packages\\lightgbm\\basic.py:1098: UserWarning: categorical_column in param dict is overridden.\n",
      "  warnings.warn('{} in param dict is overridden.'.format(cat_alias))\n"
     ]
    },
    {
     "name": "stdout",
     "output_type": "stream",
     "text": [
      "[LightGBM] [Warning] lambda_l2 is set=0.01, reg_lambda=0.0 will be ignored. Current value: lambda_l2=0.01\n",
      "1\n"
     ]
    },
    {
     "name": "stderr",
     "output_type": "stream",
     "text": [
      "d:\\kaggle\\sber_plus_nsu\\.venv\\lib\\site-packages\\lightgbm\\basic.py:1551: UserWarning: Using categorical_feature in Dataset.\n",
      "  warnings.warn('Using categorical_feature in Dataset.')\n",
      "d:\\kaggle\\sber_plus_nsu\\.venv\\lib\\site-packages\\lightgbm\\basic.py:1555: UserWarning: categorical_feature in Dataset is overridden.\n",
      "New categorical_feature is ['home_ownership', 'purpose']\n",
      "  'New categorical_feature is {}'.format(sorted(list(categorical_feature))))\n",
      "d:\\kaggle\\sber_plus_nsu\\.venv\\lib\\site-packages\\lightgbm\\basic.py:1286: UserWarning: Overriding the parameters from Reference Dataset.\n",
      "  warnings.warn('Overriding the parameters from Reference Dataset.')\n",
      "d:\\kaggle\\sber_plus_nsu\\.venv\\lib\\site-packages\\lightgbm\\basic.py:1098: UserWarning: categorical_column in param dict is overridden.\n",
      "  warnings.warn('{} in param dict is overridden.'.format(cat_alias))\n"
     ]
    },
    {
     "name": "stdout",
     "output_type": "stream",
     "text": [
      "[LightGBM] [Warning] lambda_l2 is set=0.01, reg_lambda=0.0 will be ignored. Current value: lambda_l2=0.01\n",
      "2\n"
     ]
    },
    {
     "name": "stderr",
     "output_type": "stream",
     "text": [
      "d:\\kaggle\\sber_plus_nsu\\.venv\\lib\\site-packages\\lightgbm\\basic.py:1551: UserWarning: Using categorical_feature in Dataset.\n",
      "  warnings.warn('Using categorical_feature in Dataset.')\n",
      "d:\\kaggle\\sber_plus_nsu\\.venv\\lib\\site-packages\\lightgbm\\basic.py:1555: UserWarning: categorical_feature in Dataset is overridden.\n",
      "New categorical_feature is ['home_ownership', 'purpose']\n",
      "  'New categorical_feature is {}'.format(sorted(list(categorical_feature))))\n",
      "d:\\kaggle\\sber_plus_nsu\\.venv\\lib\\site-packages\\lightgbm\\basic.py:1286: UserWarning: Overriding the parameters from Reference Dataset.\n",
      "  warnings.warn('Overriding the parameters from Reference Dataset.')\n",
      "d:\\kaggle\\sber_plus_nsu\\.venv\\lib\\site-packages\\lightgbm\\basic.py:1098: UserWarning: categorical_column in param dict is overridden.\n",
      "  warnings.warn('{} in param dict is overridden.'.format(cat_alias))\n"
     ]
    },
    {
     "name": "stdout",
     "output_type": "stream",
     "text": [
      "[LightGBM] [Warning] lambda_l2 is set=0.01, reg_lambda=0.0 will be ignored. Current value: lambda_l2=0.01\n",
      "3\n"
     ]
    },
    {
     "name": "stderr",
     "output_type": "stream",
     "text": [
      "d:\\kaggle\\sber_plus_nsu\\.venv\\lib\\site-packages\\lightgbm\\basic.py:1551: UserWarning: Using categorical_feature in Dataset.\n",
      "  warnings.warn('Using categorical_feature in Dataset.')\n",
      "d:\\kaggle\\sber_plus_nsu\\.venv\\lib\\site-packages\\lightgbm\\basic.py:1555: UserWarning: categorical_feature in Dataset is overridden.\n",
      "New categorical_feature is ['home_ownership', 'purpose']\n",
      "  'New categorical_feature is {}'.format(sorted(list(categorical_feature))))\n",
      "d:\\kaggle\\sber_plus_nsu\\.venv\\lib\\site-packages\\lightgbm\\basic.py:1286: UserWarning: Overriding the parameters from Reference Dataset.\n",
      "  warnings.warn('Overriding the parameters from Reference Dataset.')\n",
      "d:\\kaggle\\sber_plus_nsu\\.venv\\lib\\site-packages\\lightgbm\\basic.py:1098: UserWarning: categorical_column in param dict is overridden.\n",
      "  warnings.warn('{} in param dict is overridden.'.format(cat_alias))\n"
     ]
    },
    {
     "name": "stdout",
     "output_type": "stream",
     "text": [
      "[LightGBM] [Warning] lambda_l2 is set=0.01, reg_lambda=0.0 will be ignored. Current value: lambda_l2=0.01\n",
      "4\n"
     ]
    },
    {
     "name": "stderr",
     "output_type": "stream",
     "text": [
      "d:\\kaggle\\sber_plus_nsu\\.venv\\lib\\site-packages\\lightgbm\\basic.py:1551: UserWarning: Using categorical_feature in Dataset.\n",
      "  warnings.warn('Using categorical_feature in Dataset.')\n",
      "d:\\kaggle\\sber_plus_nsu\\.venv\\lib\\site-packages\\lightgbm\\basic.py:1555: UserWarning: categorical_feature in Dataset is overridden.\n",
      "New categorical_feature is ['home_ownership', 'purpose']\n",
      "  'New categorical_feature is {}'.format(sorted(list(categorical_feature))))\n",
      "d:\\kaggle\\sber_plus_nsu\\.venv\\lib\\site-packages\\lightgbm\\basic.py:1286: UserWarning: Overriding the parameters from Reference Dataset.\n",
      "  warnings.warn('Overriding the parameters from Reference Dataset.')\n",
      "d:\\kaggle\\sber_plus_nsu\\.venv\\lib\\site-packages\\lightgbm\\basic.py:1098: UserWarning: categorical_column in param dict is overridden.\n",
      "  warnings.warn('{} in param dict is overridden.'.format(cat_alias))\n"
     ]
    },
    {
     "name": "stdout",
     "output_type": "stream",
     "text": [
      "[LightGBM] [Warning] lambda_l2 is set=0.01, reg_lambda=0.0 will be ignored. Current value: lambda_l2=0.01\n",
      "5\n"
     ]
    },
    {
     "name": "stderr",
     "output_type": "stream",
     "text": [
      "d:\\kaggle\\sber_plus_nsu\\.venv\\lib\\site-packages\\lightgbm\\basic.py:1551: UserWarning: Using categorical_feature in Dataset.\n",
      "  warnings.warn('Using categorical_feature in Dataset.')\n",
      "d:\\kaggle\\sber_plus_nsu\\.venv\\lib\\site-packages\\lightgbm\\basic.py:1555: UserWarning: categorical_feature in Dataset is overridden.\n",
      "New categorical_feature is ['home_ownership', 'purpose']\n",
      "  'New categorical_feature is {}'.format(sorted(list(categorical_feature))))\n",
      "d:\\kaggle\\sber_plus_nsu\\.venv\\lib\\site-packages\\lightgbm\\basic.py:1286: UserWarning: Overriding the parameters from Reference Dataset.\n",
      "  warnings.warn('Overriding the parameters from Reference Dataset.')\n",
      "d:\\kaggle\\sber_plus_nsu\\.venv\\lib\\site-packages\\lightgbm\\basic.py:1098: UserWarning: categorical_column in param dict is overridden.\n",
      "  warnings.warn('{} in param dict is overridden.'.format(cat_alias))\n"
     ]
    },
    {
     "name": "stdout",
     "output_type": "stream",
     "text": [
      "[LightGBM] [Warning] lambda_l2 is set=0.01, reg_lambda=0.0 will be ignored. Current value: lambda_l2=0.01\n",
      "6\n"
     ]
    },
    {
     "name": "stderr",
     "output_type": "stream",
     "text": [
      "d:\\kaggle\\sber_plus_nsu\\.venv\\lib\\site-packages\\lightgbm\\basic.py:1551: UserWarning: Using categorical_feature in Dataset.\n",
      "  warnings.warn('Using categorical_feature in Dataset.')\n",
      "d:\\kaggle\\sber_plus_nsu\\.venv\\lib\\site-packages\\lightgbm\\basic.py:1555: UserWarning: categorical_feature in Dataset is overridden.\n",
      "New categorical_feature is ['home_ownership', 'purpose']\n",
      "  'New categorical_feature is {}'.format(sorted(list(categorical_feature))))\n",
      "d:\\kaggle\\sber_plus_nsu\\.venv\\lib\\site-packages\\lightgbm\\basic.py:1286: UserWarning: Overriding the parameters from Reference Dataset.\n",
      "  warnings.warn('Overriding the parameters from Reference Dataset.')\n",
      "d:\\kaggle\\sber_plus_nsu\\.venv\\lib\\site-packages\\lightgbm\\basic.py:1098: UserWarning: categorical_column in param dict is overridden.\n",
      "  warnings.warn('{} in param dict is overridden.'.format(cat_alias))\n"
     ]
    },
    {
     "name": "stdout",
     "output_type": "stream",
     "text": [
      "[LightGBM] [Warning] lambda_l2 is set=0.01, reg_lambda=0.0 will be ignored. Current value: lambda_l2=0.01\n",
      "7\n"
     ]
    },
    {
     "name": "stderr",
     "output_type": "stream",
     "text": [
      "d:\\kaggle\\sber_plus_nsu\\.venv\\lib\\site-packages\\lightgbm\\basic.py:1551: UserWarning: Using categorical_feature in Dataset.\n",
      "  warnings.warn('Using categorical_feature in Dataset.')\n",
      "d:\\kaggle\\sber_plus_nsu\\.venv\\lib\\site-packages\\lightgbm\\basic.py:1555: UserWarning: categorical_feature in Dataset is overridden.\n",
      "New categorical_feature is ['home_ownership', 'purpose']\n",
      "  'New categorical_feature is {}'.format(sorted(list(categorical_feature))))\n",
      "d:\\kaggle\\sber_plus_nsu\\.venv\\lib\\site-packages\\lightgbm\\basic.py:1286: UserWarning: Overriding the parameters from Reference Dataset.\n",
      "  warnings.warn('Overriding the parameters from Reference Dataset.')\n",
      "d:\\kaggle\\sber_plus_nsu\\.venv\\lib\\site-packages\\lightgbm\\basic.py:1098: UserWarning: categorical_column in param dict is overridden.\n",
      "  warnings.warn('{} in param dict is overridden.'.format(cat_alias))\n"
     ]
    },
    {
     "name": "stdout",
     "output_type": "stream",
     "text": [
      "[LightGBM] [Warning] lambda_l2 is set=0.01, reg_lambda=0.0 will be ignored. Current value: lambda_l2=0.01\n",
      "8\n"
     ]
    },
    {
     "name": "stderr",
     "output_type": "stream",
     "text": [
      "d:\\kaggle\\sber_plus_nsu\\.venv\\lib\\site-packages\\lightgbm\\basic.py:1551: UserWarning: Using categorical_feature in Dataset.\n",
      "  warnings.warn('Using categorical_feature in Dataset.')\n",
      "d:\\kaggle\\sber_plus_nsu\\.venv\\lib\\site-packages\\lightgbm\\basic.py:1555: UserWarning: categorical_feature in Dataset is overridden.\n",
      "New categorical_feature is ['home_ownership', 'purpose']\n",
      "  'New categorical_feature is {}'.format(sorted(list(categorical_feature))))\n",
      "d:\\kaggle\\sber_plus_nsu\\.venv\\lib\\site-packages\\lightgbm\\basic.py:1286: UserWarning: Overriding the parameters from Reference Dataset.\n",
      "  warnings.warn('Overriding the parameters from Reference Dataset.')\n",
      "d:\\kaggle\\sber_plus_nsu\\.venv\\lib\\site-packages\\lightgbm\\basic.py:1098: UserWarning: categorical_column in param dict is overridden.\n",
      "  warnings.warn('{} in param dict is overridden.'.format(cat_alias))\n"
     ]
    },
    {
     "name": "stdout",
     "output_type": "stream",
     "text": [
      "[LightGBM] [Warning] lambda_l2 is set=0.01, reg_lambda=0.0 will be ignored. Current value: lambda_l2=0.01\n",
      "9\n"
     ]
    },
    {
     "name": "stderr",
     "output_type": "stream",
     "text": [
      "d:\\kaggle\\sber_plus_nsu\\.venv\\lib\\site-packages\\lightgbm\\basic.py:1551: UserWarning: Using categorical_feature in Dataset.\n",
      "  warnings.warn('Using categorical_feature in Dataset.')\n",
      "d:\\kaggle\\sber_plus_nsu\\.venv\\lib\\site-packages\\lightgbm\\basic.py:1555: UserWarning: categorical_feature in Dataset is overridden.\n",
      "New categorical_feature is ['home_ownership', 'purpose']\n",
      "  'New categorical_feature is {}'.format(sorted(list(categorical_feature))))\n",
      "d:\\kaggle\\sber_plus_nsu\\.venv\\lib\\site-packages\\lightgbm\\basic.py:1286: UserWarning: Overriding the parameters from Reference Dataset.\n",
      "  warnings.warn('Overriding the parameters from Reference Dataset.')\n",
      "d:\\kaggle\\sber_plus_nsu\\.venv\\lib\\site-packages\\lightgbm\\basic.py:1098: UserWarning: categorical_column in param dict is overridden.\n",
      "  warnings.warn('{} in param dict is overridden.'.format(cat_alias))\n"
     ]
    },
    {
     "name": "stdout",
     "output_type": "stream",
     "text": [
      "[LightGBM] [Warning] lambda_l2 is set=0.01, reg_lambda=0.0 will be ignored. Current value: lambda_l2=0.01\n"
     ]
    }
   ],
   "source": [
    "train_dfs = []\n",
    "test_dfs = []\n",
    "y_valids = []\n",
    "for seed in range(10):\n",
    "    print(seed)\n",
    "    cb_scores, cb_result, cb_oof_result, _ = fit_models(\n",
    "        catboost_train,\n",
    "        catboost_test,\n",
    "        catboost_train['def'],\n",
    "        catboost_columns,\n",
    "        catboost_cat_features,\n",
    "        catboost_params,\n",
    "        'catboost',\n",
    "        seed,\n",
    "    )\n",
    "\n",
    "    rf_scores, rf_result, rf_oof_result, _ = fit_models(\n",
    "        logreg_train,\n",
    "        logreg_test,\n",
    "        logreg_train['def'],\n",
    "        rf_columns,\n",
    "        [],\n",
    "        rf_params,\n",
    "        'rf',\n",
    "        seed,\n",
    "    )\n",
    "\n",
    "    lr_scores, lr_result, lr_oof_result, y_valid_df = fit_models(\n",
    "        logreg_train,\n",
    "        logreg_test,\n",
    "        logreg_train['def'],\n",
    "        lr_cols,\n",
    "        [],\n",
    "        lr_params,\n",
    "        'logreg',\n",
    "        seed,\n",
    "    )\n",
    "\n",
    "    lgbm_scores, lgbm_result, lgbm_oof_result, _ = fit_models(\n",
    "        lgbm_train,\n",
    "        lgbm_test,\n",
    "        lgbm_train['def'],\n",
    "        lgbm_columns,\n",
    "        lgbm_cat_features,\n",
    "        lgbm_params,\n",
    "        'lgbm',\n",
    "        seed,\n",
    "    )\n",
    "\n",
    "    knn_scores, knn_result, knn_oof_result, _ = fit_models(\n",
    "        logreg_train,\n",
    "        logreg_test,\n",
    "        logreg_train['def'],\n",
    "        knn_columns,\n",
    "        [],\n",
    "        knn_params,\n",
    "        'knn',\n",
    "        seed,\n",
    "    )\n",
    "\n",
    "    xgb_scores, xgb_result, xgb_oof_result, _ = fit_models(\n",
    "        lgbm_train,\n",
    "        lgbm_test,\n",
    "        lgbm_train['def'],\n",
    "        xgb_columns,\n",
    "        [],\n",
    "        xgb_params,\n",
    "        'xgboost',\n",
    "        seed,\n",
    "    )\n",
    "\n",
    "    nb_scores, nb_result, nb_oof_result, _ = fit_models(\n",
    "        logreg_train,\n",
    "        logreg_test,\n",
    "        logreg_train['def'],\n",
    "        nb_columns,\n",
    "        [],\n",
    "        {},\n",
    "        'nb',\n",
    "        seed,\n",
    "    )\n",
    "\n",
    "    bnb_scores, bnb_result, bnb_oof_result, _ = fit_models(\n",
    "        logreg_train,\n",
    "        logreg_test,\n",
    "        logreg_train['def'],\n",
    "        bnb_columns,\n",
    "        [],\n",
    "        {},\n",
    "        'bnb',\n",
    "        seed,\n",
    "    )\n",
    "\n",
    "    new_train_df = pd.DataFrame({\n",
    "        'lr':lr_oof_result,\n",
    "        'cb':cb_oof_result,\n",
    "        'lgbm': lgbm_oof_result,\n",
    "        'knn': knn_oof_result,\n",
    "        'xgb': xgb_oof_result,\n",
    "        'nb': nb_oof_result,\n",
    "        'bnb': bnb_oof_result,\n",
    "        'rf': rf_oof_result,\n",
    "    })\n",
    "    new_test_df = pd.DataFrame({\n",
    "        'lr':lr_result,\n",
    "        'cb':cb_result,\n",
    "        'lgbm': lgbm_result,\n",
    "        'knn': knn_result,\n",
    "        'xgb': xgb_result,\n",
    "        'nb': nb_result,\n",
    "        'bnb': bnb_result,\n",
    "        'rf': rf_result,\n",
    "    })\n",
    "    \n",
    "    train_dfs.append(new_train_df.copy())\n",
    "    test_dfs.append(new_test_df.copy())\n",
    "    y_valids.append(y_valid_df)"
   ]
  },
  {
   "cell_type": "code",
   "execution_count": 231,
   "metadata": {},
   "outputs": [
    {
     "data": {
      "text/plain": [
       "(0.6868850993699641, 0.003421105697040426)"
      ]
     },
     "execution_count": 231,
     "metadata": {},
     "output_type": "execute_result"
    }
   ],
   "source": [
    "scores = [roc_auc_score(y, y_pred.mean(axis=1)) for y, y_pred in zip(y_valids, train_dfs)]\n",
    "np.mean(scores), np.std(scores)"
   ]
  },
  {
   "cell_type": "code",
   "execution_count": 225,
   "metadata": {},
   "outputs": [],
   "source": [
    "metamodel = LogisticRegression(C=0.01, solver='liblinear',)\n",
    "stack_cols = ['lr', 'cb','lgbm','knn','rf']\n",
    "predicts = []\n",
    "for train_x, train_y, x_test in zip(train_dfs, y_valids, test_dfs):\n",
    "    metamodel = LogisticRegression(C=0.01, solver='liblinear').fit(train_x, train_y)\n",
    "    predicts.append(metamodel.predict_proba(x_test)[:, 1])\n",
    "#     nscores.append(cross_val_score(metamodel, train_x, train_y, scoring='roc_auc', cv=5))\n",
    "# metamodel.fit(new_train_df, y_valid_df)"
   ]
  },
  {
   "cell_type": "code",
   "execution_count": 234,
   "metadata": {},
   "outputs": [
    {
     "data": {
      "text/plain": [
       "[(0.18038735768756942, 'rf'),\n",
       " (0.1849032144734047, 'knn'),\n",
       " (0.2542482410934774, 'cb'),\n",
       " (0.2699335024386356, 'lgbm'),\n",
       " (0.27561047045785264, 'lr'),\n",
       " (0.31932537077219175, 'xgb'),\n",
       " (0.510448563029464, 'bnb'),\n",
       " (0.5483607146799963, 'nb')]"
      ]
     },
     "execution_count": 234,
     "metadata": {},
     "output_type": "execute_result"
    }
   ],
   "source": [
    "sorted(list(zip(metamodel.coef_[0], train_dfs[0].columns)))"
   ]
  },
  {
   "cell_type": "code",
   "execution_count": 230,
   "metadata": {},
   "outputs": [
    {
     "data": {
      "text/plain": [
       "(array([1.271e+03, 3.359e+03, 3.688e+03, 3.317e+03, 2.727e+03, 2.205e+03,\n",
       "        1.671e+03, 1.392e+03, 1.174e+03, 9.890e+02, 8.880e+02, 7.580e+02,\n",
       "        6.880e+02, 5.640e+02, 5.290e+02, 4.780e+02, 4.250e+02, 3.800e+02,\n",
       "        3.550e+02, 3.270e+02, 2.850e+02, 2.480e+02, 2.460e+02, 1.910e+02,\n",
       "        1.840e+02, 1.970e+02, 1.580e+02, 1.490e+02, 1.290e+02, 1.070e+02,\n",
       "        1.240e+02, 1.170e+02, 1.120e+02, 8.900e+01, 7.400e+01, 6.900e+01,\n",
       "        6.000e+01, 6.300e+01, 4.600e+01, 4.100e+01, 2.800e+01, 2.400e+01,\n",
       "        2.900e+01, 1.200e+01, 9.000e+00, 1.300e+01, 4.000e+00, 5.000e+00,\n",
       "        1.000e+00, 1.000e+00]),\n",
       " array([0.12271082, 0.12878377, 0.13485672, 0.14092967, 0.14700262,\n",
       "        0.15307558, 0.15914853, 0.16522148, 0.17129443, 0.17736738,\n",
       "        0.18344034, 0.18951329, 0.19558624, 0.20165919, 0.20773214,\n",
       "        0.2138051 , 0.21987805, 0.225951  , 0.23202395, 0.2380969 ,\n",
       "        0.24416986, 0.25024281, 0.25631576, 0.26238871, 0.26846166,\n",
       "        0.27453462, 0.28060757, 0.28668052, 0.29275347, 0.29882642,\n",
       "        0.30489938, 0.31097233, 0.31704528, 0.32311823, 0.32919118,\n",
       "        0.33526414, 0.34133709, 0.34741004, 0.35348299, 0.35955594,\n",
       "        0.3656289 , 0.37170185, 0.3777748 , 0.38384775, 0.3899207 ,\n",
       "        0.39599366, 0.40206661, 0.40813956, 0.41421251, 0.42028546,\n",
       "        0.42635841]),\n",
       " <BarContainer object of 50 artists>)"
      ]
     },
     "execution_count": 230,
     "metadata": {},
     "output_type": "execute_result"
    },
    {
     "data": {
      "image/png": "[encoded data removed]",
      "text/plain": [
       "<Figure size 432x288 with 1 Axes>"
      ]
     },
     "metadata": {
      "needs_background": "light"
     },
     "output_type": "display_data"
    }
   ],
   "source": [
    "plt.hist(np.mean(predicts, axis=0), bins=50)"
   ]
  },
  {
   "cell_type": "code",
   "execution_count": null,
   "metadata": {},
   "outputs": [],
   "source": []
  },
  {
   "cell_type": "code",
   "execution_count": 245,
   "metadata": {},
   "outputs": [],
   "source": [
    "logreg_test['prob'] = lr_f_result"
   ]
  },
  {
   "cell_type": "code",
   "execution_count": 246,
   "metadata": {},
   "outputs": [],
   "source": [
    "logreg_test[['id', 'prob']].to_csv('blend_submission.csv', index=False)"
   ]
  },
  {
   "cell_type": "code",
   "execution_count": null,
   "metadata": {},
   "outputs": [],
   "source": []
  }
 ],
 "metadata": {
  "kernelspec": {
   "display_name": "Python 3",
   "language": "python",
   "name": "python3"
  },
  "language_info": {
   "codemirror_mode": {
    "name": "ipython",
    "version": 3
   },
   "file_extension": ".py",
   "mimetype": "text/x-python",
   "name": "python",
   "nbconvert_exporter": "python",
   "pygments_lexer": "ipython3",
   "version": "3.7.3"
  }
 },
 "nbformat": 4,
 "nbformat_minor": 2
}
