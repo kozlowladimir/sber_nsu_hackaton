{
 "cells": [
  {
   "cell_type": "markdown",
   "metadata": {},
   "source": [
    "Импорт необходимых библиотек"
   ]
  },
  {
   "cell_type": "code",
   "execution_count": 31,
   "metadata": {},
   "outputs": [],
   "source": [
    "import pandas as pd\n",
    "import numpy as np\n",
    "\n",
    "import matplotlib.pyplot as plt\n",
    "\n",
    "from xgboost import XGBClassifier, DMatrix, plot_importance, plot_tree\n",
    "\n",
    "from sklearn.metrics import roc_auc_score\n",
    "from sklearn.metrics import roc_curve\n",
    "from sklearn.model_selection import StratifiedKFold\n",
    "from sklearn.preprocessing import LabelEncoder\n",
    "\n",
    "pd.options.display.max_columns=100"
   ]
  },
  {
   "cell_type": "markdown",
   "metadata": {},
   "source": [
    "Загрузка обучающего и тестового датасетов"
   ]
  },
  {
   "cell_type": "code",
   "execution_count": 2,
   "metadata": {},
   "outputs": [],
   "source": [
    "train = pd.read_csv('data/catboost_train.csv')\n",
    "test = pd.read_csv('data/catboost_test.csv')"
   ]
  },
  {
   "cell_type": "code",
   "execution_count": 3,
   "metadata": {},
   "outputs": [],
   "source": [
    "cat_cols = [\n",
    "    'purpose',\n",
    "    'home_ownership',\n",
    "    'subgrade'\n",
    "]\n",
    "\n",
    "for cat_cols in cat_cols:\n",
    "    le = LabelEncoder()\n",
    "    train[cat_cols] = le.fit_transform(train[cat_cols])\n",
    "    test[cat_cols] = le.transform(test[cat_cols])"
   ]
  },
  {
   "cell_type": "code",
   "execution_count": 4,
   "metadata": {},
   "outputs": [],
   "source": [
    "targ_cols = [i for i in train.columns if i not in ['def', 'id'] ]\n",
    "\n",
    "X_train = train[targ_cols]\n",
    "X_test = test[targ_cols]\n",
    "\n",
    "y_train = train[\"def\"]"
   ]
  },
  {
   "cell_type": "code",
   "execution_count": 5,
   "metadata": {},
   "outputs": [
    {
     "data": {
      "text/plain": [
       "['installment',\n",
       " 'dti',\n",
       " 'funded_amnt',\n",
       " 'annual_inc',\n",
       " 'emp_length',\n",
       " 'term',\n",
       " 'inq_last_6mths',\n",
       " 'mths_since_recent_inq',\n",
       " 'delinq_2yrs',\n",
       " 'chargeoff_within_12_mths',\n",
       " 'num_accts_ever_120_pd',\n",
       " 'num_tl_90g_dpd_24m',\n",
       " 'acc_open_past_24mths',\n",
       " 'avg_cur_bal',\n",
       " 'tot_hi_cred_lim',\n",
       " 'delinq_amnt',\n",
       " 'purpose',\n",
       " 'subgrade',\n",
       " 'home_ownership',\n",
       " 'psk',\n",
       " 'percent',\n",
       " 'percent_per_year',\n",
       " 'residual_dti',\n",
       " 'loan_income_ratio',\n",
       " 'additional_dti',\n",
       " 'dti_ratio_min',\n",
       " 'dti_ratio_max',\n",
       " 'waste_to_installment_ratio',\n",
       " 'is_first_loan',\n",
       " 'is_not_sber_client',\n",
       " 'even_salary',\n",
       " 'even_installment',\n",
       " 'is_emp_length_unknown',\n",
       " 'is_dti_b_35',\n",
       " 'is_common_amount',\n",
       " 'funded_amnt_mod_1000',\n",
       " 'funded_amnt_mod_500',\n",
       " 'funded_amnt_mod_100',\n",
       " 'funded_amnt_mod_10']"
      ]
     },
     "execution_count": 5,
     "metadata": {},
     "output_type": "execute_result"
    }
   ],
   "source": [
    "targ_cols"
   ]
  },
  {
   "cell_type": "code",
   "execution_count": 291,
   "metadata": {},
   "outputs": [
    {
     "name": "stdout",
     "output_type": "stream",
     "text": [
      "[0]\tvalidation_0-auc:0.61271\n",
      "Will train until validation_0-auc hasn't improved in 150 rounds.\n",
      "[100]\tvalidation_0-auc:0.67523\n",
      "[200]\tvalidation_0-auc:0.67809\n",
      "[300]\tvalidation_0-auc:0.67963\n",
      "[400]\tvalidation_0-auc:0.68034\n",
      "[500]\tvalidation_0-auc:0.68077\n",
      "[600]\tvalidation_0-auc:0.68090\n",
      "[700]\tvalidation_0-auc:0.68089\n",
      "[800]\tvalidation_0-auc:0.68088\n",
      "Stopping. Best iteration:\n",
      "[658]\tvalidation_0-auc:0.68099\n",
      "\n",
      "[0]\tvalidation_0-auc:0.61172\n",
      "Will train until validation_0-auc hasn't improved in 150 rounds.\n",
      "[100]\tvalidation_0-auc:0.67932\n",
      "[200]\tvalidation_0-auc:0.68382\n",
      "[300]\tvalidation_0-auc:0.68627\n",
      "[400]\tvalidation_0-auc:0.68790\n",
      "[500]\tvalidation_0-auc:0.68852\n",
      "[600]\tvalidation_0-auc:0.68885\n",
      "[700]\tvalidation_0-auc:0.68920\n",
      "[800]\tvalidation_0-auc:0.68929\n",
      "[900]\tvalidation_0-auc:0.68938\n",
      "[1000]\tvalidation_0-auc:0.68933\n",
      "[1100]\tvalidation_0-auc:0.68946\n",
      "[1200]\tvalidation_0-auc:0.68950\n",
      "[1300]\tvalidation_0-auc:0.68956\n",
      "[1400]\tvalidation_0-auc:0.68955\n",
      "Stopping. Best iteration:\n",
      "[1251]\tvalidation_0-auc:0.68959\n",
      "\n",
      "[0]\tvalidation_0-auc:0.61440\n",
      "Will train until validation_0-auc hasn't improved in 150 rounds.\n",
      "[100]\tvalidation_0-auc:0.68289\n",
      "[200]\tvalidation_0-auc:0.68570\n",
      "[300]\tvalidation_0-auc:0.68664\n",
      "[400]\tvalidation_0-auc:0.68771\n",
      "[500]\tvalidation_0-auc:0.68839\n",
      "[600]\tvalidation_0-auc:0.68874\n",
      "[700]\tvalidation_0-auc:0.68879\n",
      "[800]\tvalidation_0-auc:0.68885\n",
      "[900]\tvalidation_0-auc:0.68895\n",
      "[1000]\tvalidation_0-auc:0.68896\n",
      "[1100]\tvalidation_0-auc:0.68889\n",
      "Stopping. Best iteration:\n",
      "[968]\tvalidation_0-auc:0.68899\n",
      "\n",
      "[0]\tvalidation_0-auc:0.61876\n",
      "Will train until validation_0-auc hasn't improved in 150 rounds.\n",
      "[100]\tvalidation_0-auc:0.68126\n",
      "[200]\tvalidation_0-auc:0.68405\n",
      "[300]\tvalidation_0-auc:0.68568\n",
      "[400]\tvalidation_0-auc:0.68633\n",
      "[500]\tvalidation_0-auc:0.68661\n",
      "[600]\tvalidation_0-auc:0.68671\n",
      "[700]\tvalidation_0-auc:0.68682\n",
      "[800]\tvalidation_0-auc:0.68695\n",
      "[900]\tvalidation_0-auc:0.68689\n",
      "Stopping. Best iteration:\n",
      "[796]\tvalidation_0-auc:0.68700\n",
      "\n",
      "[0]\tvalidation_0-auc:0.62131\n",
      "Will train until validation_0-auc hasn't improved in 150 rounds.\n",
      "[100]\tvalidation_0-auc:0.68811\n",
      "[200]\tvalidation_0-auc:0.69342\n",
      "[300]\tvalidation_0-auc:0.69498\n",
      "[400]\tvalidation_0-auc:0.69578\n",
      "[500]\tvalidation_0-auc:0.69607\n",
      "[600]\tvalidation_0-auc:0.69618\n",
      "[700]\tvalidation_0-auc:0.69605\n",
      "Stopping. Best iteration:\n",
      "[583]\tvalidation_0-auc:0.69623\n",
      "\n"
     ]
    }
   ],
   "source": [
    "\n",
    "\n",
    "columns = [   \n",
    "    'dti',\n",
    "    'inq_last_6mths',\n",
    "    'mths_since_recent_inq',\n",
    "    'num_accts_ever_120_pd',\n",
    "    'acc_open_past_24mths',\n",
    "    'tot_hi_cred_lim',\n",
    "    'purpose',\n",
    "    'home_ownership',\n",
    "    'psk',\n",
    "    'percent',\n",
    "    'loan_income_ratio',\n",
    "    'is_emp_length_unknown',\n",
    "    'funded_amnt_mod_100',   \n",
    "]\n",
    "\n",
    "cat_features = [\n",
    "#     'purpose',\n",
    "#     'home_ownership',\n",
    "]\n",
    "\n",
    "xgb_params = {\n",
    "    'max_depth': 1,\n",
    "    'learning_rate': 0.1,\n",
    "    'reg_alpha': 1,\n",
    "    'reg_lambda': 10,\n",
    "    'n_estimators': 1500,\n",
    "#     'min_child_weight': 40,\n",
    "#     'min_gain_to_split': 1\n",
    "}\n",
    "\n",
    "skf = StratifiedKFold(n_splits=5, random_state=109, shuffle=True)\n",
    "oof_result = pd.Series([0] * train.shape[0])\n",
    "result = [0] * test.shape[0]\n",
    "scores = []\n",
    "for ind_trn, ind_test in skf.split(X_train, y_train):\n",
    "    X_train_df = X_train[columns].iloc[ind_trn]\n",
    "    X_valid_df = X_train[columns].iloc[ind_test]\n",
    "    y_train_df = y_train.iloc[ind_trn]\n",
    "    y_valid_df = y_train.iloc[ind_test]\n",
    "\n",
    "    model = XGBClassifier(**xgb_params, )\n",
    "\n",
    "    model.fit(\n",
    "        X_train_df,  \n",
    "        y_train_df,\n",
    "        eval_set=[(X_valid_df, y_valid_df)],\n",
    "        eval_metric='auc',\n",
    "        verbose=100,\n",
    "        early_stopping_rounds=150,\n",
    "#         categorical_feature=cat_features,\n",
    "    )\n",
    "    result += model.predict_proba(test[columns])[:, 1:].flatten()/5\n",
    "    scores.append(roc_auc_score(y_valid_df, model.predict_proba(X_valid_df)[:, 1]))\n",
    "    oof_result.loc[ind_test] = model.predict_proba(X_valid_df)[:, 1]\n",
    "\n",
    "    "
   ]
  },
  {
   "cell_type": "code",
   "execution_count": 292,
   "metadata": {},
   "outputs": [
    {
     "data": {
      "text/plain": [
       "<Figure size 1080x720 with 0 Axes>"
      ]
     },
     "metadata": {},
     "output_type": "display_data"
    },
    {
     "data": {
      "image/png": "[encoded data removed]",
      "text/plain": [
       "<Figure size 1080x720 with 1 Axes>"
      ]
     },
     "metadata": {
      "needs_background": "light"
     },
     "output_type": "display_data"
    }
   ],
   "source": [
    "plt.figure(figsize=(15,10))\n",
    "plot_importance(model, max_num_features=40, importance_type='gain')\n",
    "plt.rcParams['figure.figsize'] = [15, 10]\n",
    "plt.show()"
   ]
  },
  {
   "cell_type": "code",
   "execution_count": 293,
   "metadata": {},
   "outputs": [
    {
     "data": {
      "text/plain": [
       "(0.6885613155510479, 0.004893838649392344, 0.688432405239852)"
      ]
     },
     "execution_count": 293,
     "metadata": {},
     "output_type": "execute_result"
    }
   ],
   "source": [
    "#depth 4 0.05\n",
    "np.mean(scores), np.std(scores), roc_auc_score(y_train, oof_result)"
   ]
  },
  {
   "cell_type": "markdown",
   "metadata": {},
   "source": [
    "Применение модели к тестовой выборке"
   ]
  },
  {
   "cell_type": "code",
   "execution_count": 294,
   "metadata": {},
   "outputs": [],
   "source": [
    "test['prob'] = result"
   ]
  },
  {
   "cell_type": "markdown",
   "metadata": {},
   "source": [
    "Выгрузка решения для коммита в соревновании"
   ]
  },
  {
   "cell_type": "code",
   "execution_count": 295,
   "metadata": {},
   "outputs": [],
   "source": [
    "test[['id', 'prob']].to_csv('xgb_submission.csv', index=False)"
   ]
  },
  {
   "cell_type": "code",
   "execution_count": 297,
   "metadata": {},
   "outputs": [
    {
     "data": {
      "text/html": [
       "<div>\n",
       "<style scoped>\n",
       "    .dataframe tbody tr th:only-of-type {\n",
       "        vertical-align: middle;\n",
       "    }\n",
       "\n",
       "    .dataframe tbody tr th {\n",
       "        vertical-align: top;\n",
       "    }\n",
       "\n",
       "    .dataframe thead th {\n",
       "        text-align: right;\n",
       "    }\n",
       "</style>\n",
       "<table border=\"1\" class=\"dataframe\">\n",
       "  <thead>\n",
       "    <tr style=\"text-align: right;\">\n",
       "      <th></th>\n",
       "      <th>id</th>\n",
       "      <th>prob</th>\n",
       "    </tr>\n",
       "  </thead>\n",
       "  <tbody>\n",
       "    <tr>\n",
       "      <th>0</th>\n",
       "      <td>0</td>\n",
       "      <td>0.115384</td>\n",
       "    </tr>\n",
       "    <tr>\n",
       "      <th>1</th>\n",
       "      <td>1</td>\n",
       "      <td>0.146824</td>\n",
       "    </tr>\n",
       "    <tr>\n",
       "      <th>2</th>\n",
       "      <td>2</td>\n",
       "      <td>0.216910</td>\n",
       "    </tr>\n",
       "    <tr>\n",
       "      <th>3</th>\n",
       "      <td>3</td>\n",
       "      <td>0.174691</td>\n",
       "    </tr>\n",
       "    <tr>\n",
       "      <th>4</th>\n",
       "      <td>4</td>\n",
       "      <td>0.152055</td>\n",
       "    </tr>\n",
       "    <tr>\n",
       "      <th>...</th>\n",
       "      <td>...</td>\n",
       "      <td>...</td>\n",
       "    </tr>\n",
       "    <tr>\n",
       "      <th>29995</th>\n",
       "      <td>29995</td>\n",
       "      <td>0.128702</td>\n",
       "    </tr>\n",
       "    <tr>\n",
       "      <th>29996</th>\n",
       "      <td>29996</td>\n",
       "      <td>0.071632</td>\n",
       "    </tr>\n",
       "    <tr>\n",
       "      <th>29997</th>\n",
       "      <td>29997</td>\n",
       "      <td>0.231437</td>\n",
       "    </tr>\n",
       "    <tr>\n",
       "      <th>29998</th>\n",
       "      <td>29998</td>\n",
       "      <td>0.019282</td>\n",
       "    </tr>\n",
       "    <tr>\n",
       "      <th>29999</th>\n",
       "      <td>29999</td>\n",
       "      <td>0.131111</td>\n",
       "    </tr>\n",
       "  </tbody>\n",
       "</table>\n",
       "<p>30000 rows × 2 columns</p>\n",
       "</div>"
      ],
      "text/plain": [
       "          id      prob\n",
       "0          0  0.115384\n",
       "1          1  0.146824\n",
       "2          2  0.216910\n",
       "3          3  0.174691\n",
       "4          4  0.152055\n",
       "...      ...       ...\n",
       "29995  29995  0.128702\n",
       "29996  29996  0.071632\n",
       "29997  29997  0.231437\n",
       "29998  29998  0.019282\n",
       "29999  29999  0.131111\n",
       "\n",
       "[30000 rows x 2 columns]"
      ]
     },
     "execution_count": 297,
     "metadata": {},
     "output_type": "execute_result"
    }
   ],
   "source": [
    "test[['id', 'prob']]"
   ]
  },
  {
   "cell_type": "code",
   "execution_count": null,
   "metadata": {},
   "outputs": [],
   "source": []
  }
 ],
 "metadata": {
  "kernelspec": {
   "display_name": "Python 3",
   "language": "python",
   "name": "python3"
  },
  "language_info": {
   "codemirror_mode": {
    "name": "ipython",
    "version": 3
   },
   "file_extension": ".py",
   "mimetype": "text/x-python",
   "name": "python",
   "nbconvert_exporter": "python",
   "pygments_lexer": "ipython3",
   "version": "3.7.3"
  }
 },
 "nbformat": 4,
 "nbformat_minor": 4
}
