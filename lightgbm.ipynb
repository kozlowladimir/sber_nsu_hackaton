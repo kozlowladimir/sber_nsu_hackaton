{
 "cells": [
  {
   "cell_type": "markdown",
   "metadata": {},
   "source": [
    "Импорт необходимых библиотек"
   ]
  },
  {
   "cell_type": "code",
   "execution_count": 1,
   "metadata": {},
   "outputs": [],
   "source": [
    "import pandas as pd\n",
    "import numpy as np\n",
    "\n",
    "import matplotlib.pyplot as plt\n",
    "\n",
    "from lightgbm import LGBMClassifier, Dataset\n",
    "\n",
    "from sklearn.metrics import roc_auc_score\n",
    "from sklearn.metrics import roc_curve\n",
    "from sklearn.model_selection import StratifiedKFold\n",
    "from sklearn.preprocessing import LabelEncoder\n",
    "\n",
    "pd.options.display.max_columns=100"
   ]
  },
  {
   "cell_type": "markdown",
   "metadata": {},
   "source": [
    "Загрузка обучающего и тестового датасетов"
   ]
  },
  {
   "cell_type": "code",
   "execution_count": 2,
   "metadata": {},
   "outputs": [],
   "source": [
    "train = pd.read_csv('data/catboost_train.csv')\n",
    "test = pd.read_csv('data/catboost_test.csv')"
   ]
  },
  {
   "cell_type": "code",
   "execution_count": 3,
   "metadata": {},
   "outputs": [],
   "source": [
    "cat_cols = [\n",
    "    'purpose',\n",
    "    'home_ownership',\n",
    "    'subgrade'\n",
    "]\n",
    "\n",
    "for cat_cols in cat_cols:\n",
    "    le = LabelEncoder()\n",
    "    train[cat_cols] = le.fit_transform(train[cat_cols])\n",
    "    test[cat_cols] = le.transform(test[cat_cols])"
   ]
  },
  {
   "cell_type": "code",
   "execution_count": 4,
   "metadata": {},
   "outputs": [],
   "source": [
    "targ_cols = [i for i in train.columns if i not in ['def', 'id'] ]\n",
    "\n",
    "X_train = train[targ_cols]\n",
    "X_test = test[targ_cols]\n",
    "\n",
    "y_train = train[\"def\"]"
   ]
  },
  {
   "cell_type": "code",
   "execution_count": 5,
   "metadata": {},
   "outputs": [
    {
     "data": {
      "text/plain": [
       "['installment',\n",
       " 'dti',\n",
       " 'funded_amnt',\n",
       " 'annual_inc',\n",
       " 'emp_length',\n",
       " 'term',\n",
       " 'inq_last_6mths',\n",
       " 'mths_since_recent_inq',\n",
       " 'delinq_2yrs',\n",
       " 'chargeoff_within_12_mths',\n",
       " 'num_accts_ever_120_pd',\n",
       " 'num_tl_90g_dpd_24m',\n",
       " 'acc_open_past_24mths',\n",
       " 'avg_cur_bal',\n",
       " 'tot_hi_cred_lim',\n",
       " 'delinq_amnt',\n",
       " 'purpose',\n",
       " 'subgrade',\n",
       " 'home_ownership',\n",
       " 'psk',\n",
       " 'percent',\n",
       " 'percent_per_year',\n",
       " 'residual_dti',\n",
       " 'loan_income_ratio',\n",
       " 'additional_dti',\n",
       " 'dti_ratio_min',\n",
       " 'dti_ratio_max',\n",
       " 'waste_to_installment_ratio',\n",
       " 'is_first_loan',\n",
       " 'is_not_sber_client',\n",
       " 'even_salary',\n",
       " 'even_installment',\n",
       " 'is_emp_length_unknown',\n",
       " 'is_dti_b_35',\n",
       " 'is_common_amount',\n",
       " 'funded_amnt_mod_1000',\n",
       " 'funded_amnt_mod_500',\n",
       " 'funded_amnt_mod_100',\n",
       " 'funded_amnt_mod_10']"
      ]
     },
     "execution_count": 5,
     "metadata": {},
     "output_type": "execute_result"
    }
   ],
   "source": [
    "targ_cols"
   ]
  },
  {
   "cell_type": "code",
   "execution_count": 22,
   "metadata": {},
   "outputs": [
    {
     "name": "stderr",
     "output_type": "stream",
     "text": [
      "c:\\users\\kozlo\\appdata\\local\\programs\\python\\python37\\lib\\site-packages\\lightgbm\\basic.py:1551: UserWarning: Using categorical_feature in Dataset.\n",
      "  warnings.warn('Using categorical_feature in Dataset.')\n",
      "c:\\users\\kozlo\\appdata\\local\\programs\\python\\python37\\lib\\site-packages\\lightgbm\\basic.py:1555: UserWarning: categorical_feature in Dataset is overridden.\n",
      "New categorical_feature is ['home_ownership', 'purpose']\n",
      "  'New categorical_feature is {}'.format(sorted(list(categorical_feature))))\n",
      "c:\\users\\kozlo\\appdata\\local\\programs\\python\\python37\\lib\\site-packages\\lightgbm\\basic.py:1286: UserWarning: Overriding the parameters from Reference Dataset.\n",
      "  warnings.warn('Overriding the parameters from Reference Dataset.')\n",
      "c:\\users\\kozlo\\appdata\\local\\programs\\python\\python37\\lib\\site-packages\\lightgbm\\basic.py:1098: UserWarning: categorical_column in param dict is overridden.\n",
      "  warnings.warn('{} in param dict is overridden.'.format(cat_alias))\n"
     ]
    },
    {
     "name": "stdout",
     "output_type": "stream",
     "text": [
      "[LightGBM] [Warning] min_gain_to_split is set=1, min_split_gain=0.0 will be ignored. Current value: min_gain_to_split=1\n",
      "Training until validation scores don't improve for 50 rounds\n",
      "[100]\tvalid_0's auc: 0.689865\tvalid_0's binary_logloss: 0.41141\n",
      "[200]\tvalid_0's auc: 0.693258\tvalid_0's binary_logloss: 0.409819\n",
      "[300]\tvalid_0's auc: 0.693495\tvalid_0's binary_logloss: 0.409573\n",
      "Early stopping, best iteration is:\n",
      "[276]\tvalid_0's auc: 0.693685\tvalid_0's binary_logloss: 0.409533\n"
     ]
    },
    {
     "name": "stderr",
     "output_type": "stream",
     "text": [
      "c:\\users\\kozlo\\appdata\\local\\programs\\python\\python37\\lib\\site-packages\\lightgbm\\basic.py:1551: UserWarning: Using categorical_feature in Dataset.\n",
      "  warnings.warn('Using categorical_feature in Dataset.')\n",
      "c:\\users\\kozlo\\appdata\\local\\programs\\python\\python37\\lib\\site-packages\\lightgbm\\basic.py:1555: UserWarning: categorical_feature in Dataset is overridden.\n",
      "New categorical_feature is ['home_ownership', 'purpose']\n",
      "  'New categorical_feature is {}'.format(sorted(list(categorical_feature))))\n",
      "c:\\users\\kozlo\\appdata\\local\\programs\\python\\python37\\lib\\site-packages\\lightgbm\\basic.py:1286: UserWarning: Overriding the parameters from Reference Dataset.\n",
      "  warnings.warn('Overriding the parameters from Reference Dataset.')\n",
      "c:\\users\\kozlo\\appdata\\local\\programs\\python\\python37\\lib\\site-packages\\lightgbm\\basic.py:1098: UserWarning: categorical_column in param dict is overridden.\n",
      "  warnings.warn('{} in param dict is overridden.'.format(cat_alias))\n"
     ]
    },
    {
     "name": "stdout",
     "output_type": "stream",
     "text": [
      "[LightGBM] [Warning] min_gain_to_split is set=1, min_split_gain=0.0 will be ignored. Current value: min_gain_to_split=1\n",
      "Training until validation scores don't improve for 50 rounds\n",
      "[100]\tvalid_0's auc: 0.684295\tvalid_0's binary_logloss: 0.41207\n",
      "[200]\tvalid_0's auc: 0.687493\tvalid_0's binary_logloss: 0.410474\n",
      "[300]\tvalid_0's auc: 0.688105\tvalid_0's binary_logloss: 0.410221\n",
      "Early stopping, best iteration is:\n",
      "[331]\tvalid_0's auc: 0.688227\tvalid_0's binary_logloss: 0.410187\n"
     ]
    },
    {
     "name": "stderr",
     "output_type": "stream",
     "text": [
      "c:\\users\\kozlo\\appdata\\local\\programs\\python\\python37\\lib\\site-packages\\lightgbm\\basic.py:1551: UserWarning: Using categorical_feature in Dataset.\n",
      "  warnings.warn('Using categorical_feature in Dataset.')\n",
      "c:\\users\\kozlo\\appdata\\local\\programs\\python\\python37\\lib\\site-packages\\lightgbm\\basic.py:1555: UserWarning: categorical_feature in Dataset is overridden.\n",
      "New categorical_feature is ['home_ownership', 'purpose']\n",
      "  'New categorical_feature is {}'.format(sorted(list(categorical_feature))))\n",
      "c:\\users\\kozlo\\appdata\\local\\programs\\python\\python37\\lib\\site-packages\\lightgbm\\basic.py:1286: UserWarning: Overriding the parameters from Reference Dataset.\n",
      "  warnings.warn('Overriding the parameters from Reference Dataset.')\n",
      "c:\\users\\kozlo\\appdata\\local\\programs\\python\\python37\\lib\\site-packages\\lightgbm\\basic.py:1098: UserWarning: categorical_column in param dict is overridden.\n",
      "  warnings.warn('{} in param dict is overridden.'.format(cat_alias))\n"
     ]
    },
    {
     "name": "stdout",
     "output_type": "stream",
     "text": [
      "[LightGBM] [Warning] min_gain_to_split is set=1, min_split_gain=0.0 will be ignored. Current value: min_gain_to_split=1\n",
      "Training until validation scores don't improve for 50 rounds\n",
      "[100]\tvalid_0's auc: 0.683619\tvalid_0's binary_logloss: 0.412763\n",
      "[200]\tvalid_0's auc: 0.68805\tvalid_0's binary_logloss: 0.410925\n",
      "[300]\tvalid_0's auc: 0.688603\tvalid_0's binary_logloss: 0.410648\n",
      "Early stopping, best iteration is:\n",
      "[293]\tvalid_0's auc: 0.688674\tvalid_0's binary_logloss: 0.410623\n",
      "[LightGBM] [Warning] min_gain_to_split is set=1, min_split_gain=0.0 will be ignored. Current value: min_gain_to_split=1\n",
      "Training until validation scores don't improve for 50 rounds\n"
     ]
    },
    {
     "name": "stderr",
     "output_type": "stream",
     "text": [
      "c:\\users\\kozlo\\appdata\\local\\programs\\python\\python37\\lib\\site-packages\\lightgbm\\basic.py:1551: UserWarning: Using categorical_feature in Dataset.\n",
      "  warnings.warn('Using categorical_feature in Dataset.')\n",
      "c:\\users\\kozlo\\appdata\\local\\programs\\python\\python37\\lib\\site-packages\\lightgbm\\basic.py:1555: UserWarning: categorical_feature in Dataset is overridden.\n",
      "New categorical_feature is ['home_ownership', 'purpose']\n",
      "  'New categorical_feature is {}'.format(sorted(list(categorical_feature))))\n",
      "c:\\users\\kozlo\\appdata\\local\\programs\\python\\python37\\lib\\site-packages\\lightgbm\\basic.py:1286: UserWarning: Overriding the parameters from Reference Dataset.\n",
      "  warnings.warn('Overriding the parameters from Reference Dataset.')\n",
      "c:\\users\\kozlo\\appdata\\local\\programs\\python\\python37\\lib\\site-packages\\lightgbm\\basic.py:1098: UserWarning: categorical_column in param dict is overridden.\n",
      "  warnings.warn('{} in param dict is overridden.'.format(cat_alias))\n"
     ]
    },
    {
     "name": "stdout",
     "output_type": "stream",
     "text": [
      "[100]\tvalid_0's auc: 0.679021\tvalid_0's binary_logloss: 0.413093\n",
      "[200]\tvalid_0's auc: 0.681875\tvalid_0's binary_logloss: 0.411984\n",
      "[300]\tvalid_0's auc: 0.682699\tvalid_0's binary_logloss: 0.411771\n",
      "Early stopping, best iteration is:\n",
      "[340]\tvalid_0's auc: 0.682958\tvalid_0's binary_logloss: 0.411725\n"
     ]
    },
    {
     "name": "stderr",
     "output_type": "stream",
     "text": [
      "c:\\users\\kozlo\\appdata\\local\\programs\\python\\python37\\lib\\site-packages\\lightgbm\\basic.py:1551: UserWarning: Using categorical_feature in Dataset.\n",
      "  warnings.warn('Using categorical_feature in Dataset.')\n",
      "c:\\users\\kozlo\\appdata\\local\\programs\\python\\python37\\lib\\site-packages\\lightgbm\\basic.py:1555: UserWarning: categorical_feature in Dataset is overridden.\n",
      "New categorical_feature is ['home_ownership', 'purpose']\n",
      "  'New categorical_feature is {}'.format(sorted(list(categorical_feature))))\n",
      "c:\\users\\kozlo\\appdata\\local\\programs\\python\\python37\\lib\\site-packages\\lightgbm\\basic.py:1286: UserWarning: Overriding the parameters from Reference Dataset.\n",
      "  warnings.warn('Overriding the parameters from Reference Dataset.')\n",
      "c:\\users\\kozlo\\appdata\\local\\programs\\python\\python37\\lib\\site-packages\\lightgbm\\basic.py:1098: UserWarning: categorical_column in param dict is overridden.\n",
      "  warnings.warn('{} in param dict is overridden.'.format(cat_alias))\n"
     ]
    },
    {
     "name": "stdout",
     "output_type": "stream",
     "text": [
      "[LightGBM] [Warning] min_gain_to_split is set=1, min_split_gain=0.0 will be ignored. Current value: min_gain_to_split=1\n",
      "Training until validation scores don't improve for 50 rounds\n",
      "[100]\tvalid_0's auc: 0.673939\tvalid_0's binary_logloss: 0.415458\n",
      "[200]\tvalid_0's auc: 0.67671\tvalid_0's binary_logloss: 0.414747\n",
      "Early stopping, best iteration is:\n",
      "[205]\tvalid_0's auc: 0.676956\tvalid_0's binary_logloss: 0.414665\n"
     ]
    }
   ],
   "source": [
    "lgb_params = {\n",
    "    'objective': 'binary',\n",
    "    'max_depth': 1,\n",
    "#     'num_leaves': 4,\n",
    "    'learning_rate': 0.1,\n",
    "#     'lambda_l1': 12,\n",
    "    'seed': 17,\n",
    "    'n_estimators': 1000,\n",
    "    'min_child_weight': 40,\n",
    "    'min_gain_to_split': 1\n",
    "}\n",
    "\n",
    "columns = [\n",
    "    'percent',\n",
    "    'acc_open_past_24mths',\n",
    "    'avg_cur_bal',\n",
    "    'loan_income_ratio',\n",
    "    'annual_inc',\n",
    "    'tot_hi_cred_lim',\n",
    "    'additional_dti',\n",
    "    'percent_per_year',\n",
    "    'purpose',\n",
    "    'dti',\n",
    "    'home_ownership',\n",
    "    'num_accts_ever_120_pd',\n",
    "    'psk',\n",
    "    'is_emp_length_unknown',\n",
    "    'funded_amnt',\n",
    "]\n",
    "\n",
    "cat_features = [\n",
    "    'purpose',\n",
    "    'home_ownership',\n",
    "]\n",
    "\n",
    "skf = StratifiedKFold(n_splits=5, random_state=109)\n",
    "oof_result = pd.Series([0] * train.shape[0])\n",
    "result = [0] * test.shape[0]\n",
    "scores = []\n",
    "for ind_trn, ind_test in skf.split(X_train, y_train):\n",
    "    X_train_df = X_train[columns].iloc[ind_trn]\n",
    "    X_valid_df = X_train[columns].iloc[ind_test]\n",
    "    y_train_df = y_train.iloc[ind_trn]\n",
    "    y_valid_df = y_train.iloc[ind_test]\n",
    "\n",
    "    model = LGBMClassifier(**lgb_params)\n",
    "\n",
    "    model.fit(\n",
    "        X_train_df,  \n",
    "        y_train_df,\n",
    "        eval_set=[(X_valid_df, y_valid_df)],\n",
    "        eval_metric='auc',\n",
    "        verbose=100,\n",
    "        early_stopping_rounds=50,\n",
    "        categorical_feature=cat_features,\n",
    "    )\n",
    "    result += model.predict_proba(test[columns])[:, 1:].flatten()/5\n",
    "    scores.append(model.best_score_['valid_0']['auc'])\n",
    "    oof_result.loc[ind_test] = model.predict_proba(X_valid_df)[:, 1]\n"
   ]
  },
  {
   "cell_type": "code",
   "execution_count": 23,
   "metadata": {},
   "outputs": [
    {
     "data": {
      "text/plain": [
       "(0.6861002297092291, 0.005694943259212901, 0.6857824384945757)"
      ]
     },
     "execution_count": 23,
     "metadata": {},
     "output_type": "execute_result"
    }
   ],
   "source": [
    "#depth 4\n",
    "np.mean(scores), np.std(scores), roc_auc_score(y_train, oof_result)"
   ]
  },
  {
   "cell_type": "markdown",
   "metadata": {},
   "source": [
    "Применение модели к тестовой выборке"
   ]
  },
  {
   "cell_type": "code",
   "execution_count": 24,
   "metadata": {},
   "outputs": [],
   "source": [
    "test['prob'] = result"
   ]
  },
  {
   "cell_type": "markdown",
   "metadata": {},
   "source": [
    "Выгрузка решения для коммита в соревновании"
   ]
  },
  {
   "cell_type": "code",
   "execution_count": 25,
   "metadata": {},
   "outputs": [],
   "source": [
    "test[['id', 'prob']].to_csv('lgbm_submission.csv', index=False)"
   ]
  }
 ],
 "metadata": {
  "kernelspec": {
   "display_name": "Python 3",
   "language": "python",
   "name": "python3"
  },
  "language_info": {
   "codemirror_mode": {
    "name": "ipython",
    "version": 3
   },
   "file_extension": ".py",
   "mimetype": "text/x-python",
   "name": "python",
   "nbconvert_exporter": "python",
   "pygments_lexer": "ipython3",
   "version": "3.7.3"
  }
 },
 "nbformat": 4,
 "nbformat_minor": 4
}
