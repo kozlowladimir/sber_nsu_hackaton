{
 "cells": [
  {
   "cell_type": "markdown",
   "metadata": {},
   "source": [
    "Импорт необходимых библиотек"
   ]
  },
  {
   "cell_type": "code",
   "execution_count": 1,
   "metadata": {},
   "outputs": [],
   "source": [
    "import pandas as pd\n",
    "import numpy as np\n",
    "\n",
    "import matplotlib.pyplot as plt\n",
    "\n",
    "from category_encoders.target_encoder import TargetEncoder\n",
    "\n",
    "from sklearn.linear_model import LogisticRegression\n",
    "from sklearn.model_selection import GridSearchCV, cross_val_score, StratifiedKFold\n",
    "\n",
    "from sklearn.metrics import roc_auc_score\n",
    "from sklearn.preprocessing import StandardScaler\n",
    "\n",
    "pd.options.display.max_columns = 100"
   ]
  },
  {
   "cell_type": "markdown",
   "metadata": {},
   "source": [
    "Загрузка обучающего и тестового датасетов"
   ]
  },
  {
   "cell_type": "markdown",
   "metadata": {},
   "source": [
    "Разметка полей. def - таргет для модели. id - идентификатор. Все остальные поля - факторы для обучения модели"
   ]
  },
  {
   "cell_type": "code",
   "execution_count": 2,
   "metadata": {},
   "outputs": [],
   "source": [
    "train = pd.read_csv('data/logreg_train.csv')\n",
    "test = pd.read_csv('data/logreg_test.csv')"
   ]
  },
  {
   "cell_type": "code",
   "execution_count": 3,
   "metadata": {},
   "outputs": [
    {
     "name": "stderr",
     "output_type": "stream",
     "text": [
      "d:\\kaggle\\sber_plus_nsu\\.venv\\lib\\site-packages\\category_encoders\\utils.py:21: FutureWarning: is_categorical is deprecated and will be removed in a future version.  Use is_categorical_dtype instead\n",
      "  elif pd.api.types.is_categorical(cols):\n"
     ]
    }
   ],
   "source": [
    "purpose = [x for x in train.columns if x.startswith('purpose_')]\n",
    "subgrade = [x for x in train.columns if x.startswith('sub_grade_')]\n",
    "home_ownership = [x for x in train.columns if x.startswith('home_ownership_')]\n",
    "\n",
    "train['purpose'] = train[purpose].idxmax(axis=1)\n",
    "# train.drop(columns=purpose, axis=1, inplace=True)\n",
    "train['subgrade'] = train[subgrade].idxmax(axis=1)\n",
    "# train.drop(columns=subgrade, axis=1, inplace=True)\n",
    "train['home_ownership'] = train[home_ownership].idxmax(axis=1)\n",
    "# train.drop(columns=home_ownership, axis=1, inplace=True)\n",
    "\n",
    "test['purpose'] = test[purpose].idxmax(axis=1)\n",
    "# test.drop(columns=purpose, axis=1, inplace=True)\n",
    "test['subgrade'] = test[subgrade].idxmax(axis=1)\n",
    "# test.drop(columns=subgrade, axis=1, inplace=True)\n",
    "test['home_ownership'] = test[home_ownership].idxmax(axis=1)\n",
    "# test.drop(columns=home_ownership, axis=1, inplace=True)\n",
    "\n",
    "cols = [\n",
    "    'purpose', 'home_ownership', 'subgrade', 'emp_length', 'term', 'delinq_2yrs', 'num_accts_ever_120_pd', 'acc_open_past_24mths',\n",
    "]\n",
    "te = TargetEncoder(cols=cols)\n",
    "sample_df = te.fit_transform(train[cols], train['def'])\n",
    "test_sample_df = te.transform(test[cols])\n",
    "\n",
    "sample_df.columns = [f\"{x}_encoded\" for x in sample_df.columns]\n",
    "test_sample_df.columns = [f\"{x}_encoded\" for x in test_sample_df.columns]"
   ]
  },
  {
   "cell_type": "code",
   "execution_count": 4,
   "metadata": {},
   "outputs": [],
   "source": [
    "train = pd.concat([train, sample_df], axis=1)\n",
    "test = pd.concat([test, test_sample_df], axis=1)"
   ]
  },
  {
   "cell_type": "code",
   "execution_count": 5,
   "metadata": {},
   "outputs": [],
   "source": [
    "targ_cols = [i for i in train.columns if i not in ['def', 'id']  and 'sub_grade' not in i]\n",
    "\n",
    "X_train = train[targ_cols]\n",
    "X_test = test[targ_cols]\n",
    "\n",
    "y_train = train[\"def\"]"
   ]
  },
  {
   "cell_type": "markdown",
   "metadata": {},
   "source": [
    "Обучение модели"
   ]
  },
  {
   "cell_type": "code",
   "execution_count": 6,
   "metadata": {},
   "outputs": [
    {
     "name": "stdout",
     "output_type": "stream",
     "text": [
      "0.6859147742494416 0.007224020156917809\n"
     ]
    }
   ],
   "source": [
    "knn_params = {\n",
    "    \"fit_intercept\": True,\n",
    "    \"max_iter\": 300,\n",
    "    \"penalty\": \"l1\",\n",
    "    \"random_state\": 123,\n",
    "    \"solver\": \"liblinear\"\n",
    "}\n",
    "\n",
    "model = LogisticRegression(**knn_params)\n",
    "\n",
    "cols = [\n",
    "    'percent_per_year',\n",
    "    'percent',\n",
    "    'term',\n",
    "    'loan_income_ratio',\n",
    "    'psk',\n",
    "    'additional_dti',\n",
    "    \n",
    "    'purpose_small_business',\n",
    "    'purpose_home_improvement',\n",
    "    'purpose_major_purchase',\n",
    "    'purpose_medical',\n",
    "    'purpose_vacation',\n",
    "    'purpose_wedding',\n",
    "    'purpose_car',\n",
    "    \n",
    "    'acc_open_past_24mths',\n",
    "    'num_accts_ever_120_pd',\n",
    "    \n",
    "    'home_ownership_MORTGAGE',\n",
    "    'home_ownership_RENT',\n",
    "    \n",
    "    'installment',\n",
    "    'is_first_loan',\n",
    "    'avg_cur_bal',\n",
    "    'is_emp_length_unknown',\n",
    "    'even_salary',\n",
    "]\n",
    "\n",
    "skf = StratifiedKFold(n_splits=5, random_state=16, shuffle=True)\n",
    "scores = cross_val_score(model, X_train[cols], y_train, cv=skf, scoring='roc_auc')\n",
    "print(np.mean(scores), np.std(scores))"
   ]
  },
  {
   "cell_type": "code",
   "execution_count": 14,
   "metadata": {},
   "outputs": [],
   "source": [
    "def do_lr_cv(x_train, x_test, y_train, features, params):\n",
    "    oof_result = pd.Series([0] * x_train.shape[0], index=x_train.index)\n",
    "    result = [0] * x_test.shape[0]\n",
    "    scores = []\n",
    "    models = []\n",
    "    for ind_trn, ind_test in skf.split(x_train, y_train):\n",
    "        X_train_df = x_train[features].iloc[ind_trn]\n",
    "        X_valid_df = x_train[features].iloc[ind_test]\n",
    "        y_train_df = y_train.iloc[ind_trn]\n",
    "        y_valid_df = y_train.iloc[ind_test]\n",
    "\n",
    "        model = LogisticRegression(**params)\n",
    "        model.fit(X_train_df, y_train_df)\n",
    "\n",
    "        scores.append(roc_auc_score(y_valid_df, model.predict_proba(X_valid_df)[:, 1]))\n",
    "        result += model.predict_proba(x_test[features])[:, 1:].flatten()/5\n",
    "        oof_result.loc[X_valid_df.index] = model.predict_proba(X_valid_df)[:, 1]\n",
    "        models.append(model)\n",
    "    return scores, result, oof_result, models"
   ]
  },
  {
   "cell_type": "code",
   "execution_count": null,
   "metadata": {},
   "outputs": [],
   "source": [
    "remove_list = [\n",
    "    'purpose', 'home_ownership', 'subgrade',\n",
    "    'additional_dti', 'delinq_2yrs_encoded',\n",
    "    'dti', 'dti_sqrt',\n",
    "    'emp_length_encoded', 'even_installment',\n",
    "    'funded_amnt',\n",
    "    'installment',\n",
    "    'term_encoded',\n",
    "    'emp_length', 'funded_amnt_sqrt', \n",
    "    'waste_to_installment_ratio',\n",
    "    'delinq_amnt', 'funded_amnt_mod_1000',\n",
    "    'term', 'funded_amnt_mod_500',\n",
    "    'num_tl_90g_dpd_24m', 'funded_amnt_mod_100',\n",
    "    'mths_since_recent_inq',\n",
    "    'tot_hi_cred_lim_funded_amnt_ratio', 'acc_open_past_24mths_ratio', 'funded_amnt_mod_10',\n",
    "    \n",
    "    'dti_ratio_min', 'delinq_2yrs',\n",
    "    'is_common_amount', 'inq_last_6mths',\n",
    "    \n",
    "    \n",
    "    \n",
    "    'is_dti_b_35', \n",
    "    'purpose_debt_consolidation',\n",
    "    'installment_log',\n",
    "    'avg_cur_bal_sqrt',\n",
    "    'avg_cur_bal',\n",
    "    'tot_hi_cred_lim_sqrt',\n",
    "    'tot_hi_cred_lim',\n",
    "    'acc_open_past_24mths',\n",
    "    'annual_inc_log',\n",
    "    'annual_inc',\n",
    "    'percent_per_year',\n",
    "    'num_accts_ever_120_pd',\n",
    "    \n",
    "    'purpose_encoded',\n",
    "    'purpose_renewable_energy',\n",
    "    'purpose_other',\n",
    "    'purpose_medical',\n",
    "    'purpose_moving',\n",
    "    'purpose_house',\n",
    "    'purpose_car',\n",
    "    'purpose_credit_card',\n",
    "    \n",
    "    'home_ownership_NONE',\n",
    "    'home_ownership_OTHER',\n",
    "    'home_ownership_RENT',\n",
    "    'home_ownership_OWN',\n",
    "    'home_ownership_MORTGAGE'\n",
    "]\n",
    "\n",
    "skf = StratifiedKFold(n_splits=5, random_state=16, shuffle=True)\n",
    "\n",
    "params = {\n",
    "    \"fit_intercept\": True,\n",
    "    \"max_iter\": 300,\n",
    "    \"penalty\": \"l1\",\n",
    "    \"random_state\": 123,\n",
    "    \"solver\": \"liblinear\",\n",
    "    \"C\": 5\n",
    "}\n",
    "\n",
    "cols = targ_cols.copy()\n",
    "\n",
    "for r_c in remove_list:\n",
    "    cols.remove(r_c)\n",
    "\n",
    "scores, result, oof_result, models = do_lr_cv(\n",
    "    X_train,\n",
    "    X_test,\n",
    "    y_train,\n",
    "    cols,\n",
    "    params,\n",
    ")"
   ]
  },
  {
   "cell_type": "code",
   "execution_count": null,
   "metadata": {},
   "outputs": [],
   "source": [
    "# C 1 log\n",
    "np.mean(scores), np.std(scores), roc_auc_score(y_train, oof_result)"
   ]
  },
  {
   "cell_type": "code",
   "execution_count": 206,
   "metadata": {},
   "outputs": [
    {
     "data": {
      "text/plain": [
       "(0.6895404466266455, 0.006726686825808151, 0.6895443389561552)"
      ]
     },
     "execution_count": 206,
     "metadata": {},
     "output_type": "execute_result"
    }
   ],
   "source": [
    "# C 1.6 log\n",
    "np.mean(scores), np.std(scores), roc_auc_score(y_train, oof_result)"
   ]
  },
  {
   "cell_type": "code",
   "execution_count": 207,
   "metadata": {},
   "outputs": [
    {
     "data": {
      "text/plain": [
       "[(-0.8466551494311446, 'purpose_vacation'),\n",
       " (-0.5015632164120405, 'installment_sqrt'),\n",
       " (-0.35196363228784533, 'purpose_wedding'),\n",
       " (-0.2967154761814058, 'tot_hi_cred_lim_log'),\n",
       " (-0.20875345827569225, 'chargeoff_within_12_mths'),\n",
       " (-0.16506392962530905, 'is_first_loan'),\n",
       " (-0.1438152137257676, 'dti_ratio_max'),\n",
       " (0.021778224296561677, 'percent'),\n",
       " (0.04318022366312186, 'avg_cur_bal_log'),\n",
       " (0.05435852647107041, 'annual_inc_sqrt'),\n",
       " (0.05826374327935533, 'residual_dti'),\n",
       " (0.08437499594088019, 'even_salary'),\n",
       " (0.10236899142190052, 'tot_hi_cred_lim_annual_inc_ratio'),\n",
       " (0.1056332461810118, 'purpose_home_improvement'),\n",
       " (0.13159774030933047, 'loan_income_ratio'),\n",
       " (0.15286661963765585, 'purpose_major_purchase'),\n",
       " (0.19147349747813003, 'psk'),\n",
       " (0.2023686422724525, 'is_emp_length_unknown'),\n",
       " (0.22870207553648844, 'dti_log'),\n",
       " (0.26782532115474833, 'is_not_sber_client'),\n",
       " (0.28333908102647115, 'funded_amnt_log'),\n",
       " (0.6098830954746963, 'purpose_small_business'),\n",
       " (1.8004591498828746, 'home_ownership_encoded'),\n",
       " (3.8061528488419283, 'num_accts_ever_120_pd_encoded'),\n",
       " (5.115793843968278, 'subgrade_encoded'),\n",
       " (5.478560335057976, 'acc_open_past_24mths_encoded')]"
      ]
     },
     "execution_count": 207,
     "metadata": {},
     "output_type": "execute_result"
    }
   ],
   "source": [
    "sorted(list(zip(np.mean([model.coef_[0] for model in models], axis=0), cols)))"
   ]
  },
  {
   "cell_type": "code",
   "execution_count": 208,
   "metadata": {},
   "outputs": [
    {
     "data": {
      "image/png": "[encoded data removed]",
      "text/plain": [
       "<Figure size 432x288 with 1 Axes>"
      ]
     },
     "metadata": {
      "needs_background": "light"
     },
     "output_type": "display_data"
    }
   ],
   "source": [
    "plt.hist(oof_result[y_train == 1], bins=50, alpha=0.33, density='uniform', label='1')\n",
    "plt.hist(oof_result[y_train == 0], bins=50, alpha=0.33, density='uniform', label='0')\n",
    "plt.hist(result, bins=50, alpha=0.33, density='uniform', label='-1')\n",
    "plt.legend()\n",
    "plt.show()"
   ]
  },
  {
   "cell_type": "code",
   "execution_count": 209,
   "metadata": {},
   "outputs": [
    {
     "data": {
      "image/png": "[encoded data removed]",
      "text/plain": [
       "<Figure size 432x288 with 1 Axes>"
      ]
     },
     "metadata": {
      "needs_background": "light"
     },
     "output_type": "display_data"
    }
   ],
   "source": [
    "plt.hist(oof_result, bins=50, alpha=0.33, density='uniform', label='1')\n",
    "plt.hist(result, bins=50, alpha=0.33, density='uniform', label='-1')\n",
    "plt.legend()\n",
    "plt.show()"
   ]
  },
  {
   "cell_type": "markdown",
   "metadata": {},
   "source": [
    "Применение модели к тестовой выборке"
   ]
  },
  {
   "cell_type": "code",
   "execution_count": 212,
   "metadata": {},
   "outputs": [],
   "source": [
    "test['prob'] = result"
   ]
  },
  {
   "cell_type": "markdown",
   "metadata": {},
   "source": [
    "Выгрузка решения для коммита в соревновании"
   ]
  },
  {
   "cell_type": "code",
   "execution_count": 213,
   "metadata": {},
   "outputs": [],
   "source": [
    "test[['id', 'prob']].to_csv('lr_submission.csv', index=False)"
   ]
  },
  {
   "cell_type": "code",
   "execution_count": 214,
   "metadata": {},
   "outputs": [
    {
     "data": {
      "text/html": [
       "<div>\n",
       "<style scoped>\n",
       "    .dataframe tbody tr th:only-of-type {\n",
       "        vertical-align: middle;\n",
       "    }\n",
       "\n",
       "    .dataframe tbody tr th {\n",
       "        vertical-align: top;\n",
       "    }\n",
       "\n",
       "    .dataframe thead th {\n",
       "        text-align: right;\n",
       "    }\n",
       "</style>\n",
       "<table border=\"1\" class=\"dataframe\">\n",
       "  <thead>\n",
       "    <tr style=\"text-align: right;\">\n",
       "      <th></th>\n",
       "      <th>id</th>\n",
       "      <th>prob</th>\n",
       "    </tr>\n",
       "  </thead>\n",
       "  <tbody>\n",
       "    <tr>\n",
       "      <th>0</th>\n",
       "      <td>0</td>\n",
       "      <td>0.116957</td>\n",
       "    </tr>\n",
       "    <tr>\n",
       "      <th>1</th>\n",
       "      <td>1</td>\n",
       "      <td>0.125413</td>\n",
       "    </tr>\n",
       "    <tr>\n",
       "      <th>2</th>\n",
       "      <td>2</td>\n",
       "      <td>0.217813</td>\n",
       "    </tr>\n",
       "    <tr>\n",
       "      <th>3</th>\n",
       "      <td>3</td>\n",
       "      <td>0.147082</td>\n",
       "    </tr>\n",
       "    <tr>\n",
       "      <th>4</th>\n",
       "      <td>4</td>\n",
       "      <td>0.115246</td>\n",
       "    </tr>\n",
       "    <tr>\n",
       "      <th>...</th>\n",
       "      <td>...</td>\n",
       "      <td>...</td>\n",
       "    </tr>\n",
       "    <tr>\n",
       "      <th>29995</th>\n",
       "      <td>29995</td>\n",
       "      <td>0.123579</td>\n",
       "    </tr>\n",
       "    <tr>\n",
       "      <th>29996</th>\n",
       "      <td>29996</td>\n",
       "      <td>0.070078</td>\n",
       "    </tr>\n",
       "    <tr>\n",
       "      <th>29997</th>\n",
       "      <td>29997</td>\n",
       "      <td>0.268971</td>\n",
       "    </tr>\n",
       "    <tr>\n",
       "      <th>29998</th>\n",
       "      <td>29998</td>\n",
       "      <td>0.036997</td>\n",
       "    </tr>\n",
       "    <tr>\n",
       "      <th>29999</th>\n",
       "      <td>29999</td>\n",
       "      <td>0.154720</td>\n",
       "    </tr>\n",
       "  </tbody>\n",
       "</table>\n",
       "<p>30000 rows × 2 columns</p>\n",
       "</div>"
      ],
      "text/plain": [
       "          id      prob\n",
       "0          0  0.116957\n",
       "1          1  0.125413\n",
       "2          2  0.217813\n",
       "3          3  0.147082\n",
       "4          4  0.115246\n",
       "...      ...       ...\n",
       "29995  29995  0.123579\n",
       "29996  29996  0.070078\n",
       "29997  29997  0.268971\n",
       "29998  29998  0.036997\n",
       "29999  29999  0.154720\n",
       "\n",
       "[30000 rows x 2 columns]"
      ]
     },
     "execution_count": 214,
     "metadata": {},
     "output_type": "execute_result"
    }
   ],
   "source": [
    "test[['id', 'prob']]"
   ]
  },
  {
   "cell_type": "code",
   "execution_count": 117,
   "metadata": {},
   "outputs": [
    {
     "data": {
      "text/html": [
       "<div>\n",
       "<style scoped>\n",
       "    .dataframe tbody tr th:only-of-type {\n",
       "        vertical-align: middle;\n",
       "    }\n",
       "\n",
       "    .dataframe tbody tr th {\n",
       "        vertical-align: top;\n",
       "    }\n",
       "\n",
       "    .dataframe thead th {\n",
       "        text-align: right;\n",
       "    }\n",
       "</style>\n",
       "<table border=\"1\" class=\"dataframe\">\n",
       "  <thead>\n",
       "    <tr style=\"text-align: right;\">\n",
       "      <th></th>\n",
       "      <th>id</th>\n",
       "      <th>prob</th>\n",
       "    </tr>\n",
       "  </thead>\n",
       "  <tbody>\n",
       "    <tr>\n",
       "      <th>0</th>\n",
       "      <td>0</td>\n",
       "      <td>0.113271</td>\n",
       "    </tr>\n",
       "    <tr>\n",
       "      <th>1</th>\n",
       "      <td>1</td>\n",
       "      <td>0.120397</td>\n",
       "    </tr>\n",
       "    <tr>\n",
       "      <th>2</th>\n",
       "      <td>2</td>\n",
       "      <td>0.214433</td>\n",
       "    </tr>\n",
       "    <tr>\n",
       "      <th>3</th>\n",
       "      <td>3</td>\n",
       "      <td>0.150375</td>\n",
       "    </tr>\n",
       "    <tr>\n",
       "      <th>4</th>\n",
       "      <td>4</td>\n",
       "      <td>0.129360</td>\n",
       "    </tr>\n",
       "    <tr>\n",
       "      <th>...</th>\n",
       "      <td>...</td>\n",
       "      <td>...</td>\n",
       "    </tr>\n",
       "    <tr>\n",
       "      <th>29995</th>\n",
       "      <td>29995</td>\n",
       "      <td>0.119279</td>\n",
       "    </tr>\n",
       "    <tr>\n",
       "      <th>29996</th>\n",
       "      <td>29996</td>\n",
       "      <td>0.051602</td>\n",
       "    </tr>\n",
       "    <tr>\n",
       "      <th>29997</th>\n",
       "      <td>29997</td>\n",
       "      <td>0.270260</td>\n",
       "    </tr>\n",
       "    <tr>\n",
       "      <th>29998</th>\n",
       "      <td>29998</td>\n",
       "      <td>0.029760</td>\n",
       "    </tr>\n",
       "    <tr>\n",
       "      <th>29999</th>\n",
       "      <td>29999</td>\n",
       "      <td>0.134731</td>\n",
       "    </tr>\n",
       "  </tbody>\n",
       "</table>\n",
       "<p>30000 rows × 2 columns</p>\n",
       "</div>"
      ],
      "text/plain": [
       "          id      prob\n",
       "0          0  0.113271\n",
       "1          1  0.120397\n",
       "2          2  0.214433\n",
       "3          3  0.150375\n",
       "4          4  0.129360\n",
       "...      ...       ...\n",
       "29995  29995  0.119279\n",
       "29996  29996  0.051602\n",
       "29997  29997  0.270260\n",
       "29998  29998  0.029760\n",
       "29999  29999  0.134731\n",
       "\n",
       "[30000 rows x 2 columns]"
      ]
     },
     "execution_count": 117,
     "metadata": {},
     "output_type": "execute_result"
    }
   ],
   "source": [
    "test[['id', 'prob']]"
   ]
  },
  {
   "cell_type": "code",
   "execution_count": null,
   "metadata": {},
   "outputs": [],
   "source": []
  }
 ],
 "metadata": {
  "kernelspec": {
   "display_name": "Python 3",
   "language": "python",
   "name": "python3"
  },
  "language_info": {
   "codemirror_mode": {
    "name": "ipython",
    "version": 3
   },
   "file_extension": ".py",
   "mimetype": "text/x-python",
   "name": "python",
   "nbconvert_exporter": "python",
   "pygments_lexer": "ipython3",
   "version": "3.7.3"
  }
 },
 "nbformat": 4,
 "nbformat_minor": 4
}
