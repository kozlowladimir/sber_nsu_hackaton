{
 "cells": [
  {
   "cell_type": "code",
   "execution_count": 17,
   "metadata": {},
   "outputs": [],
   "source": [
    "from sklearn.preprocessing import StandardScaler\n",
    "import pandas as pd"
   ]
  },
  {
   "cell_type": "code",
   "execution_count": 10,
   "metadata": {},
   "outputs": [],
   "source": [
    "train = pd.read_csv('data/train.csv')\n",
    "test = pd.read_csv('data/test.csv')"
   ]
  },
  {
   "cell_type": "code",
   "execution_count": 11,
   "metadata": {},
   "outputs": [],
   "source": [
    "def process_data_for_catboost(train, test):\n",
    "    purpose = [x for x in train.columns if x.startswith('purpose_')]\n",
    "    subgrade = [x for x in train.columns if x.startswith('sub_grade_')]\n",
    "    home_ownership = [x for x in train.columns if x.startswith('home_ownership_')]\n",
    "\n",
    "    train['purpose'] = train[purpose].idxmax(axis=1)\n",
    "    train.drop(columns=purpose, axis=1, inplace=True)\n",
    "    train['subgrade'] = train[subgrade].idxmax(axis=1)\n",
    "    train.drop(columns=subgrade, axis=1, inplace=True)\n",
    "    train['home_ownership'] = train[home_ownership].idxmax(axis=1)\n",
    "    train.drop(columns=home_ownership, axis=1, inplace=True)\n",
    "\n",
    "    test['purpose'] = test[purpose].idxmax(axis=1)\n",
    "    test.drop(columns=purpose, axis=1, inplace=True)\n",
    "    test['subgrade'] = test[subgrade].idxmax(axis=1)\n",
    "    test.drop(columns=subgrade, axis=1, inplace=True)\n",
    "    test['home_ownership'] = test[home_ownership].idxmax(axis=1)\n",
    "    test.drop(columns=home_ownership, axis=1, inplace=True)\n",
    "    \n",
    "    return train, test"
   ]
  },
  {
   "cell_type": "code",
   "execution_count": 21,
   "metadata": {},
   "outputs": [],
   "source": [
    "catboost_train, catboost_test = process_data_for_catboost(train.copy(), test.copy())\n",
    "logreg_train, logreg_test = train.copy(), test.copy()"
   ]
  },
  {
   "cell_type": "code",
   "execution_count": 22,
   "metadata": {},
   "outputs": [],
   "source": [
    "def get_features(df: pd.DataFrame, model_type='catboost') -> pd.DataFrame:\n",
    "    \n",
    "    # % полная сумма к уплате\n",
    "    df['psk'] = df['installment']*df['term']\n",
    "\n",
    "    # % переплаты\n",
    "    df['percent'] = (df['psk'] - df['funded_amnt'])/df['funded_amnt']\n",
    "\n",
    "    # годовой процент\n",
    "    df['percent_per_year'] = (df['percent']/df['term']*1200).round(decimals=1)\n",
    "\n",
    "    # ПДН без учета текущего займа\n",
    "    df['residual_dti'] = df['dti'] - (df['installment']*12/df['annual_inc'])*100\n",
    "    # отношение суммы займа к годовому доходу\n",
    "    df['loan_income_ratio'] = df['funded_amnt']/df['annual_inc']\n",
    "    \n",
    "    # ПНД без учета займа\n",
    "    df['residual_dti'] = df['dti'] - (df['installment']*12/df['annual_inc'])*100\n",
    "    df['additional_dti'] = df['dti'] + (df['installment']*12/df['annual_inc'])*100\n",
    "    \n",
    "    df['dti_ratio_min'] = df['dti']/df['residual_dti']\n",
    "    df['dti_ratio_max'] = df['dti']/df['additional_dti']\n",
    "    \n",
    "    df['is_first_loan'] = df['mths_since_recent_inq'].between(6.01, 6.99)\n",
    "    df['is_not_sber_client'] = df['avg_cur_bal'].between(13841.01, 13841.02)\n",
    "\n",
    "    if model_type == 'catboost':\n",
    "        df.loc[df['is_first_loan'], 'mths_since_recent_inq'] = None\n",
    "        df.loc[\n",
    "            df['is_not_sber_client'], ['num_accts_ever_120_pd', 'num_tl_90g_dpd_24m', 'avg_cur_bal', 'tot_hi_cred_lim']\n",
    "        ] = None\n",
    "    elif model_type == 'logreg':\n",
    "        df['is_first_loan'] = df['is_first_loan'].astype('int')\n",
    "        df['is_not_sber_client'] = df['is_not_sber_client'].astype('int')\n",
    "\n",
    "    return df\n",
    "\n",
    "catboost_train = get_features(catboost_train)\n",
    "catboost_test = get_features(catboost_test)\n",
    "\n",
    "logreg_train = get_features(logreg_train, 'logreg')\n",
    "logreg_test = get_features(logreg_test, 'logreg')"
   ]
  },
  {
   "cell_type": "code",
   "execution_count": 23,
   "metadata": {},
   "outputs": [],
   "source": [
    "cols_to_scale = [\n",
    "    'installment',\n",
    "    'dti',\n",
    "    'funded_amnt',\n",
    "    'annual_inc',\n",
    "    'avg_cur_bal',\n",
    "    'tot_hi_cred_lim',\n",
    "    'psk',\n",
    "    'percent',\n",
    "    'percent_per_year',\n",
    "    'residual_dti',\n",
    "    'loan_income_ratio',\n",
    "    'additional_dti',\n",
    "    'dti_ratio_min',\n",
    "    'dti_ratio_max',\n",
    "]\n",
    "\n",
    "\n",
    "scaller = StandardScaler()\n",
    "logreg_train[cols_to_scale] = scaller.fit_transform(logreg_train[cols_to_scale])\n",
    "logreg_test[cols_to_scale] = scaller.transform(logreg_test[cols_to_scale])"
   ]
  },
  {
   "cell_type": "code",
   "execution_count": 25,
   "metadata": {},
   "outputs": [],
   "source": [
    "catboost_train.to_csv('data/catboost_train.csv', index=False)\n",
    "catboost_test.to_csv('data/catboost_test.csv', index=False)\n",
    "logreg_train.to_csv('data/logreg_train.csv', index=False)\n",
    "logreg_test.to_csv('data/logreg_test.csv', index=False)"
   ]
  },
  {
   "cell_type": "code",
   "execution_count": null,
   "metadata": {},
   "outputs": [],
   "source": []
  }
 ],
 "metadata": {
  "kernelspec": {
   "display_name": "Python 3",
   "language": "python",
   "name": "python3"
  },
  "language_info": {
   "codemirror_mode": {
    "name": "ipython",
    "version": 3
   },
   "file_extension": ".py",
   "mimetype": "text/x-python",
   "name": "python",
   "nbconvert_exporter": "python",
   "pygments_lexer": "ipython3",
   "version": "3.7.3"
  }
 },
 "nbformat": 4,
 "nbformat_minor": 2
}
