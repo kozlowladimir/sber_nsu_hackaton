{
 "cells": [
  {
   "cell_type": "code",
   "execution_count": 138,
   "metadata": {},
   "outputs": [],
   "source": [
    "from catboost import CatBoostClassifier, Pool\n",
    "from sklearn.neighbors import KNeighborsClassifier\n",
    "from sklearn.linear_model import LogisticRegression, LogisticRegressionCV\n",
    "from sklearn.metrics import roc_auc_score\n",
    "from sklearn.model_selection import StratifiedKFold, train_test_split, cross_val_score\n",
    "from xgboost import XGBClassifier, DMatrix, plot_importance, plot_tree\n",
    "from lightgbm import LGBMClassifier, Dataset\n",
    "from sklearn.preprocessing import LabelEncoder\n",
    "import numpy as np\n",
    "import pandas as pd\n",
    "from matplotlib import pyplot as plt"
   ]
  },
  {
   "cell_type": "code",
   "execution_count": 3,
   "metadata": {},
   "outputs": [],
   "source": [
    "catboost_params = {\n",
    "    \"iterations\": 1000,\n",
    "    \"depth\": 3,\n",
    "    \"learning_rate\": 0.08,\n",
    "    \"loss_function\": \"Logloss\",\n",
    "    \"verbose\": False,\n",
    "    \"eval_metric\": 'AUC',\n",
    "    \"od_type\": 'Iter',\n",
    "    \"od_wait\": 150,\n",
    "}\n",
    "\n",
    "lr_params = {\n",
    "    \"C\": 1.5,\n",
    "    \"fit_intercept\": True,\n",
    "    \"max_iter\": 300,\n",
    "    \"penalty\": \"l1\",\n",
    "    \"random_state\": 123,\n",
    "    \"solver\": \"liblinear\"\n",
    "}\n",
    "\n",
    "catboost_columns = [\n",
    "    'term',\n",
    "    'acc_open_past_24mths', # 677 02\n",
    "    'funded_amnt',\n",
    "    'percent_per_year',\n",
    "    'additional_dti', #671\n",
    "    'num_accts_ever_120_pd',\n",
    "    'annual_inc', # 682 024,\n",
    "    'tot_hi_cred_lim',\n",
    "    'purpose', # 6839 035\n",
    "    'home_ownership', # 683 027\n",
    "]\n",
    "\n",
    "catboost_cat_features = [\n",
    "    'purpose',\n",
    "    'home_ownership',\n",
    "]\n",
    "\n",
    "lr_cols = [\n",
    "    'percent_per_year',\n",
    "    'percent',\n",
    "    'term',\n",
    "    'loan_income_ratio',\n",
    "    'psk',\n",
    "    'additional_dti',\n",
    "    \n",
    "    'purpose_small_business',\n",
    "    'purpose_home_improvement',\n",
    "    'purpose_major_purchase',\n",
    "    'purpose_medical',\n",
    "    'purpose_vacation',\n",
    "    'purpose_wedding',\n",
    "    'purpose_car',\n",
    "    \n",
    "    'acc_open_past_24mths',\n",
    "    'num_accts_ever_120_pd',\n",
    "    \n",
    "    'home_ownership_MORTGAGE',\n",
    "    'home_ownership_RENT',\n",
    "    \n",
    "    'installment',\n",
    "    'is_first_loan',\n",
    "    'avg_cur_bal',\n",
    "    'is_emp_length_unknown',\n",
    "    'even_salary',\n",
    "]\n",
    "\n",
    "lgbm_params = {\n",
    "    'objective': 'binary',\n",
    "    'max_depth': 1,\n",
    "    'learning_rate': 0.05,\n",
    "    'lambda_l2': 0.01,\n",
    "    'seed': 17,\n",
    "    'n_estimators': 1000,\n",
    "    'min_child_weight': 40,\n",
    "}\n",
    "\n",
    "knn_params = {\n",
    "    \"n_neighbors\": 130,\n",
    "    \"weights\": 'distance',\n",
    "}\n",
    "\n",
    "knn_columns = [\n",
    "    'percent_per_year',\n",
    "    'percent',\n",
    "    'term',\n",
    "    'loan_income_ratio',\n",
    "    'psk',\n",
    "    'additional_dti',\n",
    "    \n",
    "    'purpose_small_business',\n",
    "    'purpose_home_improvement',\n",
    "    'purpose_major_purchase',\n",
    "    'purpose_medical',\n",
    "    'purpose_vacation',\n",
    "    'purpose_wedding',\n",
    "    'purpose_car',\n",
    "    \n",
    "    'acc_open_past_24mths',\n",
    "    'num_accts_ever_120_pd',\n",
    "    \n",
    "    'home_ownership_MORTGAGE',\n",
    "    'home_ownership_RENT',\n",
    "    \n",
    "    'installment',\n",
    "    'is_first_loan',\n",
    "    'avg_cur_bal',\n",
    "    'is_emp_length_unknown',\n",
    "    'even_salary',\n",
    "]\n",
    "\n",
    "lgbm_columns = [\n",
    "    'percent',\n",
    "    'acc_open_past_24mths',\n",
    "    'avg_cur_bal',\n",
    "    'loan_income_ratio',\n",
    "    'annual_inc',\n",
    "    'tot_hi_cred_lim',\n",
    "    'additional_dti',\n",
    "    'percent_per_year',\n",
    "    'purpose',\n",
    "    'dti',\n",
    "    'home_ownership',\n",
    "    'num_accts_ever_120_pd',\n",
    "    'psk',\n",
    "    'is_emp_length_unknown',\n",
    "    'funded_amnt',\n",
    "]\n",
    "\n",
    "lgbm_cat_features = [\n",
    "    'purpose',\n",
    "    'home_ownership',\n",
    "]\n",
    "\n",
    "xgb_columns = [   \n",
    "    'dti',\n",
    "    'inq_last_6mths',\n",
    "    'mths_since_recent_inq',\n",
    "    'num_accts_ever_120_pd',\n",
    "    'acc_open_past_24mths',\n",
    "    'tot_hi_cred_lim',\n",
    "    'purpose',\n",
    "    'home_ownership',\n",
    "    'psk',\n",
    "    'percent',\n",
    "    'loan_income_ratio',\n",
    "    'is_emp_length_unknown',\n",
    "    'funded_amnt_mod_100',   \n",
    "]\n",
    "\n",
    "\n",
    "xgb_params = {\n",
    "    'max_depth': 1,\n",
    "    'learning_rate': 0.1,\n",
    "    'reg_alpha': 1,\n",
    "    'reg_lambda': 10,\n",
    "    'n_estimators': 1500,\n",
    "}"
   ]
  },
  {
   "cell_type": "code",
   "execution_count": 116,
   "metadata": {},
   "outputs": [],
   "source": [
    "def init_and_fit_model(x_train, x_test, y_train, y_test, params, cat_features, model):\n",
    "    if model=='catboost':\n",
    "        eval_dataset = Pool(x_test, y_test, cat_features)\n",
    "        inner_model = CatBoostClassifier(**params)\n",
    "\n",
    "        inner_model.fit(\n",
    "            x_train,  \n",
    "            y_train,\n",
    "            cat_features,\n",
    "            eval_set=eval_dataset,\n",
    "            verbose=50,\n",
    "            use_best_model=True,\n",
    "        )\n",
    "    elif model == 'logreg':\n",
    "        inner_model = LogisticRegression(**params)\n",
    "        inner_model.fit(x_train, y_train)\n",
    "    elif model == 'lgbm':\n",
    "        inner_model = LGBMClassifier(**params)\n",
    "        inner_model.fit(\n",
    "            x_train,  \n",
    "            y_train,\n",
    "            eval_set=[(x_test, y_test)],\n",
    "            eval_metric='auc',\n",
    "            verbose=100,\n",
    "            early_stopping_rounds=50,\n",
    "            categorical_feature=cat_features,\n",
    "        )\n",
    "    elif model == 'knn':\n",
    "        inner_model = KNeighborsClassifier(**params)\n",
    "        inner_model.fit(x_train, y_train)\n",
    "    elif model == 'xgboost':\n",
    "        inner_model = XGBClassifier(**xgb_params, )\n",
    "\n",
    "        inner_model.fit(\n",
    "            x_train,  \n",
    "            y_train,\n",
    "            eval_set=[(x_test, y_test)],\n",
    "            eval_metric='auc',\n",
    "            verbose=100,\n",
    "            early_stopping_rounds=150,\n",
    "        )\n",
    "    return inner_model\n",
    "\n",
    "def do_cv(x_train, x_test, y_train, features, cat_features, params, splitter, model='catboost'):\n",
    "    oof_result = pd.Series([0] * x_train.shape[0], index=x_train.index)\n",
    "    result = [0] * x_test.shape[0]\n",
    "    scores = []\n",
    "    for ind_trn, ind_test in splitter.split(x_train, y_train):\n",
    "        X_train_df = x_train[features].iloc[ind_trn]\n",
    "        X_valid_df = x_train[features].iloc[ind_test]\n",
    "        y_train_df = y_train.iloc[ind_trn]\n",
    "        y_valid_df = y_train.iloc[ind_test]\n",
    "\n",
    "        fitted_model = init_and_fit_model(\n",
    "            X_train_df,\n",
    "            X_valid_df,\n",
    "            y_train_df,\n",
    "            y_valid_df,\n",
    "            params,\n",
    "            cat_features,\n",
    "            model\n",
    "        )\n",
    "        \n",
    "        scores.append(roc_auc_score(y_valid_df, fitted_model.predict_proba(X_valid_df)[:, 1]))\n",
    "        result += fitted_model.predict_proba(x_test[features])[:, 1:].flatten()/5\n",
    "        oof_result.loc[X_valid_df.index] = fitted_model.predict_proba(X_valid_df)[:, 1]\n",
    "        \n",
    "    return scores, result, oof_result"
   ]
  },
  {
   "cell_type": "code",
   "execution_count": 117,
   "metadata": {},
   "outputs": [],
   "source": [
    "catboost_train = pd.read_csv('data/catboost_train.csv')\n",
    "catboost_test = pd.read_csv('data/catboost_test.csv')\n",
    "lgbm_train = pd.read_csv('data/catboost_train.csv')\n",
    "lgbm_test = pd.read_csv('data/catboost_test.csv')\n",
    "logreg_train = pd.read_csv('data/logreg_train.csv')\n",
    "logreg_test = pd.read_csv('data/logreg_test.csv')"
   ]
  },
  {
   "cell_type": "code",
   "execution_count": 118,
   "metadata": {},
   "outputs": [],
   "source": [
    "cat_cols = [\n",
    "    'purpose',\n",
    "    'home_ownership',\n",
    "    'subgrade'\n",
    "]\n",
    "\n",
    "for cat_cols in cat_cols:\n",
    "    le = LabelEncoder()\n",
    "    lgbm_train[cat_cols] = le.fit_transform(lgbm_train[cat_cols])\n",
    "    lgbm_test[cat_cols] = le.transform(lgbm_test[cat_cols])"
   ]
  },
  {
   "cell_type": "code",
   "execution_count": 119,
   "metadata": {},
   "outputs": [],
   "source": [
    "catboost_train_small, catboost_valid, catboost_y_train, catboost_y_valid = train_test_split(\n",
    "    catboost_train.drop(columns=['def'], axis=1),\n",
    "    catboost_train['def'],\n",
    "    test_size=0.2,\n",
    "    random_state=18,\n",
    "    stratify=catboost_train['def']\n",
    ")\n",
    "\n",
    "logreg_train_small = logreg_train.loc[catboost_train_small.index].drop(columns=['def'], axis=1).copy()\n",
    "logreg_valid = logreg_train.loc[catboost_valid.index].drop(columns=['def'], axis=1).copy()\n",
    "logreg_y_train = logreg_train.loc[catboost_train_small.index]['def']\n",
    "logreg_y_valid = logreg_train.loc[catboost_valid.index]['def']\n",
    "\n",
    "lgbm_train_small = lgbm_train.loc[catboost_train_small.index].drop(columns=['def'], axis=1).copy()\n",
    "lgbm_valid = lgbm_train.loc[catboost_valid.index].drop(columns=['def'], axis=1).copy()\n",
    "lgbm_y_train = lgbm_train.loc[catboost_train_small.index]['def']\n",
    "lgbm_y_valid = lgbm_train.loc[catboost_valid.index]['def']\n",
    "\n",
    "xgb_train_small = lgbm_train.loc[catboost_train_small.index].drop(columns=['def'], axis=1).copy()\n",
    "xgb_valid = lgbm_train.loc[catboost_valid.index].drop(columns=['def'], axis=1).copy()\n",
    "xgb_y_train = lgbm_train.loc[catboost_train_small.index]['def']\n",
    "xgb_y_valid = lgbm_train.loc[catboost_valid.index]['def']\n",
    "\n",
    "knn_train_small = logreg_train.loc[catboost_train_small.index].drop(columns=['def'], axis=1).copy()\n",
    "knn_valid = logreg_train.loc[catboost_valid.index].drop(columns=['def'], axis=1).copy()\n",
    "knn_y_train = logreg_train.loc[catboost_train_small.index]['def']\n",
    "knn_y_valid = logreg_train.loc[catboost_valid.index]['def']"
   ]
  },
  {
   "cell_type": "code",
   "execution_count": 120,
   "metadata": {},
   "outputs": [
    {
     "name": "stdout",
     "output_type": "stream",
     "text": [
      "0:\ttest: 0.6377540\tbest: 0.6377540 (0)\ttotal: 15.6ms\tremaining: 15.6s\n",
      "50:\ttest: 0.6841575\tbest: 0.6841575 (50)\ttotal: 982ms\tremaining: 18.3s\n",
      "100:\ttest: 0.6856700\tbest: 0.6859183 (97)\ttotal: 2.04s\tremaining: 18.1s\n",
      "150:\ttest: 0.6854248\tbest: 0.6859183 (97)\ttotal: 3.07s\tremaining: 17.3s\n",
      "200:\ttest: 0.6849595\tbest: 0.6859183 (97)\ttotal: 4.08s\tremaining: 16.2s\n",
      "Stopped by overfitting detector  (150 iterations wait)\n",
      "\n",
      "bestTest = 0.6859182934\n",
      "bestIteration = 97\n",
      "\n",
      "Shrink model to first 98 iterations.\n",
      "0:\ttest: 0.6201116\tbest: 0.6201116 (0)\ttotal: 17.6ms\tremaining: 17.6s\n",
      "50:\ttest: 0.6738377\tbest: 0.6738811 (48)\ttotal: 920ms\tremaining: 17.1s\n",
      "100:\ttest: 0.6739774\tbest: 0.6741445 (76)\ttotal: 2.23s\tremaining: 19.9s\n",
      "150:\ttest: 0.6741315\tbest: 0.6742907 (147)\ttotal: 5.02s\tremaining: 28.2s\n",
      "200:\ttest: 0.6737038\tbest: 0.6744087 (179)\ttotal: 8.14s\tremaining: 32.3s\n",
      "250:\ttest: 0.6730407\tbest: 0.6744087 (179)\ttotal: 11.3s\tremaining: 33.8s\n",
      "300:\ttest: 0.6728879\tbest: 0.6744087 (179)\ttotal: 14.3s\tremaining: 33.3s\n",
      "Stopped by overfitting detector  (150 iterations wait)\n",
      "\n",
      "bestTest = 0.674408673\n",
      "bestIteration = 179\n",
      "\n",
      "Shrink model to first 180 iterations.\n",
      "0:\ttest: 0.6218814\tbest: 0.6218814 (0)\ttotal: 39.8ms\tremaining: 39.7s\n",
      "50:\ttest: 0.6778753\tbest: 0.6781755 (46)\ttotal: 2.99s\tremaining: 55.7s\n",
      "100:\ttest: 0.6812475\tbest: 0.6812478 (99)\ttotal: 5.67s\tremaining: 50.5s\n",
      "150:\ttest: 0.6816337\tbest: 0.6819656 (129)\ttotal: 8.82s\tremaining: 49.6s\n",
      "200:\ttest: 0.6823810\tbest: 0.6823984 (199)\ttotal: 12s\tremaining: 47.5s\n",
      "250:\ttest: 0.6824573\tbest: 0.6825756 (238)\ttotal: 15.2s\tremaining: 45.3s\n",
      "300:\ttest: 0.6820559\tbest: 0.6825756 (238)\ttotal: 18.1s\tremaining: 42s\n",
      "350:\ttest: 0.6823090\tbest: 0.6825756 (238)\ttotal: 21.6s\tremaining: 39.9s\n",
      "Stopped by overfitting detector  (150 iterations wait)\n",
      "\n",
      "bestTest = 0.6825755978\n",
      "bestIteration = 238\n",
      "\n",
      "Shrink model to first 239 iterations.\n",
      "0:\ttest: 0.6248457\tbest: 0.6248457 (0)\ttotal: 69.6ms\tremaining: 1m 9s\n",
      "50:\ttest: 0.6785735\tbest: 0.6786125 (49)\ttotal: 2.96s\tremaining: 55.1s\n",
      "100:\ttest: 0.6810156\tbest: 0.6810156 (99)\ttotal: 5.97s\tremaining: 53.2s\n",
      "150:\ttest: 0.6827150\tbest: 0.6827150 (150)\ttotal: 9.25s\tremaining: 52s\n",
      "200:\ttest: 0.6839966\tbest: 0.6839966 (200)\ttotal: 12s\tremaining: 47.6s\n",
      "250:\ttest: 0.6846540\tbest: 0.6847959 (247)\ttotal: 15.4s\tremaining: 45.8s\n",
      "300:\ttest: 0.6844441\tbest: 0.6852724 (262)\ttotal: 18.4s\tremaining: 42.6s\n",
      "350:\ttest: 0.6842796\tbest: 0.6852724 (262)\ttotal: 21.5s\tremaining: 39.8s\n",
      "400:\ttest: 0.6840855\tbest: 0.6852724 (262)\ttotal: 24.7s\tremaining: 36.9s\n",
      "Stopped by overfitting detector  (150 iterations wait)\n",
      "\n",
      "bestTest = 0.6852723719\n",
      "bestIteration = 262\n",
      "\n",
      "Shrink model to first 263 iterations.\n",
      "0:\ttest: 0.6272891\tbest: 0.6272891 (0)\ttotal: 35.7ms\tremaining: 35.7s\n",
      "50:\ttest: 0.6968972\tbest: 0.6968972 (50)\ttotal: 3.02s\tremaining: 56.3s\n",
      "100:\ttest: 0.7002344\tbest: 0.7002344 (100)\ttotal: 6.06s\tremaining: 54s\n",
      "150:\ttest: 0.7013687\tbest: 0.7014015 (148)\ttotal: 8.96s\tremaining: 50.4s\n",
      "200:\ttest: 0.7001367\tbest: 0.7014379 (153)\ttotal: 12.1s\tremaining: 48.1s\n",
      "250:\ttest: 0.6983713\tbest: 0.7014379 (153)\ttotal: 15.2s\tremaining: 45.3s\n",
      "300:\ttest: 0.6967034\tbest: 0.7014379 (153)\ttotal: 18.5s\tremaining: 43.1s\n",
      "Stopped by overfitting detector  (150 iterations wait)\n",
      "\n",
      "bestTest = 0.7014379214\n",
      "bestIteration = 153\n",
      "\n",
      "Shrink model to first 154 iterations.\n"
     ]
    },
    {
     "name": "stderr",
     "output_type": "stream",
     "text": [
      "d:\\kaggle\\sber_plus_nsu\\.venv\\lib\\site-packages\\lightgbm\\basic.py:1551: UserWarning: Using categorical_feature in Dataset.\n",
      "  warnings.warn('Using categorical_feature in Dataset.')\n",
      "d:\\kaggle\\sber_plus_nsu\\.venv\\lib\\site-packages\\lightgbm\\basic.py:1555: UserWarning: categorical_feature in Dataset is overridden.\n",
      "New categorical_feature is ['home_ownership', 'purpose']\n",
      "  'New categorical_feature is {}'.format(sorted(list(categorical_feature))))\n",
      "d:\\kaggle\\sber_plus_nsu\\.venv\\lib\\site-packages\\lightgbm\\basic.py:1286: UserWarning: Overriding the parameters from Reference Dataset.\n",
      "  warnings.warn('Overriding the parameters from Reference Dataset.')\n",
      "d:\\kaggle\\sber_plus_nsu\\.venv\\lib\\site-packages\\lightgbm\\basic.py:1098: UserWarning: categorical_column in param dict is overridden.\n",
      "  warnings.warn('{} in param dict is overridden.'.format(cat_alias))\n"
     ]
    },
    {
     "name": "stdout",
     "output_type": "stream",
     "text": [
      "[LightGBM] [Warning] lambda_l2 is set=0.01, reg_lambda=0.0 will be ignored. Current value: lambda_l2=0.01\n",
      "Training until validation scores don't improve for 50 rounds\n",
      "[100]\tvalid_0's auc: 0.688404\tvalid_0's binary_logloss: 0.413602\n",
      "[200]\tvalid_0's auc: 0.691765\tvalid_0's binary_logloss: 0.411208\n",
      "[300]\tvalid_0's auc: 0.693245\tvalid_0's binary_logloss: 0.410451\n",
      "[400]\tvalid_0's auc: 0.69427\tvalid_0's binary_logloss: 0.410068\n",
      "Early stopping, best iteration is:\n",
      "[390]\tvalid_0's auc: 0.69437\tvalid_0's binary_logloss: 0.41004\n"
     ]
    },
    {
     "name": "stderr",
     "output_type": "stream",
     "text": [
      "d:\\kaggle\\sber_plus_nsu\\.venv\\lib\\site-packages\\lightgbm\\basic.py:1551: UserWarning: Using categorical_feature in Dataset.\n",
      "  warnings.warn('Using categorical_feature in Dataset.')\n",
      "d:\\kaggle\\sber_plus_nsu\\.venv\\lib\\site-packages\\lightgbm\\basic.py:1555: UserWarning: categorical_feature in Dataset is overridden.\n",
      "New categorical_feature is ['home_ownership', 'purpose']\n",
      "  'New categorical_feature is {}'.format(sorted(list(categorical_feature))))\n",
      "d:\\kaggle\\sber_plus_nsu\\.venv\\lib\\site-packages\\lightgbm\\basic.py:1286: UserWarning: Overriding the parameters from Reference Dataset.\n",
      "  warnings.warn('Overriding the parameters from Reference Dataset.')\n",
      "d:\\kaggle\\sber_plus_nsu\\.venv\\lib\\site-packages\\lightgbm\\basic.py:1098: UserWarning: categorical_column in param dict is overridden.\n",
      "  warnings.warn('{} in param dict is overridden.'.format(cat_alias))\n"
     ]
    },
    {
     "name": "stdout",
     "output_type": "stream",
     "text": [
      "[LightGBM] [Warning] lambda_l2 is set=0.01, reg_lambda=0.0 will be ignored. Current value: lambda_l2=0.01\n",
      "Training until validation scores don't improve for 50 rounds\n",
      "[100]\tvalid_0's auc: 0.697626\tvalid_0's binary_logloss: 0.411719\n",
      "[200]\tvalid_0's auc: 0.702557\tvalid_0's binary_logloss: 0.40832\n",
      "[300]\tvalid_0's auc: 0.703573\tvalid_0's binary_logloss: 0.407186\n",
      "[400]\tvalid_0's auc: 0.704416\tvalid_0's binary_logloss: 0.40653\n",
      "[500]\tvalid_0's auc: 0.704719\tvalid_0's binary_logloss: 0.406245\n",
      "Early stopping, best iteration is:\n",
      "[464]\tvalid_0's auc: 0.704745\tvalid_0's binary_logloss: 0.406303\n"
     ]
    },
    {
     "name": "stderr",
     "output_type": "stream",
     "text": [
      "d:\\kaggle\\sber_plus_nsu\\.venv\\lib\\site-packages\\lightgbm\\basic.py:1551: UserWarning: Using categorical_feature in Dataset.\n",
      "  warnings.warn('Using categorical_feature in Dataset.')\n",
      "d:\\kaggle\\sber_plus_nsu\\.venv\\lib\\site-packages\\lightgbm\\basic.py:1555: UserWarning: categorical_feature in Dataset is overridden.\n",
      "New categorical_feature is ['home_ownership', 'purpose']\n",
      "  'New categorical_feature is {}'.format(sorted(list(categorical_feature))))\n",
      "d:\\kaggle\\sber_plus_nsu\\.venv\\lib\\site-packages\\lightgbm\\basic.py:1286: UserWarning: Overriding the parameters from Reference Dataset.\n",
      "  warnings.warn('Overriding the parameters from Reference Dataset.')\n",
      "d:\\kaggle\\sber_plus_nsu\\.venv\\lib\\site-packages\\lightgbm\\basic.py:1098: UserWarning: categorical_column in param dict is overridden.\n",
      "  warnings.warn('{} in param dict is overridden.'.format(cat_alias))\n"
     ]
    },
    {
     "name": "stdout",
     "output_type": "stream",
     "text": [
      "[LightGBM] [Warning] lambda_l2 is set=0.01, reg_lambda=0.0 will be ignored. Current value: lambda_l2=0.01\n",
      "Training until validation scores don't improve for 50 rounds\n",
      "[100]\tvalid_0's auc: 0.677319\tvalid_0's binary_logloss: 0.415939\n",
      "[200]\tvalid_0's auc: 0.681535\tvalid_0's binary_logloss: 0.413448\n",
      "[300]\tvalid_0's auc: 0.684394\tvalid_0's binary_logloss: 0.412425\n",
      "[400]\tvalid_0's auc: 0.685134\tvalid_0's binary_logloss: 0.412154\n",
      "[500]\tvalid_0's auc: 0.68564\tvalid_0's binary_logloss: 0.412011\n",
      "Early stopping, best iteration is:\n",
      "[531]\tvalid_0's auc: 0.685763\tvalid_0's binary_logloss: 0.411991\n"
     ]
    },
    {
     "name": "stderr",
     "output_type": "stream",
     "text": [
      "d:\\kaggle\\sber_plus_nsu\\.venv\\lib\\site-packages\\lightgbm\\basic.py:1551: UserWarning: Using categorical_feature in Dataset.\n",
      "  warnings.warn('Using categorical_feature in Dataset.')\n",
      "d:\\kaggle\\sber_plus_nsu\\.venv\\lib\\site-packages\\lightgbm\\basic.py:1555: UserWarning: categorical_feature in Dataset is overridden.\n",
      "New categorical_feature is ['home_ownership', 'purpose']\n",
      "  'New categorical_feature is {}'.format(sorted(list(categorical_feature))))\n",
      "d:\\kaggle\\sber_plus_nsu\\.venv\\lib\\site-packages\\lightgbm\\basic.py:1286: UserWarning: Overriding the parameters from Reference Dataset.\n",
      "  warnings.warn('Overriding the parameters from Reference Dataset.')\n",
      "d:\\kaggle\\sber_plus_nsu\\.venv\\lib\\site-packages\\lightgbm\\basic.py:1098: UserWarning: categorical_column in param dict is overridden.\n",
      "  warnings.warn('{} in param dict is overridden.'.format(cat_alias))\n"
     ]
    },
    {
     "name": "stdout",
     "output_type": "stream",
     "text": [
      "[LightGBM] [Warning] lambda_l2 is set=0.01, reg_lambda=0.0 will be ignored. Current value: lambda_l2=0.01\n",
      "Training until validation scores don't improve for 50 rounds\n",
      "[100]\tvalid_0's auc: 0.667136\tvalid_0's binary_logloss: 0.417184\n",
      "[200]\tvalid_0's auc: 0.672391\tvalid_0's binary_logloss: 0.41463\n",
      "[300]\tvalid_0's auc: 0.675438\tvalid_0's binary_logloss: 0.413633\n",
      "[400]\tvalid_0's auc: 0.677164\tvalid_0's binary_logloss: 0.413103\n",
      "[500]\tvalid_0's auc: 0.678098\tvalid_0's binary_logloss: 0.412779\n",
      "[600]\tvalid_0's auc: 0.678805\tvalid_0's binary_logloss: 0.41259\n",
      "[700]\tvalid_0's auc: 0.679152\tvalid_0's binary_logloss: 0.412478\n",
      "[800]\tvalid_0's auc: 0.679329\tvalid_0's binary_logloss: 0.412443\n",
      "[900]\tvalid_0's auc: 0.679414\tvalid_0's binary_logloss: 0.412402\n",
      "Early stopping, best iteration is:\n",
      "[872]\tvalid_0's auc: 0.679465\tvalid_0's binary_logloss: 0.412389\n"
     ]
    },
    {
     "name": "stderr",
     "output_type": "stream",
     "text": [
      "d:\\kaggle\\sber_plus_nsu\\.venv\\lib\\site-packages\\lightgbm\\basic.py:1551: UserWarning: Using categorical_feature in Dataset.\n",
      "  warnings.warn('Using categorical_feature in Dataset.')\n",
      "d:\\kaggle\\sber_plus_nsu\\.venv\\lib\\site-packages\\lightgbm\\basic.py:1555: UserWarning: categorical_feature in Dataset is overridden.\n",
      "New categorical_feature is ['home_ownership', 'purpose']\n",
      "  'New categorical_feature is {}'.format(sorted(list(categorical_feature))))\n",
      "d:\\kaggle\\sber_plus_nsu\\.venv\\lib\\site-packages\\lightgbm\\basic.py:1286: UserWarning: Overriding the parameters from Reference Dataset.\n",
      "  warnings.warn('Overriding the parameters from Reference Dataset.')\n",
      "d:\\kaggle\\sber_plus_nsu\\.venv\\lib\\site-packages\\lightgbm\\basic.py:1098: UserWarning: categorical_column in param dict is overridden.\n",
      "  warnings.warn('{} in param dict is overridden.'.format(cat_alias))\n"
     ]
    },
    {
     "name": "stdout",
     "output_type": "stream",
     "text": [
      "[LightGBM] [Warning] lambda_l2 is set=0.01, reg_lambda=0.0 will be ignored. Current value: lambda_l2=0.01\n",
      "Training until validation scores don't improve for 50 rounds\n",
      "[100]\tvalid_0's auc: 0.658521\tvalid_0's binary_logloss: 0.41919\n",
      "[200]\tvalid_0's auc: 0.663803\tvalid_0's binary_logloss: 0.417045\n",
      "[300]\tvalid_0's auc: 0.666114\tvalid_0's binary_logloss: 0.416394\n",
      "[400]\tvalid_0's auc: 0.667387\tvalid_0's binary_logloss: 0.416191\n",
      "[500]\tvalid_0's auc: 0.667998\tvalid_0's binary_logloss: 0.416166\n",
      "Early stopping, best iteration is:\n",
      "[460]\tvalid_0's auc: 0.667912\tvalid_0's binary_logloss: 0.416133\n",
      "[0]\tvalidation_0-auc:0.62668\n",
      "Will train until validation_0-auc hasn't improved in 150 rounds.\n",
      "[100]\tvalidation_0-auc:0.69255\n",
      "[200]\tvalidation_0-auc:0.69516\n",
      "[300]\tvalidation_0-auc:0.69605\n",
      "[400]\tvalidation_0-auc:0.69668\n",
      "[500]\tvalidation_0-auc:0.69673\n",
      "[600]\tvalidation_0-auc:0.69659\n",
      "Stopping. Best iteration:\n",
      "[510]\tvalidation_0-auc:0.69681\n",
      "\n",
      "[0]\tvalidation_0-auc:0.63619\n",
      "Will train until validation_0-auc hasn't improved in 150 rounds.\n",
      "[100]\tvalidation_0-auc:0.70390\n",
      "[200]\tvalidation_0-auc:0.70773\n",
      "[300]\tvalidation_0-auc:0.70857\n",
      "[400]\tvalidation_0-auc:0.70884\n",
      "[500]\tvalidation_0-auc:0.70904\n",
      "[600]\tvalidation_0-auc:0.70939\n",
      "[700]\tvalidation_0-auc:0.70958\n",
      "[800]\tvalidation_0-auc:0.70959\n",
      "Stopping. Best iteration:\n",
      "[736]\tvalidation_0-auc:0.70965\n",
      "\n",
      "[0]\tvalidation_0-auc:0.61521\n",
      "Will train until validation_0-auc hasn't improved in 150 rounds.\n",
      "[100]\tvalidation_0-auc:0.68050\n",
      "[200]\tvalidation_0-auc:0.68381\n",
      "[300]\tvalidation_0-auc:0.68564\n",
      "[400]\tvalidation_0-auc:0.68646\n",
      "[500]\tvalidation_0-auc:0.68696\n",
      "[600]\tvalidation_0-auc:0.68704\n",
      "Stopping. Best iteration:\n",
      "[545]\tvalidation_0-auc:0.68715\n",
      "\n",
      "[0]\tvalidation_0-auc:0.61155\n",
      "Will train until validation_0-auc hasn't improved in 150 rounds.\n",
      "[100]\tvalidation_0-auc:0.66995\n",
      "[200]\tvalidation_0-auc:0.67395\n",
      "[300]\tvalidation_0-auc:0.67656\n",
      "[400]\tvalidation_0-auc:0.67761\n",
      "[500]\tvalidation_0-auc:0.67832\n",
      "[600]\tvalidation_0-auc:0.67841\n",
      "[700]\tvalidation_0-auc:0.67853\n",
      "[800]\tvalidation_0-auc:0.67834\n",
      "Stopping. Best iteration:\n",
      "[693]\tvalidation_0-auc:0.67856\n",
      "\n",
      "[0]\tvalidation_0-auc:0.59459\n",
      "Will train until validation_0-auc hasn't improved in 150 rounds.\n",
      "[100]\tvalidation_0-auc:0.66707\n",
      "[200]\tvalidation_0-auc:0.66964\n",
      "[300]\tvalidation_0-auc:0.67077\n",
      "[400]\tvalidation_0-auc:0.67164\n",
      "[500]\tvalidation_0-auc:0.67208\n",
      "[600]\tvalidation_0-auc:0.67208\n",
      "[700]\tvalidation_0-auc:0.67197\n",
      "Stopping. Best iteration:\n",
      "[580]\tvalidation_0-auc:0.67227\n",
      "\n"
     ]
    }
   ],
   "source": [
    "skf = StratifiedKFold(n_splits=5, random_state=18, shuffle=True)\n",
    "cb_scores, cb_result, cb_oof_result = do_cv(\n",
    "    catboost_train_small,\n",
    "    catboost_valid,\n",
    "    catboost_y_train,\n",
    "    catboost_columns,\n",
    "    catboost_cat_features,\n",
    "    catboost_params,\n",
    "    skf,\n",
    "    'catboost'\n",
    ")\n",
    "\n",
    "lr_scores, lr_result, lr_oof_result = do_cv(\n",
    "    logreg_train_small,\n",
    "    logreg_valid,\n",
    "    logreg_y_train,\n",
    "    lr_cols,\n",
    "    [],\n",
    "    lr_params,\n",
    "    skf,\n",
    "    'logreg',\n",
    ")\n",
    "\n",
    "skf = StratifiedKFold(n_splits=5, random_state=21, shuffle=True)\n",
    "lgbm_scores, lgbm_result, lgbm_oof_result = do_cv(\n",
    "    lgbm_train_small,\n",
    "    lgbm_valid,\n",
    "    lgbm_y_train,\n",
    "    lgbm_columns,\n",
    "    lgbm_cat_features,\n",
    "    lgbm_params,\n",
    "    skf,\n",
    "    'lgbm'\n",
    ")\n",
    "\n",
    "knn_scores, knn_result, knn_oof_result = do_cv(\n",
    "    knn_train_small,\n",
    "    knn_valid,\n",
    "    knn_y_train,\n",
    "    knn_columns,\n",
    "    [],\n",
    "    knn_params,\n",
    "    skf,\n",
    "    'knn'\n",
    ")\n",
    "\n",
    "xgb_scores, xgb_result, xgb_oof_result = do_cv(\n",
    "    xgb_train_small,\n",
    "    xgb_valid,\n",
    "    xgb_y_train,\n",
    "    xgb_columns,\n",
    "    [],\n",
    "    xgb_params,\n",
    "    skf,\n",
    "    'xgboost'\n",
    ")"
   ]
  },
  {
   "cell_type": "code",
   "execution_count": 112,
   "metadata": {},
   "outputs": [],
   "source": [
    "new_train_df = pd.DataFrame({\n",
    "    'lr':lr_oof_result,\n",
    "    'cb':cb_oof_result,\n",
    "    'lgbm': lgbm_oof_result,\n",
    "#     'knn': knn_oof_result,\n",
    "    'xgb': xgb_oof_result,\n",
    "})\n",
    "new_test_df = pd.DataFrame({\n",
    "    'lr':lr_result,\n",
    "    'cb':cb_result,\n",
    "    'lgbm': lgbm_result,\n",
    "#     'knn': knn_result,\n",
    "    'xgb': xgb_result,\n",
    "})"
   ]
  },
  {
   "cell_type": "code",
   "execution_count": 35,
   "metadata": {},
   "outputs": [
    {
     "data": {
      "text/plain": [
       "0.685284622914188"
      ]
     },
     "execution_count": 35,
     "metadata": {},
     "output_type": "execute_result"
    }
   ],
   "source": [
    "roc_auc_score(catboost_y_valid, new_test_df.mean(axis=1))"
   ]
  },
  {
   "cell_type": "code",
   "execution_count": 113,
   "metadata": {},
   "outputs": [
    {
     "data": {
      "text/plain": [
       "0.6854347865492934"
      ]
     },
     "execution_count": 113,
     "metadata": {},
     "output_type": "execute_result"
    }
   ],
   "source": [
    "roc_auc_score(catboost_y_valid, new_test_df.mean(axis=1))"
   ]
  },
  {
   "cell_type": "code",
   "execution_count": 37,
   "metadata": {},
   "outputs": [
    {
     "data": {
      "text/plain": [
       "0.6847833209510557"
      ]
     },
     "execution_count": 37,
     "metadata": {},
     "output_type": "execute_result"
    }
   ],
   "source": [
    "roc_auc_score(catboost_y_train, new_train_df.mean(axis=1))"
   ]
  },
  {
   "cell_type": "code",
   "execution_count": 108,
   "metadata": {},
   "outputs": [
    {
     "data": {
      "text/plain": [
       "0.6891640245907762"
      ]
     },
     "execution_count": 108,
     "metadata": {},
     "output_type": "execute_result"
    }
   ],
   "source": [
    "roc_auc_score(catboost_y_train, new_train_df.mean(axis=1))"
   ]
  },
  {
   "cell_type": "code",
   "execution_count": 114,
   "metadata": {},
   "outputs": [
    {
     "data": {
      "text/plain": [
       "LogisticRegression(C=1, solver='liblinear')"
      ]
     },
     "execution_count": 114,
     "metadata": {},
     "output_type": "execute_result"
    }
   ],
   "source": [
    "metamodel = LogisticRegression(C=1, solver='liblinear')\n",
    "metamodel.fit(new_train_df, logreg_y_train)"
   ]
  },
  {
   "cell_type": "code",
   "execution_count": 40,
   "metadata": {},
   "outputs": [
    {
     "data": {
      "text/plain": [
       "0.685284622914188"
      ]
     },
     "execution_count": 40,
     "metadata": {},
     "output_type": "execute_result"
    }
   ],
   "source": [
    "roc_auc_score(logreg_y_valid, metamodel.predict_proba(new_test_df)[:, 1])"
   ]
  },
  {
   "cell_type": "code",
   "execution_count": 40,
   "metadata": {},
   "outputs": [
    {
     "data": {
      "text/plain": [
       "0.685284622914188"
      ]
     },
     "execution_count": 40,
     "metadata": {},
     "output_type": "execute_result"
    }
   ],
   "source": [
    "roc_auc_score(logreg_y_valid, metamodel.predict_proba(new_test_df)[:, 1])"
   ]
  },
  {
   "cell_type": "code",
   "execution_count": 115,
   "metadata": {},
   "outputs": [
    {
     "data": {
      "text/plain": [
       "0.6855480787294138"
      ]
     },
     "execution_count": 115,
     "metadata": {},
     "output_type": "execute_result"
    }
   ],
   "source": [
    "roc_auc_score(logreg_y_valid, metamodel.predict_proba(new_test_df)[:, 1])"
   ]
  },
  {
   "cell_type": "code",
   "execution_count": 42,
   "metadata": {},
   "outputs": [
    {
     "data": {
      "text/plain": [
       "0.6847833209510557"
      ]
     },
     "execution_count": 42,
     "metadata": {},
     "output_type": "execute_result"
    }
   ],
   "source": [
    "roc_auc_score(logreg_y_train, metamodel.predict_proba(new_train_df)[:, 1])"
   ]
  },
  {
   "cell_type": "code",
   "execution_count": 101,
   "metadata": {},
   "outputs": [
    {
     "data": {
      "text/plain": [
       "0.6891536395377167"
      ]
     },
     "execution_count": 101,
     "metadata": {},
     "output_type": "execute_result"
    }
   ],
   "source": [
    "roc_auc_score(logreg_y_train, metamodel.predict_proba(new_train_df)[:, 1])"
   ]
  },
  {
   "cell_type": "code",
   "execution_count": 111,
   "metadata": {},
   "outputs": [
    {
     "data": {
      "text/plain": [
       "array([[0.80178449, 1.9115568 , 1.30146043, 2.84612896]])"
      ]
     },
     "execution_count": 111,
     "metadata": {},
     "output_type": "execute_result"
    }
   ],
   "source": [
    "metamodel.coef_"
   ]
  },
  {
   "cell_type": "code",
   "execution_count": 103,
   "metadata": {},
   "outputs": [
    {
     "data": {
      "text/html": [
       "<div>\n",
       "<style scoped>\n",
       "    .dataframe tbody tr th:only-of-type {\n",
       "        vertical-align: middle;\n",
       "    }\n",
       "\n",
       "    .dataframe tbody tr th {\n",
       "        vertical-align: top;\n",
       "    }\n",
       "\n",
       "    .dataframe thead th {\n",
       "        text-align: right;\n",
       "    }\n",
       "</style>\n",
       "<table border=\"1\" class=\"dataframe\">\n",
       "  <thead>\n",
       "    <tr style=\"text-align: right;\">\n",
       "      <th></th>\n",
       "      <th>lr</th>\n",
       "      <th>cb</th>\n",
       "      <th>lgbm</th>\n",
       "      <th>knn</th>\n",
       "      <th>xgb</th>\n",
       "    </tr>\n",
       "  </thead>\n",
       "  <tbody>\n",
       "    <tr>\n",
       "      <th>14109</th>\n",
       "      <td>0.133083</td>\n",
       "      <td>0.138812</td>\n",
       "      <td>0.124940</td>\n",
       "      <td>0.099018</td>\n",
       "      <td>0.114643</td>\n",
       "    </tr>\n",
       "    <tr>\n",
       "      <th>18950</th>\n",
       "      <td>0.126551</td>\n",
       "      <td>0.114928</td>\n",
       "      <td>0.126182</td>\n",
       "      <td>0.131632</td>\n",
       "      <td>0.126996</td>\n",
       "    </tr>\n",
       "    <tr>\n",
       "      <th>3675</th>\n",
       "      <td>0.371916</td>\n",
       "      <td>0.282020</td>\n",
       "      <td>0.340191</td>\n",
       "      <td>0.184269</td>\n",
       "      <td>0.234288</td>\n",
       "    </tr>\n",
       "    <tr>\n",
       "      <th>16429</th>\n",
       "      <td>0.272874</td>\n",
       "      <td>0.275728</td>\n",
       "      <td>0.255059</td>\n",
       "      <td>0.258872</td>\n",
       "      <td>0.240526</td>\n",
       "    </tr>\n",
       "    <tr>\n",
       "      <th>13475</th>\n",
       "      <td>0.363980</td>\n",
       "      <td>0.329877</td>\n",
       "      <td>0.277229</td>\n",
       "      <td>0.338381</td>\n",
       "      <td>0.244470</td>\n",
       "    </tr>\n",
       "    <tr>\n",
       "      <th>...</th>\n",
       "      <td>...</td>\n",
       "      <td>...</td>\n",
       "      <td>...</td>\n",
       "      <td>...</td>\n",
       "      <td>...</td>\n",
       "    </tr>\n",
       "    <tr>\n",
       "      <th>28334</th>\n",
       "      <td>0.066210</td>\n",
       "      <td>0.047371</td>\n",
       "      <td>0.050185</td>\n",
       "      <td>0.049420</td>\n",
       "      <td>0.052842</td>\n",
       "    </tr>\n",
       "    <tr>\n",
       "      <th>5861</th>\n",
       "      <td>0.060163</td>\n",
       "      <td>0.071585</td>\n",
       "      <td>0.088737</td>\n",
       "      <td>0.075305</td>\n",
       "      <td>0.074193</td>\n",
       "    </tr>\n",
       "    <tr>\n",
       "      <th>26451</th>\n",
       "      <td>0.173425</td>\n",
       "      <td>0.156740</td>\n",
       "      <td>0.154682</td>\n",
       "      <td>0.246882</td>\n",
       "      <td>0.231377</td>\n",
       "    </tr>\n",
       "    <tr>\n",
       "      <th>2572</th>\n",
       "      <td>0.164120</td>\n",
       "      <td>0.164634</td>\n",
       "      <td>0.172908</td>\n",
       "      <td>0.172081</td>\n",
       "      <td>0.170319</td>\n",
       "    </tr>\n",
       "    <tr>\n",
       "      <th>24625</th>\n",
       "      <td>0.166683</td>\n",
       "      <td>0.189327</td>\n",
       "      <td>0.161192</td>\n",
       "      <td>0.198019</td>\n",
       "      <td>0.169549</td>\n",
       "    </tr>\n",
       "  </tbody>\n",
       "</table>\n",
       "<p>24000 rows × 5 columns</p>\n",
       "</div>"
      ],
      "text/plain": [
       "             lr        cb      lgbm       knn       xgb\n",
       "14109  0.133083  0.138812  0.124940  0.099018  0.114643\n",
       "18950  0.126551  0.114928  0.126182  0.131632  0.126996\n",
       "3675   0.371916  0.282020  0.340191  0.184269  0.234288\n",
       "16429  0.272874  0.275728  0.255059  0.258872  0.240526\n",
       "13475  0.363980  0.329877  0.277229  0.338381  0.244470\n",
       "...         ...       ...       ...       ...       ...\n",
       "28334  0.066210  0.047371  0.050185  0.049420  0.052842\n",
       "5861   0.060163  0.071585  0.088737  0.075305  0.074193\n",
       "26451  0.173425  0.156740  0.154682  0.246882  0.231377\n",
       "2572   0.164120  0.164634  0.172908  0.172081  0.170319\n",
       "24625  0.166683  0.189327  0.161192  0.198019  0.169549\n",
       "\n",
       "[24000 rows x 5 columns]"
      ]
     },
     "execution_count": 103,
     "metadata": {},
     "output_type": "execute_result"
    }
   ],
   "source": [
    "new_train_df"
   ]
  },
  {
   "cell_type": "code",
   "execution_count": 104,
   "metadata": {},
   "outputs": [
    {
     "name": "stdout",
     "output_type": "stream",
     "text": [
      "lr 0.6857654998911564 0.6818362149371002\n",
      "cb 0.685423932021476 0.6832470115582743\n",
      "lgbm 0.6860472346701304 0.6839088438759603\n",
      "knn 0.6670077776969623 0.667772329682716\n",
      "xgb 0.6885567370580233 0.685031466388064\n"
     ]
    }
   ],
   "source": [
    "for col in new_train_df:\n",
    "    print(col, roc_auc_score(logreg_y_train, new_train_df[col]),  roc_auc_score(logreg_y_valid, new_test_df[col]))"
   ]
  },
  {
   "cell_type": "code",
   "execution_count": 105,
   "metadata": {},
   "outputs": [
    {
     "data": {
      "image/png": "[encoded data removed]",
      "text/plain": [
       "<Figure size 432x288 with 1 Axes>"
      ]
     },
     "metadata": {
      "needs_background": "light"
     },
     "output_type": "display_data"
    }
   ],
   "source": [
    "new_train_df['lr'].hist(alpha=0.5, bins=30, density='uniform', label='lr')\n",
    "new_train_df['cb'].hist(alpha=0.5, bins=30, density='uniform', label='cb')\n",
    "new_train_df['lgbm'].hist(alpha=0.5, bins=30, density='uniform', label='lgbm')\n",
    "new_train_df['knn'].hist(alpha=0.5, bins=30, density='uniform', label='knn')\n",
    "new_train_df['xgb'].hist(alpha=0.5, bins=30, density='uniform', label='xgb')\n",
    "plt.legend()\n",
    "plt.show()\n"
   ]
  },
  {
   "cell_type": "code",
   "execution_count": null,
   "metadata": {},
   "outputs": [],
   "source": [
    "catboost_test"
   ]
  },
  {
   "cell_type": "code",
   "execution_count": 124,
   "metadata": {},
   "outputs": [
    {
     "name": "stdout",
     "output_type": "stream",
     "text": [
      "0:\ttest: 0.5957648\tbest: 0.5957648 (0)\ttotal: 47.4ms\tremaining: 47.3s\n",
      "50:\ttest: 0.6797898\tbest: 0.6798746 (48)\ttotal: 1.38s\tremaining: 25.8s\n",
      "100:\ttest: 0.6810752\tbest: 0.6812684 (97)\ttotal: 2.48s\tremaining: 22.1s\n",
      "150:\ttest: 0.6820397\tbest: 0.6821300 (139)\ttotal: 3.56s\tremaining: 20s\n",
      "200:\ttest: 0.6822375\tbest: 0.6823633 (191)\ttotal: 4.74s\tremaining: 18.8s\n",
      "250:\ttest: 0.6825189\tbest: 0.6827930 (233)\ttotal: 7.92s\tremaining: 23.6s\n",
      "300:\ttest: 0.6827897\tbest: 0.6828472 (295)\ttotal: 11.6s\tremaining: 26.9s\n",
      "350:\ttest: 0.6827372\tbest: 0.6830738 (314)\ttotal: 15.1s\tremaining: 27.9s\n",
      "400:\ttest: 0.6821118\tbest: 0.6830738 (314)\ttotal: 18.4s\tremaining: 27.5s\n",
      "450:\ttest: 0.6816920\tbest: 0.6830738 (314)\ttotal: 22.2s\tremaining: 27s\n",
      "Stopped by overfitting detector  (150 iterations wait)\n",
      "\n",
      "bestTest = 0.6830737775\n",
      "bestIteration = 314\n",
      "\n",
      "Shrink model to first 315 iterations.\n",
      "0:\ttest: 0.6078289\tbest: 0.6078289 (0)\ttotal: 76ms\tremaining: 1m 15s\n",
      "50:\ttest: 0.6786438\tbest: 0.6786902 (49)\ttotal: 3.19s\tremaining: 59.4s\n",
      "100:\ttest: 0.6793029\tbest: 0.6794273 (93)\ttotal: 6.15s\tremaining: 54.8s\n",
      "150:\ttest: 0.6796400\tbest: 0.6796833 (149)\ttotal: 9.23s\tremaining: 51.9s\n",
      "200:\ttest: 0.6787104\tbest: 0.6796833 (149)\ttotal: 12.4s\tremaining: 49.2s\n",
      "250:\ttest: 0.6780179\tbest: 0.6796833 (149)\ttotal: 15.6s\tremaining: 46.6s\n",
      "Stopped by overfitting detector  (150 iterations wait)\n",
      "\n",
      "bestTest = 0.6796832515\n",
      "bestIteration = 149\n",
      "\n",
      "Shrink model to first 150 iterations.\n",
      "0:\ttest: 0.5997499\tbest: 0.5997499 (0)\ttotal: 66.9ms\tremaining: 1m 6s\n",
      "50:\ttest: 0.6848342\tbest: 0.6848342 (50)\ttotal: 3.06s\tremaining: 57s\n",
      "100:\ttest: 0.6869226\tbest: 0.6869455 (99)\ttotal: 7.59s\tremaining: 1m 7s\n",
      "150:\ttest: 0.6865436\tbest: 0.6869517 (102)\ttotal: 11.2s\tremaining: 1m 2s\n",
      "200:\ttest: 0.6856638\tbest: 0.6869517 (102)\ttotal: 14.8s\tremaining: 58.6s\n",
      "250:\ttest: 0.6853738\tbest: 0.6869517 (102)\ttotal: 17.9s\tremaining: 53.3s\n",
      "Stopped by overfitting detector  (150 iterations wait)\n",
      "\n",
      "bestTest = 0.6869516658\n",
      "bestIteration = 102\n",
      "\n",
      "Shrink model to first 103 iterations.\n",
      "0:\ttest: 0.5845713\tbest: 0.5845713 (0)\ttotal: 82.9ms\tremaining: 1m 22s\n",
      "50:\ttest: 0.6750779\tbest: 0.6751156 (48)\ttotal: 3.4s\tremaining: 1m 3s\n",
      "100:\ttest: 0.6767457\tbest: 0.6768245 (94)\ttotal: 6.84s\tremaining: 1m\n",
      "150:\ttest: 0.6777470\tbest: 0.6777470 (150)\ttotal: 9.66s\tremaining: 54.3s\n",
      "200:\ttest: 0.6768399\tbest: 0.6779236 (161)\ttotal: 12.7s\tremaining: 50.4s\n",
      "250:\ttest: 0.6771814\tbest: 0.6779236 (161)\ttotal: 16.7s\tremaining: 49.9s\n",
      "300:\ttest: 0.6765148\tbest: 0.6779236 (161)\ttotal: 20.2s\tremaining: 46.9s\n",
      "Stopped by overfitting detector  (150 iterations wait)\n",
      "\n",
      "bestTest = 0.6779235507\n",
      "bestIteration = 161\n",
      "\n",
      "Shrink model to first 162 iterations.\n",
      "0:\ttest: 0.6147286\tbest: 0.6147286 (0)\ttotal: 71.2ms\tremaining: 1m 11s\n",
      "50:\ttest: 0.6956087\tbest: 0.6956087 (50)\ttotal: 3.76s\tremaining: 1m 9s\n",
      "100:\ttest: 0.6985487\tbest: 0.6985592 (99)\ttotal: 6.95s\tremaining: 1m 1s\n",
      "150:\ttest: 0.6991717\tbest: 0.6992415 (148)\ttotal: 10.4s\tremaining: 58.6s\n",
      "200:\ttest: 0.6988006\tbest: 0.6993633 (155)\ttotal: 11.5s\tremaining: 45.9s\n",
      "250:\ttest: 0.6986261\tbest: 0.6993633 (155)\ttotal: 12.6s\tremaining: 37.7s\n",
      "300:\ttest: 0.6990632\tbest: 0.6993633 (155)\ttotal: 13.7s\tremaining: 31.9s\n",
      "Stopped by overfitting detector  (150 iterations wait)\n",
      "\n",
      "bestTest = 0.6993633169\n",
      "bestIteration = 155\n",
      "\n",
      "Shrink model to first 156 iterations.\n"
     ]
    },
    {
     "name": "stderr",
     "output_type": "stream",
     "text": [
      "d:\\kaggle\\sber_plus_nsu\\.venv\\lib\\site-packages\\lightgbm\\basic.py:1551: UserWarning: Using categorical_feature in Dataset.\n",
      "  warnings.warn('Using categorical_feature in Dataset.')\n",
      "d:\\kaggle\\sber_plus_nsu\\.venv\\lib\\site-packages\\lightgbm\\basic.py:1555: UserWarning: categorical_feature in Dataset is overridden.\n",
      "New categorical_feature is ['home_ownership', 'purpose']\n",
      "  'New categorical_feature is {}'.format(sorted(list(categorical_feature))))\n",
      "d:\\kaggle\\sber_plus_nsu\\.venv\\lib\\site-packages\\lightgbm\\basic.py:1286: UserWarning: Overriding the parameters from Reference Dataset.\n",
      "  warnings.warn('Overriding the parameters from Reference Dataset.')\n",
      "d:\\kaggle\\sber_plus_nsu\\.venv\\lib\\site-packages\\lightgbm\\basic.py:1098: UserWarning: categorical_column in param dict is overridden.\n",
      "  warnings.warn('{} in param dict is overridden.'.format(cat_alias))\n"
     ]
    },
    {
     "name": "stdout",
     "output_type": "stream",
     "text": [
      "[LightGBM] [Warning] lambda_l2 is set=0.01, reg_lambda=0.0 will be ignored. Current value: lambda_l2=0.01\n",
      "Training until validation scores don't improve for 50 rounds\n",
      "[100]\tvalid_0's auc: 0.679046\tvalid_0's binary_logloss: 0.414826\n",
      "[200]\tvalid_0's auc: 0.685137\tvalid_0's binary_logloss: 0.411815\n",
      "[300]\tvalid_0's auc: 0.687682\tvalid_0's binary_logloss: 0.410779\n",
      "[400]\tvalid_0's auc: 0.688772\tvalid_0's binary_logloss: 0.410315\n",
      "[500]\tvalid_0's auc: 0.689324\tvalid_0's binary_logloss: 0.410116\n",
      "[600]\tvalid_0's auc: 0.689504\tvalid_0's binary_logloss: 0.410033\n",
      "Early stopping, best iteration is:\n",
      "[609]\tvalid_0's auc: 0.689591\tvalid_0's binary_logloss: 0.410005\n"
     ]
    },
    {
     "name": "stderr",
     "output_type": "stream",
     "text": [
      "d:\\kaggle\\sber_plus_nsu\\.venv\\lib\\site-packages\\lightgbm\\basic.py:1551: UserWarning: Using categorical_feature in Dataset.\n",
      "  warnings.warn('Using categorical_feature in Dataset.')\n",
      "d:\\kaggle\\sber_plus_nsu\\.venv\\lib\\site-packages\\lightgbm\\basic.py:1555: UserWarning: categorical_feature in Dataset is overridden.\n",
      "New categorical_feature is ['home_ownership', 'purpose']\n",
      "  'New categorical_feature is {}'.format(sorted(list(categorical_feature))))\n",
      "d:\\kaggle\\sber_plus_nsu\\.venv\\lib\\site-packages\\lightgbm\\basic.py:1286: UserWarning: Overriding the parameters from Reference Dataset.\n",
      "  warnings.warn('Overriding the parameters from Reference Dataset.')\n",
      "d:\\kaggle\\sber_plus_nsu\\.venv\\lib\\site-packages\\lightgbm\\basic.py:1098: UserWarning: categorical_column in param dict is overridden.\n",
      "  warnings.warn('{} in param dict is overridden.'.format(cat_alias))\n"
     ]
    },
    {
     "name": "stdout",
     "output_type": "stream",
     "text": [
      "[LightGBM] [Warning] lambda_l2 is set=0.01, reg_lambda=0.0 will be ignored. Current value: lambda_l2=0.01\n",
      "Training until validation scores don't improve for 50 rounds\n",
      "[100]\tvalid_0's auc: 0.669306\tvalid_0's binary_logloss: 0.417016\n",
      "[200]\tvalid_0's auc: 0.674696\tvalid_0's binary_logloss: 0.414368\n",
      "[300]\tvalid_0's auc: 0.677481\tvalid_0's binary_logloss: 0.413318\n",
      "[400]\tvalid_0's auc: 0.679048\tvalid_0's binary_logloss: 0.412805\n",
      "[500]\tvalid_0's auc: 0.679525\tvalid_0's binary_logloss: 0.412636\n",
      "[600]\tvalid_0's auc: 0.68001\tvalid_0's binary_logloss: 0.412544\n",
      "[700]\tvalid_0's auc: 0.680248\tvalid_0's binary_logloss: 0.41251\n",
      "Early stopping, best iteration is:\n",
      "[730]\tvalid_0's auc: 0.680304\tvalid_0's binary_logloss: 0.412499\n"
     ]
    },
    {
     "name": "stderr",
     "output_type": "stream",
     "text": [
      "d:\\kaggle\\sber_plus_nsu\\.venv\\lib\\site-packages\\lightgbm\\basic.py:1551: UserWarning: Using categorical_feature in Dataset.\n",
      "  warnings.warn('Using categorical_feature in Dataset.')\n",
      "d:\\kaggle\\sber_plus_nsu\\.venv\\lib\\site-packages\\lightgbm\\basic.py:1555: UserWarning: categorical_feature in Dataset is overridden.\n",
      "New categorical_feature is ['home_ownership', 'purpose']\n",
      "  'New categorical_feature is {}'.format(sorted(list(categorical_feature))))\n",
      "d:\\kaggle\\sber_plus_nsu\\.venv\\lib\\site-packages\\lightgbm\\basic.py:1286: UserWarning: Overriding the parameters from Reference Dataset.\n",
      "  warnings.warn('Overriding the parameters from Reference Dataset.')\n",
      "d:\\kaggle\\sber_plus_nsu\\.venv\\lib\\site-packages\\lightgbm\\basic.py:1098: UserWarning: categorical_column in param dict is overridden.\n",
      "  warnings.warn('{} in param dict is overridden.'.format(cat_alias))\n"
     ]
    },
    {
     "name": "stdout",
     "output_type": "stream",
     "text": [
      "[LightGBM] [Warning] lambda_l2 is set=0.01, reg_lambda=0.0 will be ignored. Current value: lambda_l2=0.01\n",
      "Training until validation scores don't improve for 50 rounds\n",
      "[100]\tvalid_0's auc: 0.685132\tvalid_0's binary_logloss: 0.413818\n",
      "[200]\tvalid_0's auc: 0.6905\tvalid_0's binary_logloss: 0.41052\n",
      "[300]\tvalid_0's auc: 0.692507\tvalid_0's binary_logloss: 0.409232\n",
      "[400]\tvalid_0's auc: 0.693482\tvalid_0's binary_logloss: 0.408596\n",
      "[500]\tvalid_0's auc: 0.693762\tvalid_0's binary_logloss: 0.408294\n",
      "[600]\tvalid_0's auc: 0.693882\tvalid_0's binary_logloss: 0.40818\n",
      "Early stopping, best iteration is:\n",
      "[637]\tvalid_0's auc: 0.693936\tvalid_0's binary_logloss: 0.408138\n"
     ]
    },
    {
     "name": "stderr",
     "output_type": "stream",
     "text": [
      "d:\\kaggle\\sber_plus_nsu\\.venv\\lib\\site-packages\\lightgbm\\basic.py:1551: UserWarning: Using categorical_feature in Dataset.\n",
      "  warnings.warn('Using categorical_feature in Dataset.')\n",
      "d:\\kaggle\\sber_plus_nsu\\.venv\\lib\\site-packages\\lightgbm\\basic.py:1555: UserWarning: categorical_feature in Dataset is overridden.\n",
      "New categorical_feature is ['home_ownership', 'purpose']\n",
      "  'New categorical_feature is {}'.format(sorted(list(categorical_feature))))\n",
      "d:\\kaggle\\sber_plus_nsu\\.venv\\lib\\site-packages\\lightgbm\\basic.py:1286: UserWarning: Overriding the parameters from Reference Dataset.\n",
      "  warnings.warn('Overriding the parameters from Reference Dataset.')\n",
      "d:\\kaggle\\sber_plus_nsu\\.venv\\lib\\site-packages\\lightgbm\\basic.py:1098: UserWarning: categorical_column in param dict is overridden.\n",
      "  warnings.warn('{} in param dict is overridden.'.format(cat_alias))\n"
     ]
    },
    {
     "name": "stdout",
     "output_type": "stream",
     "text": [
      "[LightGBM] [Warning] lambda_l2 is set=0.01, reg_lambda=0.0 will be ignored. Current value: lambda_l2=0.01\n",
      "Training until validation scores don't improve for 50 rounds\n",
      "[100]\tvalid_0's auc: 0.672897\tvalid_0's binary_logloss: 0.416669\n",
      "[200]\tvalid_0's auc: 0.676405\tvalid_0's binary_logloss: 0.414635\n",
      "[300]\tvalid_0's auc: 0.677927\tvalid_0's binary_logloss: 0.414109\n",
      "[400]\tvalid_0's auc: 0.678992\tvalid_0's binary_logloss: 0.413868\n",
      "Early stopping, best iteration is:\n",
      "[430]\tvalid_0's auc: 0.67919\tvalid_0's binary_logloss: 0.413826\n"
     ]
    },
    {
     "name": "stderr",
     "output_type": "stream",
     "text": [
      "d:\\kaggle\\sber_plus_nsu\\.venv\\lib\\site-packages\\lightgbm\\basic.py:1551: UserWarning: Using categorical_feature in Dataset.\n",
      "  warnings.warn('Using categorical_feature in Dataset.')\n",
      "d:\\kaggle\\sber_plus_nsu\\.venv\\lib\\site-packages\\lightgbm\\basic.py:1555: UserWarning: categorical_feature in Dataset is overridden.\n",
      "New categorical_feature is ['home_ownership', 'purpose']\n",
      "  'New categorical_feature is {}'.format(sorted(list(categorical_feature))))\n",
      "d:\\kaggle\\sber_plus_nsu\\.venv\\lib\\site-packages\\lightgbm\\basic.py:1286: UserWarning: Overriding the parameters from Reference Dataset.\n",
      "  warnings.warn('Overriding the parameters from Reference Dataset.')\n",
      "d:\\kaggle\\sber_plus_nsu\\.venv\\lib\\site-packages\\lightgbm\\basic.py:1098: UserWarning: categorical_column in param dict is overridden.\n",
      "  warnings.warn('{} in param dict is overridden.'.format(cat_alias))\n"
     ]
    },
    {
     "name": "stdout",
     "output_type": "stream",
     "text": [
      "[LightGBM] [Warning] lambda_l2 is set=0.01, reg_lambda=0.0 will be ignored. Current value: lambda_l2=0.01\n",
      "Training until validation scores don't improve for 50 rounds\n",
      "[100]\tvalid_0's auc: 0.685103\tvalid_0's binary_logloss: 0.414352\n",
      "[200]\tvalid_0's auc: 0.689529\tvalid_0's binary_logloss: 0.411554\n",
      "[300]\tvalid_0's auc: 0.692146\tvalid_0's binary_logloss: 0.410412\n",
      "[400]\tvalid_0's auc: 0.693724\tvalid_0's binary_logloss: 0.409799\n",
      "[500]\tvalid_0's auc: 0.693945\tvalid_0's binary_logloss: 0.409642\n",
      "[600]\tvalid_0's auc: 0.694107\tvalid_0's binary_logloss: 0.409573\n",
      "Early stopping, best iteration is:\n",
      "[600]\tvalid_0's auc: 0.694107\tvalid_0's binary_logloss: 0.409573\n",
      "[0]\tvalidation_0-auc:0.61749\n",
      "Will train until validation_0-auc hasn't improved in 150 rounds.\n",
      "[100]\tvalidation_0-auc:0.68140\n",
      "[200]\tvalidation_0-auc:0.68586\n",
      "[300]\tvalidation_0-auc:0.68772\n",
      "[400]\tvalidation_0-auc:0.68861\n",
      "[500]\tvalidation_0-auc:0.68900\n",
      "[600]\tvalidation_0-auc:0.68933\n",
      "[700]\tvalidation_0-auc:0.68937\n",
      "Stopping. Best iteration:\n",
      "[646]\tvalidation_0-auc:0.68954\n",
      "\n",
      "[0]\tvalidation_0-auc:0.60672\n",
      "Will train until validation_0-auc hasn't improved in 150 rounds.\n",
      "[100]\tvalidation_0-auc:0.67397\n",
      "[200]\tvalidation_0-auc:0.67846\n",
      "[300]\tvalidation_0-auc:0.68057\n",
      "[400]\tvalidation_0-auc:0.68165\n",
      "[500]\tvalidation_0-auc:0.68229\n",
      "[600]\tvalidation_0-auc:0.68258\n",
      "[700]\tvalidation_0-auc:0.68261\n",
      "Stopping. Best iteration:\n",
      "[622]\tvalidation_0-auc:0.68270\n",
      "\n",
      "[0]\tvalidation_0-auc:0.62051\n",
      "Will train until validation_0-auc hasn't improved in 150 rounds.\n",
      "[100]\tvalidation_0-auc:0.68936\n",
      "[200]\tvalidation_0-auc:0.69299\n",
      "[300]\tvalidation_0-auc:0.69465\n",
      "[400]\tvalidation_0-auc:0.69532\n",
      "[500]\tvalidation_0-auc:0.69566\n",
      "[600]\tvalidation_0-auc:0.69582\n",
      "[700]\tvalidation_0-auc:0.69579\n",
      "Stopping. Best iteration:\n",
      "[569]\tvalidation_0-auc:0.69590\n",
      "\n",
      "[0]\tvalidation_0-auc:0.61830\n",
      "Will train until validation_0-auc hasn't improved in 150 rounds.\n",
      "[100]\tvalidation_0-auc:0.67410\n",
      "[200]\tvalidation_0-auc:0.67626\n",
      "[300]\tvalidation_0-auc:0.67637\n",
      "[400]\tvalidation_0-auc:0.67628\n",
      "Stopping. Best iteration:\n",
      "[291]\tvalidation_0-auc:0.67657\n",
      "\n",
      "[0]\tvalidation_0-auc:0.62598\n",
      "Will train until validation_0-auc hasn't improved in 150 rounds.\n",
      "[100]\tvalidation_0-auc:0.69116\n",
      "[200]\tvalidation_0-auc:0.69358\n",
      "[300]\tvalidation_0-auc:0.69502\n",
      "[400]\tvalidation_0-auc:0.69571\n",
      "[500]\tvalidation_0-auc:0.69605\n",
      "[600]\tvalidation_0-auc:0.69626\n",
      "[700]\tvalidation_0-auc:0.69632\n",
      "[800]\tvalidation_0-auc:0.69637\n",
      "[900]\tvalidation_0-auc:0.69634\n",
      "[1000]\tvalidation_0-auc:0.69641\n",
      "Stopping. Best iteration:\n",
      "[878]\tvalidation_0-auc:0.69645\n",
      "\n"
     ]
    }
   ],
   "source": [
    "skf = StratifiedKFold(n_splits=5, random_state=18, shuffle=True)\n",
    "cb_scores, cb_result, cb_oof_result = do_cv(\n",
    "    catboost_train,\n",
    "    catboost_test,\n",
    "    catboost_train['def'],\n",
    "    catboost_columns,\n",
    "    catboost_cat_features,\n",
    "    catboost_params,\n",
    "    skf,\n",
    "    'catboost'\n",
    ")\n",
    "\n",
    "lr_scores, lr_result, lr_oof_result = do_cv(\n",
    "    logreg_train,\n",
    "    logreg_test,\n",
    "    logreg_train['def'],\n",
    "    lr_cols,\n",
    "    [],\n",
    "    lr_params,\n",
    "    skf,\n",
    "    'logreg',\n",
    ")\n",
    "\n",
    "skf = StratifiedKFold(n_splits=5, random_state=21, shuffle=True)\n",
    "lgbm_scores, lgbm_result, lgbm_oof_result = do_cv(\n",
    "    lgbm_train,\n",
    "    lgbm_test,\n",
    "    lgbm_train['def'],\n",
    "    lgbm_columns,\n",
    "    lgbm_cat_features,\n",
    "    lgbm_params,\n",
    "    skf,\n",
    "    'lgbm'\n",
    ")\n",
    "\n",
    "knn_scores, knn_result, knn_oof_result = do_cv(\n",
    "    logreg_train,\n",
    "    logreg_test,\n",
    "    logreg_train['def'],\n",
    "    knn_columns,\n",
    "    [],\n",
    "    knn_params,\n",
    "    skf,\n",
    "    'knn'\n",
    ")\n",
    "\n",
    "xgb_scores, xgb_result, xgb_oof_result = do_cv(\n",
    "    lgbm_train,\n",
    "    lgbm_test,\n",
    "    lgbm_train['def'],\n",
    "    xgb_columns,\n",
    "    [],\n",
    "    xgb_params,\n",
    "    skf,\n",
    "    'xgboost'\n",
    ")"
   ]
  },
  {
   "cell_type": "code",
   "execution_count": 149,
   "metadata": {},
   "outputs": [],
   "source": [
    "new_train_df = pd.DataFrame({\n",
    "    'lr':lr_oof_result,\n",
    "    'cb':cb_oof_result,\n",
    "    'lgbm': lgbm_oof_result,\n",
    "    'knn': knn_oof_result,\n",
    "    'xgb': xgb_oof_result,\n",
    "})\n",
    "new_test_df = pd.DataFrame({\n",
    "    'lr':lr_result,\n",
    "    'cb':cb_result,\n",
    "    'lgbm': lgbm_result,\n",
    "    'knn': knn_result,\n",
    "    'xgb': xgb_result,\n",
    "})"
   ]
  },
  {
   "cell_type": "code",
   "execution_count": 150,
   "metadata": {},
   "outputs": [
    {
     "data": {
      "text/plain": [
       "0.6878757217915781"
      ]
     },
     "execution_count": 150,
     "metadata": {},
     "output_type": "execute_result"
    }
   ],
   "source": [
    "roc_auc_score(logreg_train['def'], new_train_df.mean(axis=1))"
   ]
  },
  {
   "cell_type": "code",
   "execution_count": 151,
   "metadata": {},
   "outputs": [
    {
     "name": "stdout",
     "output_type": "stream",
     "text": [
      "lr 0.6852537514810764\n",
      "cb 0.6852127164007448\n",
      "lgbm 0.6873081371131118\n",
      "knn 0.6680741128144796\n",
      "xgb 0.6882096363151927\n"
     ]
    }
   ],
   "source": [
    "for col in new_train_df:\n",
    "    print(col, roc_auc_score(logreg_train['def'], new_train_df[col]))"
   ]
  },
  {
   "cell_type": "code",
   "execution_count": 158,
   "metadata": {},
   "outputs": [],
   "source": [
    "lr = LogisticRegression(C=1, solver='liblinear')\n",
    "scores = cross_val_score(lr, new_train_df, logreg_train['def'], cv=5, scoring='roc_auc')"
   ]
  },
  {
   "cell_type": "code",
   "execution_count": 159,
   "metadata": {},
   "outputs": [
    {
     "data": {
      "text/plain": [
       "(0.6887594771265508, 0.007202475393397213)"
      ]
     },
     "execution_count": 159,
     "metadata": {},
     "output_type": "execute_result"
    }
   ],
   "source": [
    "np.mean(scores), np.std(scores)"
   ]
  },
  {
   "cell_type": "code",
   "execution_count": 161,
   "metadata": {},
   "outputs": [],
   "source": [
    "lr_f_scores, lr_f_result, lr_f_oof_result = do_cv(\n",
    "    new_train_df,\n",
    "    new_test_df,\n",
    "    logreg_train['def'],\n",
    "    new_train_df.columns,\n",
    "    [],\n",
    "    {},\n",
    "    skf,\n",
    "    'logreg',\n",
    ")"
   ]
  },
  {
   "cell_type": "code",
   "execution_count": 164,
   "metadata": {},
   "outputs": [],
   "source": [
    "logreg_test['prob'] = lr_f_result"
   ]
  },
  {
   "cell_type": "code",
   "execution_count": 166,
   "metadata": {},
   "outputs": [],
   "source": [
    "logreg_test[['id', 'prob']].to_csv('blend_submission.csv', index=False)"
   ]
  }
 ],
 "metadata": {
  "kernelspec": {
   "display_name": "Python 3",
   "language": "python",
   "name": "python3"
  },
  "language_info": {
   "codemirror_mode": {
    "name": "ipython",
    "version": 3
   },
   "file_extension": ".py",
   "mimetype": "text/x-python",
   "name": "python",
   "nbconvert_exporter": "python",
   "pygments_lexer": "ipython3",
   "version": "3.7.3"
  }
 },
 "nbformat": 4,
 "nbformat_minor": 2
}
